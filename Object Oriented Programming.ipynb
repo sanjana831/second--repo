{
 "cells": [
  {
   "cell_type": "code",
   "execution_count": 2,
   "id": "26e7035c",
   "metadata": {},
   "outputs": [],
   "source": [
    "class Phone():\n",
    "    def Make_call(self):\n",
    "        print(\"Making a call\")\n",
    "    def Playing_game(self):\n",
    "        print(\"I am playing a game\")"
   ]
  },
  {
   "cell_type": "code",
   "execution_count": 3,
   "id": "46c88c0f",
   "metadata": {},
   "outputs": [],
   "source": [
    "p1=Phone()"
   ]
  },
  {
   "cell_type": "code",
   "execution_count": 4,
   "id": "0aa41adb",
   "metadata": {},
   "outputs": [
    {
     "name": "stdout",
     "output_type": "stream",
     "text": [
      "Making a call\n"
     ]
    }
   ],
   "source": [
    "p1.Make_call()"
   ]
  },
  {
   "cell_type": "code",
   "execution_count": 5,
   "id": "99bfbad8",
   "metadata": {},
   "outputs": [
    {
     "name": "stdout",
     "output_type": "stream",
     "text": [
      "I am playing a game\n"
     ]
    }
   ],
   "source": [
    "p1.Playing_game()"
   ]
  },
  {
   "cell_type": "code",
   "execution_count": 6,
   "id": "933f40e0",
   "metadata": {},
   "outputs": [
    {
     "name": "stdout",
     "output_type": "stream",
     "text": [
      "Making a call\n"
     ]
    }
   ],
   "source": [
    "Phone().Make_call()"
   ]
  },
  {
   "cell_type": "code",
   "execution_count": 15,
   "id": "5c2ea142",
   "metadata": {},
   "outputs": [],
   "source": [
    "class Phone():\n",
    "    def set_color(self,color):\n",
    "        self.color=color\n",
    "    def set_cost(self,cost):\n",
    "        self.cost=cost\n",
    "    def show_color(self):\n",
    "        return self.color\n",
    "    def show_cost(self):\n",
    "        return self.cost\n",
    "    def Make_call(self):\n",
    "        print(\"Making a call\")\n",
    "    def Playing_game(self):\n",
    "        print(\"I am playing a game\")"
   ]
  },
  {
   "cell_type": "code",
   "execution_count": 18,
   "id": "fe01d467",
   "metadata": {},
   "outputs": [],
   "source": [
    "p2=Phone()"
   ]
  },
  {
   "cell_type": "code",
   "execution_count": 9,
   "id": "9aa222fa",
   "metadata": {},
   "outputs": [],
   "source": [
    "p2.set_color(\"orange\")"
   ]
  },
  {
   "cell_type": "code",
   "execution_count": 19,
   "id": "857027d2",
   "metadata": {},
   "outputs": [],
   "source": [
    "p2.set_cost(555)"
   ]
  },
  {
   "cell_type": "code",
   "execution_count": 11,
   "id": "dd0106fa",
   "metadata": {},
   "outputs": [
    {
     "data": {
      "text/plain": [
       "'orange'"
      ]
     },
     "execution_count": 11,
     "metadata": {},
     "output_type": "execute_result"
    }
   ],
   "source": [
    "p2.show_color()"
   ]
  },
  {
   "cell_type": "code",
   "execution_count": 20,
   "id": "0826d565",
   "metadata": {},
   "outputs": [
    {
     "data": {
      "text/plain": [
       "555"
      ]
     },
     "execution_count": 20,
     "metadata": {},
     "output_type": "execute_result"
    }
   ],
   "source": [
    "p2.show_cost()"
   ]
  },
  {
   "cell_type": "markdown",
   "id": "d9d8b1a2",
   "metadata": {},
   "source": [
    "### Constructor"
   ]
  },
  {
   "cell_type": "code",
   "execution_count": 25,
   "id": "42435ae6",
   "metadata": {},
   "outputs": [],
   "source": [
    "class Employee():\n",
    "    def __init__(self,name,age,gender,salary): #init method as constructor\n",
    "        self.name=name\n",
    "        self.age=age\n",
    "        self.gender=gender\n",
    "        self.salary=salary\n",
    "    def employee_details(self):\n",
    "        print(\"Name of employee is\",self.name)\n",
    "        print(\"Age of employee is\",self.age)\n",
    "        print(\"Gender of employee is\",self.gender)\n",
    "        print(\"Salary of employee is\",self.salary)"
   ]
  },
  {
   "cell_type": "code",
   "execution_count": 26,
   "id": "c8cd2127",
   "metadata": {},
   "outputs": [],
   "source": [
    "#instantiating the 'e1' object\n",
    "e1=Employee(\"sam\",32,'Male',85000)"
   ]
  },
  {
   "cell_type": "code",
   "execution_count": 27,
   "id": "06374542",
   "metadata": {},
   "outputs": [
    {
     "name": "stdout",
     "output_type": "stream",
     "text": [
      "Name of employee is sam\n",
      "Age of employee is 32\n",
      "Gender of employee is Male\n",
      "Salary of employee is 85000\n"
     ]
    }
   ],
   "source": [
    "#invoking employee details method\n",
    "e1.employee_details()"
   ]
  },
  {
   "cell_type": "markdown",
   "id": "349093b5",
   "metadata": {},
   "source": [
    "### Inheritance topic"
   ]
  },
  {
   "cell_type": "code",
   "execution_count": 51,
   "id": "8e23d0bd",
   "metadata": {},
   "outputs": [],
   "source": [
    "#creating a parent class\n",
    "class Vehicle():\n",
    "    def __init__(self,mileage,cost):\n",
    "        self.mileage=mileage\n",
    "        self.cost=cost\n",
    "    def show_veh_details(self):\n",
    "        print(\"I am a vehicle\")\n",
    "        print(\"Mileage of vehicle is\",self.mileage)\n",
    "        print(\"Cost of vehicle is\",self.cost)"
   ]
  },
  {
   "cell_type": "code",
   "execution_count": 52,
   "id": "62c92e97",
   "metadata": {},
   "outputs": [],
   "source": [
    "v1=Vehicle(500,500)"
   ]
  },
  {
   "cell_type": "code",
   "execution_count": 53,
   "id": "8c2db933",
   "metadata": {},
   "outputs": [
    {
     "name": "stdout",
     "output_type": "stream",
     "text": [
      "I am a vehicle\n",
      "Mileage of vehicle is 500\n",
      "Cost of vehicle is 500\n"
     ]
    }
   ],
   "source": [
    "v1.show_veh_details()"
   ]
  },
  {
   "cell_type": "code",
   "execution_count": 57,
   "id": "b8d06e05",
   "metadata": {},
   "outputs": [],
   "source": [
    "#creating a child class\n",
    "class car(Vehicle):\n",
    "    def show_car(self):\n",
    "        print(\"I am a car\")"
   ]
  },
  {
   "cell_type": "code",
   "execution_count": 60,
   "id": "0530cd96",
   "metadata": {},
   "outputs": [],
   "source": [
    "#instantiating the object for child class\n",
    "c1=car(200,1200)"
   ]
  },
  {
   "cell_type": "code",
   "execution_count": 61,
   "id": "44f1b3e9",
   "metadata": {},
   "outputs": [
    {
     "name": "stdout",
     "output_type": "stream",
     "text": [
      "I am a vehicle\n",
      "Mileage of vehicle is 200\n",
      "Cost of vehicle is 1200\n"
     ]
    }
   ],
   "source": [
    "c1.show_veh_details()"
   ]
  },
  {
   "cell_type": "code",
   "execution_count": 62,
   "id": "1268896b",
   "metadata": {},
   "outputs": [
    {
     "name": "stdout",
     "output_type": "stream",
     "text": [
      "I am a car\n"
     ]
    }
   ],
   "source": [
    "c1.show_car()"
   ]
  },
  {
   "cell_type": "markdown",
   "id": "b22a91eb",
   "metadata": {},
   "source": [
    "### Over-riding init method"
   ]
  },
  {
   "cell_type": "code",
   "execution_count": 66,
   "id": "0e454fbd",
   "metadata": {},
   "outputs": [],
   "source": [
    "class Car(Vehicle):\n",
    "    def __init__(self,mileage,cost,tyres,hp):\n",
    "        super().__init__(mileage,cost)\n",
    "        self.tyres=tyres\n",
    "        self.hp=hp\n",
    "    def show_car_details(self):\n",
    "        print(\"I am a car\")\n",
    "        print(\"Number of tyres are\",self.tyres)\n",
    "        print(\"Value of horse power is\",self.hp)"
   ]
  },
  {
   "cell_type": "code",
   "execution_count": 67,
   "id": "6b81977b",
   "metadata": {},
   "outputs": [],
   "source": [
    "c1=Car(20,12000,4,300)"
   ]
  },
  {
   "cell_type": "code",
   "execution_count": 69,
   "id": "7a28f39d",
   "metadata": {},
   "outputs": [
    {
     "name": "stdout",
     "output_type": "stream",
     "text": [
      "I am a vehicle\n",
      "Mileage of vehicle is 20\n",
      "Cost of vehicle is 12000\n"
     ]
    }
   ],
   "source": [
    "c1.show_veh_details()"
   ]
  },
  {
   "cell_type": "code",
   "execution_count": 70,
   "id": "2c6262ab",
   "metadata": {},
   "outputs": [
    {
     "name": "stdout",
     "output_type": "stream",
     "text": [
      "I am a car\n",
      "Number of tyres are 4\n",
      "Value of horse power is 300\n"
     ]
    }
   ],
   "source": [
    "c1.show_car_details()"
   ]
  },
  {
   "cell_type": "markdown",
   "id": "3931b44f",
   "metadata": {},
   "source": [
    "### Coding Ninjas Guided Path OOPs"
   ]
  },
  {
   "cell_type": "code",
   "execution_count": null,
   "id": "f3f7052d",
   "metadata": {},
   "outputs": [],
   "source": []
  }
 ],
 "metadata": {
  "kernelspec": {
   "display_name": "Python 3",
   "language": "python",
   "name": "python3"
  },
  "language_info": {
   "codemirror_mode": {
    "name": "ipython",
    "version": 3
   },
   "file_extension": ".py",
   "mimetype": "text/x-python",
   "name": "python",
   "nbconvert_exporter": "python",
   "pygments_lexer": "ipython3",
   "version": "3.8.8"
  }
 },
 "nbformat": 4,
 "nbformat_minor": 5
}
