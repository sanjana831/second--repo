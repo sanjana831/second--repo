{
 "cells": [
  {
   "cell_type": "markdown",
   "id": "31e44774",
   "metadata": {},
   "source": [
    "### GCD of two numbers"
   ]
  },
  {
   "cell_type": "code",
   "execution_count": 31,
   "id": "d811d341",
   "metadata": {},
   "outputs": [
    {
     "name": "stdout",
     "output_type": "stream",
     "text": [
      "8\n",
      "12\n",
      "[1, 2, 4]\n",
      "[1, 2, 3, 4, 6]\n",
      "gcd =  4\n"
     ]
    }
   ],
   "source": [
    "a = int(input())\n",
    "b = int(input())\n",
    "li1 = []\n",
    "li2 = []\n",
    "gcd = 0\n",
    "for i in range(1,a):\n",
    "    if a % i == 0:\n",
    "        li1.append(i)\n",
    "print(li1)\n",
    "for j in range(1,b):\n",
    "    if b % j == 0:\n",
    "        li2.append(j)\n",
    "print(li2)\n",
    "n =len(li1)\n",
    "m = len(li2)\n",
    "if n < m:\n",
    "    for ele in li1:\n",
    "        if ele in li2:\n",
    "            if ele > gcd:\n",
    "                gcd = ele\n",
    "    print(\"gcd = \",gcd)\n",
    "else:\n",
    "    for ele in li2:\n",
    "        if ele in li1:\n",
    "            if ele > gcd:\n",
    "                gcd = ele\n",
    "    print(\"gcd = \",gcd)"
   ]
  },
  {
   "cell_type": "markdown",
   "id": "9e961f6a",
   "metadata": {},
   "source": [
    "### Alternate GCD"
   ]
  },
  {
   "cell_type": "code",
   "execution_count": 39,
   "id": "2cb37ac1",
   "metadata": {},
   "outputs": [
    {
     "name": "stdout",
     "output_type": "stream",
     "text": [
      "4\n"
     ]
    }
   ],
   "source": [
    "def gcd_finder(m,n):\n",
    "    for i in range(1,min(m,n)+1):\n",
    "        if m%i==0 and n%i==0:\n",
    "            gcd=i\n",
    "    return gcd\n",
    "print(gcd_finder(12,8))"
   ]
  },
  {
   "cell_type": "markdown",
   "id": "790c679a",
   "metadata": {},
   "source": [
    "# Lists are Mutable"
   ]
  },
  {
   "cell_type": "code",
   "execution_count": 5,
   "id": "2155a4b8",
   "metadata": {},
   "outputs": [
    {
     "name": "stdout",
     "output_type": "stream",
     "text": [
      "[1, 2, 3, 4]\n",
      "[1, 2, 3, 4]\n",
      "[1, 2, 3, 5]\n",
      "[1, 2, 3, 5]\n"
     ]
    }
   ],
   "source": [
    "li = [1,2,3,4]\n",
    "print(li)\n",
    "li_1=li\n",
    "print(li_1)\n",
    "li[3]=5\n",
    "print(li)\n",
    "print(li_1)\n"
   ]
  },
  {
   "cell_type": "markdown",
   "id": "6d71e636",
   "metadata": {},
   "source": [
    "# Array modules are different from Lists in Python"
   ]
  },
  {
   "cell_type": "code",
   "execution_count": 7,
   "id": "6f9e1a98",
   "metadata": {},
   "outputs": [
    {
     "name": "stdout",
     "output_type": "stream",
     "text": [
      "array('i', [1, 2, 3])\n",
      "1\n",
      "2\n",
      "3\n"
     ]
    }
   ],
   "source": [
    "import array\n",
    "\n",
    "sample_array = array.array('i',[1,2,3])\n",
    "print(sample_array)\n",
    "for i in sample_array:\n",
    "    print(i)"
   ]
  },
  {
   "cell_type": "markdown",
   "id": "01cdbef2",
   "metadata": {},
   "source": [
    "# Binary Search"
   ]
  },
  {
   "cell_type": "code",
   "execution_count": 11,
   "id": "2a9757ea",
   "metadata": {},
   "outputs": [
    {
     "name": "stdout",
     "output_type": "stream",
     "text": [
      "False\n"
     ]
    }
   ],
   "source": [
    "def bin_search(x):\n",
    "    n=len(li)\n",
    "    l=li[0]\n",
    "    h=li[n-1]\n",
    "    mid = l+h//2\n",
    "\n",
    "li = [1,2,3,4,5,6,7,8,9]\n",
    "print(bin_search(4))"
   ]
  },
  {
   "cell_type": "markdown",
   "id": "09cddcb2",
   "metadata": {},
   "source": [
    "# Minimum no. of plus required"
   ]
  },
  {
   "cell_type": "code",
   "execution_count": 4,
   "id": "50e5c169",
   "metadata": {},
   "outputs": [
    {
     "name": "stdout",
     "output_type": "stream",
     "text": [
      "1\n"
     ]
    }
   ],
   "source": [
    "def req_plus(A):\n",
    "    A = A.split(\"=\")\n",
    "    ele1 = A[0]\n",
    "    ele2 = A[1]\n",
    "    n1 = len(ele1)\n",
    "    sum = 0\n",
    "    if n1 == 2:\n",
    "        for i in ele1:\n",
    "            i = int(i)\n",
    "            sum = sum + i\n",
    "        if sum == int(ele2):\n",
    "            return 1\n",
    "    \n",
    "A = \"23=5\"\n",
    "result = req_plus(A)\n",
    "print(result)"
   ]
  },
  {
   "cell_type": "code",
   "execution_count": 26,
   "id": "5e45e7fe",
   "metadata": {},
   "outputs": [
    {
     "name": "stdout",
     "output_type": "stream",
     "text": [
      "1\n"
     ]
    }
   ],
   "source": [
    "def req_plus(A):\n",
    "    A = A.split(\"=\")\n",
    "    ele1 = A[0]\n",
    "    ele2 = A[1]\n",
    "    n1 = len(ele1)\n",
    "    sum = 0\n",
    "    if n1 == 2:\n",
    "        for i in ele1:\n",
    "            i = int(i)\n",
    "            sum = sum + i\n",
    "        if sum == int(ele2):\n",
    "            return 1\n",
    "    #if n1 == 3:\n",
    "    else:\n",
    "        for i in ele1:\n",
    "            i = int(i)\n",
    "            sum = sum + i\n",
    "        if sum == int(ele2):\n",
    "            return n1-1\n",
    "        sum = 0\n",
    "        if int(ele1[-1]) + int(ele1[0:n1-1]) == int(ele2):\n",
    "            return 1\n",
    "        elif int(ele1[1:n1]) + int(ele1[0])  == int(ele2):\n",
    "            return 1\n",
    "        elif int(ele1[0:2]) + int(ele1[2:n]) == int(ele2):\n",
    "            return 1\n",
    "    \n",
    "A = \"1325=38\"\n",
    "result = req_plus(A)\n",
    "print(result)"
   ]
  },
  {
   "cell_type": "code",
   "execution_count": 24,
   "id": "41afce82",
   "metadata": {},
   "outputs": [
    {
     "name": "stdout",
     "output_type": "stream",
     "text": [
      "4\n",
      "5\n",
      "132\n",
      "325\n",
      "13\n",
      "25\n"
     ]
    }
   ],
   "source": [
    "sam = '1325'\n",
    "n = len(sam)\n",
    "print(n)\n",
    "print(sam[-1])\n",
    "print(sam[0:n-1])\n",
    "print(sam[1:n])\n",
    "\n",
    "sam1 = '1325'\n",
    "print(sam1[0:2])\n",
    "print(sam[2:n])"
   ]
  },
  {
   "cell_type": "code",
   "execution_count": null,
   "id": "39d0cd16",
   "metadata": {},
   "outputs": [],
   "source": []
  }
 ],
 "metadata": {
  "kernelspec": {
   "display_name": "Python 3",
   "language": "python",
   "name": "python3"
  },
  "language_info": {
   "codemirror_mode": {
    "name": "ipython",
    "version": 3
   },
   "file_extension": ".py",
   "mimetype": "text/x-python",
   "name": "python",
   "nbconvert_exporter": "python",
   "pygments_lexer": "ipython3",
   "version": "3.8.8"
  }
 },
 "nbformat": 4,
 "nbformat_minor": 5
}
