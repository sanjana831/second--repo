{
 "cells": [
  {
   "cell_type": "markdown",
   "id": "c62b6dd9",
   "metadata": {},
   "source": [
    "# operations on list/array"
   ]
  },
  {
   "cell_type": "code",
   "execution_count": 1,
   "id": "e750f7a7",
   "metadata": {},
   "outputs": [
    {
     "name": "stdout",
     "output_type": "stream",
     "text": [
      "['sugar', 'tea bags', 'milk', 'biscuit']\n"
     ]
    }
   ],
   "source": [
    "# shortcut to comment multiple lines at a time (Ctrl + /)\n",
    "\n",
    "li = ['sugar','tea bags', 'milk', 'biscuit']\n",
    "print(li)"
   ]
  },
  {
   "cell_type": "code",
   "execution_count": 2,
   "id": "68194634",
   "metadata": {},
   "outputs": [],
   "source": [
    "li.insert(1,\"salt\")"
   ]
  },
  {
   "cell_type": "code",
   "execution_count": 3,
   "id": "82ff9bca",
   "metadata": {},
   "outputs": [
    {
     "name": "stdout",
     "output_type": "stream",
     "text": [
      "['sugar', 'salt', 'tea bags', 'milk', 'biscuit']\n"
     ]
    }
   ],
   "source": [
    "print(li)"
   ]
  },
  {
   "cell_type": "code",
   "execution_count": 5,
   "id": "8b5df2b0",
   "metadata": {},
   "outputs": [],
   "source": [
    "li.remove('salt')"
   ]
  },
  {
   "cell_type": "code",
   "execution_count": 6,
   "id": "3781dcea",
   "metadata": {},
   "outputs": [
    {
     "name": "stdout",
     "output_type": "stream",
     "text": [
      "['sugar', 'tea bags', 'milk', 'biscuit']\n"
     ]
    }
   ],
   "source": [
    "print(li)"
   ]
  },
  {
   "cell_type": "code",
   "execution_count": 7,
   "id": "6b92a8f7",
   "metadata": {},
   "outputs": [],
   "source": [
    "li.remove('milk')"
   ]
  },
  {
   "cell_type": "code",
   "execution_count": 8,
   "id": "afa0c229",
   "metadata": {},
   "outputs": [
    {
     "name": "stdout",
     "output_type": "stream",
     "text": [
      "['sugar', 'tea bags', 'biscuit']\n"
     ]
    }
   ],
   "source": [
    "print(li)"
   ]
  },
  {
   "cell_type": "code",
   "execution_count": 10,
   "id": "95a8d04f",
   "metadata": {},
   "outputs": [],
   "source": [
    "li.append('juice')"
   ]
  },
  {
   "cell_type": "code",
   "execution_count": 11,
   "id": "449f27b7",
   "metadata": {},
   "outputs": [
    {
     "name": "stdout",
     "output_type": "stream",
     "text": [
      "['sugar', 'tea bags', 'biscuit', 'juice']\n"
     ]
    }
   ],
   "source": [
    "print(li)"
   ]
  },
  {
   "cell_type": "code",
   "execution_count": 12,
   "id": "6839345e",
   "metadata": {},
   "outputs": [],
   "source": [
    "li.append('vegetables')"
   ]
  },
  {
   "cell_type": "code",
   "execution_count": 13,
   "id": "564e3142",
   "metadata": {},
   "outputs": [
    {
     "name": "stdout",
     "output_type": "stream",
     "text": [
      "['sugar', 'tea bags', 'biscuit', 'juice', 'vegetables']\n"
     ]
    }
   ],
   "source": [
    "print(li)"
   ]
  },
  {
   "cell_type": "markdown",
   "id": "8c4d21a4",
   "metadata": {},
   "source": [
    "# linked list"
   ]
  },
  {
   "cell_type": "code",
   "execution_count": 1,
   "id": "f0693c36",
   "metadata": {},
   "outputs": [
    {
     "name": "stdout",
     "output_type": "stream",
     "text": [
      "13\n",
      "15\n",
      "<__main__.Node object at 0x000001EA3CE54130>\n",
      "15\n",
      "<__main__.Node object at 0x000001EA3CE54100>\n",
      "<__main__.Node object at 0x000001EA3CE54130>\n",
      "None\n"
     ]
    }
   ],
   "source": [
    "class Node:\n",
    "    def __init__(self,data):\n",
    "        self.data = data\n",
    "        self.next = None\n",
    "a = Node(13)\n",
    "b = Node(15)\n",
    "a.next = b\n",
    "print(a.data)\n",
    "print(b.data)\n",
    "print(a.next)\n",
    "print(a.next.data)\n",
    "print(a)\n",
    "print(b)\n",
    "print(b.next)"
   ]
  },
  {
   "cell_type": "code",
   "execution_count": 2,
   "id": "e780fa8a",
   "metadata": {},
   "outputs": [
    {
     "ename": "AttributeError",
     "evalue": "'NoneType' object has no attribute 'data'",
     "output_type": "error",
     "traceback": [
      "\u001b[1;31m---------------------------------------------------------------------------\u001b[0m",
      "\u001b[1;31mAttributeError\u001b[0m                            Traceback (most recent call last)",
      "\u001b[1;32m<ipython-input-2-4c5e4022a8f6>\u001b[0m in \u001b[0;36m<module>\u001b[1;34m\u001b[0m\n\u001b[1;32m----> 1\u001b[1;33m \u001b[0mprint\u001b[0m\u001b[1;33m(\u001b[0m\u001b[0mb\u001b[0m\u001b[1;33m.\u001b[0m\u001b[0mnext\u001b[0m\u001b[1;33m.\u001b[0m\u001b[0mdata\u001b[0m\u001b[1;33m)\u001b[0m\u001b[1;33m\u001b[0m\u001b[1;33m\u001b[0m\u001b[0m\n\u001b[0m",
      "\u001b[1;31mAttributeError\u001b[0m: 'NoneType' object has no attribute 'data'"
     ]
    }
   ],
   "source": [
    "print(b.next.data)"
   ]
  },
  {
   "cell_type": "markdown",
   "id": "9a00516b",
   "metadata": {},
   "source": [
    "# taking input to form a linked list"
   ]
  },
  {
   "cell_type": "code",
   "execution_count": 6,
   "id": "2ee5f189",
   "metadata": {},
   "outputs": [],
   "source": [
    "# aim is to take the input and form linkedList and at last return head\n",
    "# takes the space separated input\n",
    "\n",
    "class LL:\n",
    "    def __init__(self,data):\n",
    "        self.data = data\n",
    "        self.next = None\n",
    "    \n",
    "    \n",
    "def takeInput():\n",
    "    inputList = [int(x) for x in input().split()]\n",
    "    head = None\n",
    "    for currData in inputList:\n",
    "        if currData == -1:\n",
    "            break\n",
    "        newNode = LL(currData)\n",
    "        if head is None:\n",
    "            head = newNode\n",
    "        else:\n",
    "            curr = head\n",
    "            while curr.next is not None:\n",
    "                curr = curr.next\n",
    "            curr.next = newNode\n",
    "    return head"
   ]
  },
  {
   "cell_type": "code",
   "execution_count": 7,
   "id": "07e61c6a",
   "metadata": {},
   "outputs": [
    {
     "name": "stdout",
     "output_type": "stream",
     "text": [
      "1 2 3 4 5 -1\n"
     ]
    },
    {
     "data": {
      "text/plain": [
       "<__main__.LL at 0x1ea3ce12b50>"
      ]
     },
     "execution_count": 7,
     "metadata": {},
     "output_type": "execute_result"
    }
   ],
   "source": [
    "takeInput()"
   ]
  },
  {
   "cell_type": "markdown",
   "id": "0421df46",
   "metadata": {},
   "source": [
    "# printing linkedList"
   ]
  },
  {
   "cell_type": "code",
   "execution_count": 7,
   "id": "ec353aa7",
   "metadata": {},
   "outputs": [
    {
     "name": "stdout",
     "output_type": "stream",
     "text": [
      "1 3 5 8 2 -1\n",
      "1→3→5→8→2→None\n"
     ]
    }
   ],
   "source": [
    "class LL:\n",
    "    def __init__(self,data):\n",
    "        self.data = data\n",
    "        self.next = None\n",
    "    \n",
    "def printLL(head):\n",
    "    while head is not None:\n",
    "        print(str(head.data) + '→', end = \"\")   # shortcut for arrow is (Alt + 2 6)\n",
    "        head = head.next\n",
    "    return None\n",
    "def takeInput():\n",
    "    inputList = [int(x) for x in input().split()]\n",
    "    head = None\n",
    "    for currData in inputList:\n",
    "        if currData == -1:\n",
    "            break\n",
    "        newNode = LL(currData)\n",
    "        if head is None:\n",
    "            head = newNode\n",
    "        else:\n",
    "            curr = head\n",
    "            while curr.next is not None:\n",
    "                curr = curr.next\n",
    "            curr.next = newNode\n",
    "    return head\n",
    "head = takeInput()\n",
    "print(printLL(head))"
   ]
  },
  {
   "cell_type": "code",
   "execution_count": 6,
   "id": "6d86d105",
   "metadata": {},
   "outputs": [],
   "source": [
    "# but the above code is not optimized\n",
    "# the time complexity of the above code is O(n2)\n",
    "# the time taken is for traversing the input and assigning the next to it"
   ]
  },
  {
   "cell_type": "code",
   "execution_count": 8,
   "id": "8b8f6fcf",
   "metadata": {},
   "outputs": [],
   "source": [
    "# trying for optimized solution"
   ]
  },
  {
   "cell_type": "code",
   "execution_count": 18,
   "id": "d0b4f6cb",
   "metadata": {
    "scrolled": true
   },
   "outputs": [
    {
     "name": "stdout",
     "output_type": "stream",
     "text": [
      "1 2 3 4 5 -1\n",
      "<__main__.LinkedList object at 0x0000029FE22F71F0>\n",
      "1→2→3→4→5→None\n"
     ]
    }
   ],
   "source": [
    "class LinkedList:\n",
    "    def __init__(self,data):\n",
    "        self.data = data\n",
    "        self.next = None\n",
    "    \n",
    "def PrintLL(head):\n",
    "    while head is not None:\n",
    "        print(str(head.data) + '→', end = '')\n",
    "        head = head.next\n",
    "    return None\n",
    "    \n",
    "    \n",
    "def takeInput():\n",
    "    head = None\n",
    "    tail = None\n",
    "    Input = [int(x) for x in input().split()]\n",
    "    for ele in Input:\n",
    "        if ele == -1:\n",
    "            break\n",
    "        NewNode = LinkedList(ele)\n",
    "        if head is None:\n",
    "            head = NewNode\n",
    "            tail = NewNode\n",
    "        else:\n",
    "            tail.next = NewNode\n",
    "            tail = NewNode\n",
    "    return head\n",
    "\n",
    "head = takeInput()\n",
    "print(head)\n",
    "print(PrintLL(head))"
   ]
  },
  {
   "cell_type": "code",
   "execution_count": 16,
   "id": "77bbcec7",
   "metadata": {},
   "outputs": [
    {
     "name": "stdout",
     "output_type": "stream",
     "text": [
      "11 21 "
     ]
    }
   ],
   "source": [
    "class Node:\n",
    "    def __init__(self,data):\n",
    "        self.data = data\n",
    "        self.next = None\n",
    "\n",
    "def printLL(head):\n",
    "    while head is not None:\n",
    "        print(head.data,end = ' ')\n",
    "        head = head.next\n",
    "        \n",
    "def increment(head):\n",
    "    temp = head\n",
    "    while temp is not None:\n",
    "        temp.data += 1\n",
    "        temp = temp.next\n",
    "        \n",
    "Node1 = Node(10)\n",
    "Node2 = Node(20)\n",
    "Node1.next = Node2\n",
    "increment(Node1)\n",
    "printLL(Node1)"
   ]
  },
  {
   "cell_type": "code",
   "execution_count": 8,
   "id": "e23693f2",
   "metadata": {},
   "outputs": [
    {
     "name": "stdout",
     "output_type": "stream",
     "text": [
      "[1, 2, 3, 4, 5]\n"
     ]
    }
   ],
   "source": [
    "li = [1,2,3,4,5,-1]\n",
    "print(li[:-1])"
   ]
  },
  {
   "cell_type": "code",
   "execution_count": 1,
   "id": "0d5cb4ed",
   "metadata": {},
   "outputs": [
    {
     "name": "stdout",
     "output_type": "stream",
     "text": [
      "1 2 3 4 5 -1\n",
      "[1, 2, 3, 4, 5]\n",
      "5\n"
     ]
    }
   ],
   "source": [
    "class Node:\n",
    "    def __init__(self, data):\n",
    "        self.data = data\n",
    "        self.next = None\n",
    "\n",
    "def length(head):\n",
    "    curr = head\n",
    "    cnt = 0\n",
    "    while curr is not None:\n",
    "        cnt += 1\n",
    "        curr = curr.next\n",
    "        \n",
    "    return cnt\n",
    "\n",
    "def ll(arr):\n",
    "    print(arr)\n",
    "    if len(arr)==0:\n",
    "        return None\n",
    "    head = Node(arr[0])\n",
    "    last = head\n",
    "    for data in arr[1:]:\n",
    "        last.next = Node(data)\n",
    "        last = last.next\n",
    "    return head\n",
    "\n",
    "# Main\n",
    "# Read the link list elements including -1\n",
    "arr=list(int(i) for i in input().strip().split(' '))\n",
    "# Create a Linked list after removing -1 from list\n",
    "l = ll(arr[:-1])\n",
    "len=length(l)\n",
    "print(len)"
   ]
  },
  {
   "cell_type": "code",
   "execution_count": null,
   "id": "0bd2ef0d",
   "metadata": {},
   "outputs": [],
   "source": []
  }
 ],
 "metadata": {
  "kernelspec": {
   "display_name": "Python 3",
   "language": "python",
   "name": "python3"
  },
  "language_info": {
   "codemirror_mode": {
    "name": "ipython",
    "version": 3
   },
   "file_extension": ".py",
   "mimetype": "text/x-python",
   "name": "python",
   "nbconvert_exporter": "python",
   "pygments_lexer": "ipython3",
   "version": "3.8.8"
  }
 },
 "nbformat": 4,
 "nbformat_minor": 5
}
