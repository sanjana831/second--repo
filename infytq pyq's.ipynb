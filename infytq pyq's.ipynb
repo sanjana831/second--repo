{
 "cells": [
  {
   "cell_type": "markdown",
   "id": "dba126ef",
   "metadata": {},
   "source": [
    "### OTP Generation"
   ]
  },
  {
   "cell_type": "code",
   "execution_count": 10,
   "id": "76e6e456",
   "metadata": {},
   "outputs": [],
   "source": [
    "def OTP_gen(given_num):\n",
    "    otp=\"\"\n",
    "    l=len(given_num)\n",
    "    for i in range(1,l,2):\n",
    "        odd=int(given_num[i])\n",
    "        odd=odd**2\n",
    "        otp=otp+str(odd)\n",
    "    return otp[0:4]"
   ]
  },
  {
   "cell_type": "code",
   "execution_count": 11,
   "id": "f5d7c72e",
   "metadata": {},
   "outputs": [
    {
     "data": {
      "text/plain": [
       "'2516'"
      ]
     },
     "execution_count": 11,
     "metadata": {},
     "output_type": "execute_result"
    }
   ],
   "source": [
    "OTP_gen([7,5,6,4,1,6,8])"
   ]
  },
  {
   "cell_type": "markdown",
   "id": "89ec02a0",
   "metadata": {},
   "source": [
    "### Char corresponding to max. num"
   ]
  },
  {
   "cell_type": "code",
   "execution_count": 16,
   "id": "cdc6b26a",
   "metadata": {},
   "outputs": [],
   "source": [
    "def Corr_Char(given_str):\n",
    "    ele_list=[]\n",
    "    final_str=\"\"\n",
    "    ele_list=given_str.split(\",\")\n",
    "    for ele in ele_list:\n",
    "        sub_list=ele.split(\":\")\n",
    "        name=sub_list[0]\n",
    "        number=sub_list[1]\n",
    "        name_length=len(name)\n",
    "    \n",
    "        max=0\n",
    "        \n",
    "        for digit in number:\n",
    "            if (int(digit)<=name_length):\n",
    "                if(max<int(digit)) :\n",
    "                    max=int(digit)\n",
    "        if max==0:\n",
    "            final_str+='X'\n",
    "        else:\n",
    "            final_str+=name[max-1]\n",
    "    return final_str"
   ]
  },
  {
   "cell_type": "code",
   "execution_count": 17,
   "id": "350fbe57",
   "metadata": {},
   "outputs": [
    {
     "data": {
      "text/plain": [
       "'kueX'"
      ]
     },
     "execution_count": 17,
     "metadata": {},
     "output_type": "execute_result"
    }
   ],
   "source": [
    "given_str=\"Abhishek:43848,Mayur:3749,Friends:3949,Yeah:7878\"\n",
    "Corr_Char(given_str)"
   ]
  },
  {
   "cell_type": "markdown",
   "id": "863d77e4",
   "metadata": {},
   "source": []
  },
  {
   "cell_type": "markdown",
   "id": "bed209c2",
   "metadata": {},
   "source": [
    "# Airport Charges(channel-Tech&Target) problem-1"
   ]
  },
  {
   "cell_type": "code",
   "execution_count": 6,
   "id": "23ab53a7",
   "metadata": {},
   "outputs": [
    {
     "name": "stdout",
     "output_type": "stream",
     "text": [
      "5\n"
     ]
    }
   ],
   "source": [
    "li=[1,2,3,4]\n",
    "threshold=3\n",
    "charge=0\n",
    "for weight in li:\n",
    "    if (weight>threshold):\n",
    "        charge=charge+2\n",
    "    else:\n",
    "        charge=charge+1\n",
    "print(charge)"
   ]
  },
  {
   "cell_type": "code",
   "execution_count": null,
   "id": "eae2f5df",
   "metadata": {},
   "outputs": [],
   "source": []
  }
 ],
 "metadata": {
  "kernelspec": {
   "display_name": "Python 3",
   "language": "python",
   "name": "python3"
  },
  "language_info": {
   "codemirror_mode": {
    "name": "ipython",
    "version": 3
   },
   "file_extension": ".py",
   "mimetype": "text/x-python",
   "name": "python",
   "nbconvert_exporter": "python",
   "pygments_lexer": "ipython3",
   "version": "3.8.8"
  }
 },
 "nbformat": 4,
 "nbformat_minor": 5
}
