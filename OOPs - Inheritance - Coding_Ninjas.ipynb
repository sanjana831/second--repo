{
 "cells": [
  {
   "cell_type": "code",
   "execution_count": 6,
   "id": "214366ec",
   "metadata": {},
   "outputs": [
    {
     "name": "stdout",
     "output_type": "stream",
     "text": [
      "color =  blue\n",
      "Max Speed = 50\n",
      "Num Gears = 5\n",
      "Is Convertible = False\n"
     ]
    }
   ],
   "source": [
    "class Vehicle():\n",
    "    def __init__(self,color,maxSpeed):   \n",
    "        self.color = color\n",
    "        self.maxSpeed = maxSpeed\n",
    "class Car(Vehicle):\n",
    "    def __init__(self,color,maxSpeed,numGears,isConvertible):\n",
    "        super().__init__(color,maxSpeed)\n",
    "        self.numGears = numGears\n",
    "        self.isConvertible = isConvertible\n",
    "    def printCar(self):\n",
    "        print(\"color = \",self.color)\n",
    "        print(\"Max Speed =\",self.maxSpeed)\n",
    "        print(\"Num Gears =\",self.numGears)\n",
    "        print(\"Is Convertible =\",self.isConvertible)\n",
    "c1 = Car(\"blue\",50,5,False)\n",
    "c1.printCar()\n",
    "    "
   ]
  },
  {
   "cell_type": "code",
   "execution_count": 7,
   "id": "ffce70a8",
   "metadata": {},
   "outputs": [
    {
     "name": "stdout",
     "output_type": "stream",
     "text": [
      "Num Gears = 5\n",
      "Is Convertible = False\n"
     ]
    }
   ],
   "source": [
    "class Vehicle():\n",
    "    def __init__(self,color,maxSpeed):   \n",
    "        self.color = color\n",
    "        self.maxSpeed = maxSpeed\n",
    "class Car(Vehicle):\n",
    "    def __init__(self,numGears,isConvertible):\n",
    "        self.numGears = numGears\n",
    "        self.isConvertible = isConvertible\n",
    "    def printCar(self):\n",
    "        print(\"Num Gears =\",self.numGears)\n",
    "        print(\"Is Convertible =\",self.isConvertible)\n",
    "c1 = Car(5,False)\n",
    "c1.printCar()"
   ]
  },
  {
   "cell_type": "code",
   "execution_count": 8,
   "id": "dd2d55ca",
   "metadata": {},
   "outputs": [],
   "source": [
    "# private members"
   ]
  },
  {
   "cell_type": "code",
   "execution_count": 12,
   "id": "e8b74070",
   "metadata": {},
   "outputs": [
    {
     "name": "stdout",
     "output_type": "stream",
     "text": [
      "color =  blue\n",
      "Max Speed = 50\n",
      "Num Gears = 5\n",
      "Is Convertible = False\n"
     ]
    }
   ],
   "source": [
    "class Vehicle():\n",
    "    def __init__(self,color,maxSpeed):   \n",
    "        self.color = color\n",
    "        self.__maxSpeed = maxSpeed      # made this private\n",
    "    def get_maxspeed(self):             # added this function in the Vehicle class to access the private member\n",
    "        return self.__maxSpeed\n",
    "class Car(Vehicle):\n",
    "    def __init__(self,color,maxSpeed,numGears,isConvertible):\n",
    "        super().__init__(color,maxSpeed)\n",
    "        self.numGears = numGears\n",
    "        self.isConvertible = isConvertible\n",
    "    def printCar(self):\n",
    "        print(\"color = \",self.color)\n",
    "        print(\"Max Speed =\",self.get_maxspeed())   # changed the code from self.maxSpeed to get_maxspees()\n",
    "        print(\"Num Gears =\",self.numGears)\n",
    "        print(\"Is Convertible =\",self.isConvertible)\n",
    "c1 = Car(\"blue\",50,5,False)\n",
    "c1.printCar()"
   ]
  },
  {
   "cell_type": "code",
   "execution_count": 13,
   "id": "d2c0b452",
   "metadata": {},
   "outputs": [],
   "source": [
    "# another method to print a private member"
   ]
  },
  {
   "cell_type": "code",
   "execution_count": 14,
   "id": "1d28170a",
   "metadata": {},
   "outputs": [
    {
     "name": "stdout",
     "output_type": "stream",
     "text": [
      "color =  blue\n",
      "Max Speed = 50\n",
      "Num Gears = 5\n",
      "Is Convertible = False\n"
     ]
    }
   ],
   "source": [
    "class Vehicle():\n",
    "    def __init__(self,color,maxSpeed):   \n",
    "        self.color = color\n",
    "        self.__maxSpeed = maxSpeed      # private member\n",
    "    def get_maxspeed(self):             # now we dont need this function\n",
    "        return self.__maxSpeed\n",
    "    def print_maxspeed(self):\n",
    "        print(\"color = \",self.color)\n",
    "        print(\"Max Speed =\",self.__maxSpeed) # we can access this way bcoz this is a function of same class as private member\n",
    "class Car(Vehicle):\n",
    "    def __init__(self,color,maxSpeed,numGears,isConvertible):\n",
    "        super().__init__(color,maxSpeed)\n",
    "        self.numGears = numGears\n",
    "        self.isConvertible = isConvertible\n",
    "    def printCar(self):\n",
    "        super().print_maxspeed() #now we use super() to access the function of parent class which has the ability to access the private member\n",
    "        print(\"Num Gears =\",self.numGears)\n",
    "        print(\"Is Convertible =\",self.isConvertible)\n",
    "c1 = Car(\"blue\",50,5,False)\n",
    "c1.printCar()"
   ]
  },
  {
   "cell_type": "code",
   "execution_count": 15,
   "id": "33eb1e74",
   "metadata": {},
   "outputs": [
    {
     "name": "stdout",
     "output_type": "stream",
     "text": [
      "color =  blue\n",
      "Max Speed = 50\n",
      "Num Gears = 5\n",
      "Is Convertible = False\n"
     ]
    }
   ],
   "source": [
    "class Vehicle():\n",
    "    def __init__(self,color,maxSpeed):   \n",
    "        self.color = color\n",
    "        self.__maxSpeed = maxSpeed      # private member\n",
    "    def get_maxspeed(self):             # now we dont need this function\n",
    "        return self.__maxSpeed\n",
    "    def print_maxspeed(self):\n",
    "        print(\"color = \",self.color)\n",
    "        print(\"Max Speed =\",self.__maxSpeed) # we can access this way bcoz this is a function of same class as private member\n",
    "class Car(Vehicle):\n",
    "    def __init__(self,color,maxSpeed,numGears,isConvertible):\n",
    "        super().__init__(color,maxSpeed)\n",
    "        self.numGears = numGears\n",
    "        self.isConvertible = isConvertible\n",
    "    def printCar(self):\n",
    "        self.print_maxspeed() #now we can also use the self.print_maxspeed bcoz the child class inherits all the functions of the parent class and here there is only one function of that name, we can directly call it using self.\n",
    "        print(\"Num Gears =\",self.numGears)\n",
    "        print(\"Is Convertible =\",self.isConvertible)\n",
    "c1 = Car(\"blue\",50,5,False)\n",
    "c1.printCar()"
   ]
  },
  {
   "cell_type": "code",
   "execution_count": null,
   "id": "a929353b",
   "metadata": {},
   "outputs": [],
   "source": []
  }
 ],
 "metadata": {
  "kernelspec": {
   "display_name": "Python 3",
   "language": "python",
   "name": "python3"
  },
  "language_info": {
   "codemirror_mode": {
    "name": "ipython",
    "version": 3
   },
   "file_extension": ".py",
   "mimetype": "text/x-python",
   "name": "python",
   "nbconvert_exporter": "python",
   "pygments_lexer": "ipython3",
   "version": "3.8.8"
  }
 },
 "nbformat": 4,
 "nbformat_minor": 5
}
