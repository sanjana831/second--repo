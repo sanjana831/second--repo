{
 "cells": [
  {
   "cell_type": "code",
   "execution_count": 2,
   "id": "8d3d51c8",
   "metadata": {},
   "outputs": [
    {
     "name": "stdout",
     "output_type": "stream",
     "text": [
      "c\n"
     ]
    }
   ],
   "source": [
    "s = 'abcd'\n",
    "print(s[-2])"
   ]
  },
  {
   "cell_type": "code",
   "execution_count": 11,
   "id": "c69162bb",
   "metadata": {},
   "outputs": [
    {
     "ename": "TypeError",
     "evalue": "'str' object does not support item assignment",
     "output_type": "error",
     "traceback": [
      "\u001b[1;31m---------------------------------------------------------------------------\u001b[0m",
      "\u001b[1;31mTypeError\u001b[0m                                 Traceback (most recent call last)",
      "\u001b[1;32m<ipython-input-11-399a41d030b3>\u001b[0m in \u001b[0;36m<module>\u001b[1;34m\u001b[0m\n\u001b[0;32m      1\u001b[0m \u001b[0ms\u001b[0m\u001b[1;33m=\u001b[0m\u001b[1;34m'abcd'\u001b[0m\u001b[1;33m\u001b[0m\u001b[1;33m\u001b[0m\u001b[0m\n\u001b[1;32m----> 2\u001b[1;33m \u001b[0ms\u001b[0m\u001b[1;33m[\u001b[0m\u001b[1;36m1\u001b[0m\u001b[1;33m]\u001b[0m\u001b[1;33m=\u001b[0m\u001b[1;34m's'\u001b[0m\u001b[1;33m\u001b[0m\u001b[1;33m\u001b[0m\u001b[0m\n\u001b[0m\u001b[0;32m      3\u001b[0m \u001b[0mprint\u001b[0m\u001b[1;33m(\u001b[0m\u001b[0ms\u001b[0m\u001b[1;33m)\u001b[0m\u001b[1;33m\u001b[0m\u001b[1;33m\u001b[0m\u001b[0m\n",
      "\u001b[1;31mTypeError\u001b[0m: 'str' object does not support item assignment"
     ]
    }
   ],
   "source": [
    "s='abcd'\n",
    "s[1]='s'\n",
    "print(s)\n"
   ]
  },
  {
   "cell_type": "code",
   "execution_count": 13,
   "id": "0e169fb1",
   "metadata": {},
   "outputs": [
    {
     "name": "stdout",
     "output_type": "stream",
     "text": [
      "They are same\n"
     ]
    }
   ],
   "source": [
    "s ='abcd'\n",
    "a = 'abcd'\n",
    "if id(s) == id(a):\n",
    "    print('They are same')\n",
    "else:\n",
    "    print('They are not same')\n"
   ]
  },
  {
   "cell_type": "markdown",
   "id": "8fc15643",
   "metadata": {},
   "source": [
    "Concatenation"
   ]
  },
  {
   "cell_type": "code",
   "execution_count": 16,
   "id": "2eb599cc",
   "metadata": {},
   "outputs": [
    {
     "name": "stdout",
     "output_type": "stream",
     "text": [
      "redblue\n",
      "redbluegreenpurple\n"
     ]
    }
   ],
   "source": [
    "s='red'\n",
    "s=s+'blue'\n",
    "print(s)\n",
    "s=s+'green'+ 'purple'\n",
    "print(s)"
   ]
  },
  {
   "cell_type": "code",
   "execution_count": 18,
   "id": "817ce718",
   "metadata": {},
   "outputs": [
    {
     "name": "stdout",
     "output_type": "stream",
     "text": [
      "blueblueblue\n",
      "2005676264304\n"
     ]
    }
   ],
   "source": [
    "a='blue'\n",
    "a=a*3\n",
    "print(a)\n",
    "print(id(a))"
   ]
  },
  {
   "cell_type": "code",
   "execution_count": 19,
   "id": "863c40f7",
   "metadata": {},
   "outputs": [
    {
     "name": "stdout",
     "output_type": "stream",
     "text": [
      "2005676264304\n"
     ]
    }
   ],
   "source": [
    "a=a*1\n",
    "print(id(a))"
   ]
  },
  {
   "cell_type": "code",
   "execution_count": 20,
   "id": "1756fa93",
   "metadata": {},
   "outputs": [
    {
     "name": "stdout",
     "output_type": "stream",
     "text": [
      "abcd\n"
     ]
    }
   ],
   "source": [
    "s = \"abcd\"\n",
    "b = s + \"ef\"\n",
    "print(s)\n"
   ]
  },
  {
   "cell_type": "code",
   "execution_count": 21,
   "id": "e862d89e",
   "metadata": {},
   "outputs": [
    {
     "ename": "TypeError",
     "evalue": "can only concatenate str (not \"int\") to str",
     "output_type": "error",
     "traceback": [
      "\u001b[1;31m---------------------------------------------------------------------------\u001b[0m",
      "\u001b[1;31mTypeError\u001b[0m                                 Traceback (most recent call last)",
      "\u001b[1;32m<ipython-input-21-e66c66b62a9c>\u001b[0m in \u001b[0;36m<module>\u001b[1;34m\u001b[0m\n\u001b[0;32m      1\u001b[0m \u001b[0ms\u001b[0m \u001b[1;33m=\u001b[0m \u001b[1;34m\"abcd\"\u001b[0m\u001b[1;33m\u001b[0m\u001b[1;33m\u001b[0m\u001b[0m\n\u001b[1;32m----> 2\u001b[1;33m \u001b[0mb\u001b[0m \u001b[1;33m=\u001b[0m \u001b[0ms\u001b[0m \u001b[1;33m+\u001b[0m \u001b[1;36m2\u001b[0m\u001b[1;33m\u001b[0m\u001b[1;33m\u001b[0m\u001b[0m\n\u001b[0m\u001b[0;32m      3\u001b[0m \u001b[0mprint\u001b[0m\u001b[1;33m(\u001b[0m\u001b[0mb\u001b[0m\u001b[1;33m)\u001b[0m\u001b[1;33m\u001b[0m\u001b[1;33m\u001b[0m\u001b[0m\n",
      "\u001b[1;31mTypeError\u001b[0m: can only concatenate str (not \"int\") to str"
     ]
    }
   ],
   "source": [
    "s = \"abcd\"\n",
    "b = s + 2\n",
    "print(b)"
   ]
  },
  {
   "cell_type": "code",
   "execution_count": 22,
   "id": "2ba4fa74",
   "metadata": {},
   "outputs": [
    {
     "name": "stdout",
     "output_type": "stream",
     "text": [
      "cdef\n"
     ]
    }
   ],
   "source": [
    "s = \"abcdef\"\n",
    "print (s[2:])\n"
   ]
  },
  {
   "cell_type": "code",
   "execution_count": 23,
   "id": "4c47c358",
   "metadata": {},
   "outputs": [
    {
     "name": "stdout",
     "output_type": "stream",
     "text": [
      "ed\n"
     ]
    }
   ],
   "source": [
    "s = \"abcdef\"\n",
    "print (s[4:2:-1])"
   ]
  },
  {
   "cell_type": "code",
   "execution_count": 24,
   "id": "d0e7836f",
   "metadata": {},
   "outputs": [
    {
     "name": "stdout",
     "output_type": "stream",
     "text": [
      "False\n"
     ]
    }
   ],
   "source": [
    "a = \"abcdef\" == \"abcd\"\n",
    "print(a)"
   ]
  },
  {
   "cell_type": "code",
   "execution_count": 25,
   "id": "1eeb0c08",
   "metadata": {},
   "outputs": [
    {
     "name": "stdout",
     "output_type": "stream",
     "text": [
      "True\n"
     ]
    }
   ],
   "source": [
    "a = \"abcdef\" >= \"abcd\"\n",
    "print(a)"
   ]
  },
  {
   "cell_type": "code",
   "execution_count": 26,
   "id": "66d2c892",
   "metadata": {},
   "outputs": [
    {
     "name": "stdout",
     "output_type": "stream",
     "text": [
      "True\n"
     ]
    }
   ],
   "source": [
    "a = \"abce\" >= \"abcdef\"\n",
    "print(a)"
   ]
  },
  {
   "cell_type": "code",
   "execution_count": 21,
   "id": "81942c00",
   "metadata": {},
   "outputs": [
    {
     "name": "stdout",
     "output_type": "stream",
     "text": [
      "false\n"
     ]
    }
   ],
   "source": [
    "def isPalindrome(string):\n",
    "    l=len(string)\n",
    "    if l==0:\n",
    "        return True\n",
    "    if l==1:\n",
    "        return True\n",
    "    for i in range(l//2):\n",
    "        if string[i]==string[l-i-1]:\n",
    "            return True\n",
    "    else:\n",
    "        return False\n",
    "        \n",
    "\n",
    "string=\"\"\n",
    "ans = isPalindrome(string)\n",
    "if ans :\n",
    "    print('true')\n",
    "else :\n",
    "    print('false')"
   ]
  },
  {
   "cell_type": "markdown",
   "id": "96925f7d",
   "metadata": {},
   "source": [
    "Functions of String"
   ]
  },
  {
   "cell_type": "markdown",
   "id": "22f1683b",
   "metadata": {},
   "source": [
    "split"
   ]
  },
  {
   "cell_type": "code",
   "execution_count": 22,
   "id": "78eead51",
   "metadata": {},
   "outputs": [
    {
     "name": "stdout",
     "output_type": "stream",
     "text": [
      "['My', 'name', 'is', 'Sanjana']\n"
     ]
    }
   ],
   "source": [
    "str=\"My name is Sanjana\"\n",
    "str=str.split(\" \")\n",
    "print(str)"
   ]
  },
  {
   "cell_type": "code",
   "execution_count": 23,
   "id": "59b6ebe5",
   "metadata": {},
   "outputs": [
    {
     "name": "stdout",
     "output_type": "stream",
     "text": [
      "['My', 'name', 'is', 'Sanjana']\n"
     ]
    }
   ],
   "source": [
    "str=\"My,name,is,Sanjana\"\n",
    "str=str.split(\",\")\n",
    "print(str)"
   ]
  },
  {
   "cell_type": "markdown",
   "id": "55d69765",
   "metadata": {},
   "source": [
    "replace"
   ]
  },
  {
   "cell_type": "code",
   "execution_count": 24,
   "id": "f74d352e",
   "metadata": {},
   "outputs": [
    {
     "name": "stdout",
     "output_type": "stream",
     "text": [
      "My name is Sanjana\n"
     ]
    }
   ],
   "source": [
    "str=\"My name is Sanjana\"\n",
    "str.replace(\"Sanjana\",\"Chikki\")\n",
    "print(str)"
   ]
  },
  {
   "cell_type": "code",
   "execution_count": 25,
   "id": "54ab81db",
   "metadata": {},
   "outputs": [
    {
     "name": "stdout",
     "output_type": "stream",
     "text": [
      "My name is Chikki\n"
     ]
    }
   ],
   "source": [
    "str=\"My name is Sanjana\"\n",
    "str=str.replace(\"Sanjana\",\"Chikki\")\n",
    "print(str)"
   ]
  },
  {
   "cell_type": "code",
   "execution_count": 26,
   "id": "ef36459d",
   "metadata": {},
   "outputs": [
    {
     "name": "stdout",
     "output_type": "stream",
     "text": [
      "My name is Chikki Chikki Chikki\n"
     ]
    }
   ],
   "source": [
    "str=\"My name is Sanjana Sanjana Sanjana\"\n",
    "str=str.replace(\"Sanjana\",\"Chikki\")\n",
    "print(str)"
   ]
  },
  {
   "cell_type": "code",
   "execution_count": 27,
   "id": "6d33755d",
   "metadata": {},
   "outputs": [
    {
     "name": "stdout",
     "output_type": "stream",
     "text": [
      "My name is Chikki Chikki Sanjana\n"
     ]
    }
   ],
   "source": [
    "str=\"My name is Sanjana Sanjana Sanjana\"\n",
    "str=str.replace(\"Sanjana\",\"Chikki\",2)\n",
    "print(str)"
   ]
  },
  {
   "cell_type": "markdown",
   "id": "9f517cf5",
   "metadata": {},
   "source": [
    "find"
   ]
  },
  {
   "cell_type": "code",
   "execution_count": 28,
   "id": "49932a56",
   "metadata": {},
   "outputs": [
    {
     "name": "stdout",
     "output_type": "stream",
     "text": [
      "3\n"
     ]
    }
   ],
   "source": [
    "str=\"My name is Sanjana\"\n",
    "index=str.find(\"na\")\n",
    "print(index)"
   ]
  },
  {
   "cell_type": "code",
   "execution_count": 29,
   "id": "9f900276",
   "metadata": {},
   "outputs": [
    {
     "name": "stdout",
     "output_type": "stream",
     "text": [
      "11\n"
     ]
    }
   ],
   "source": [
    "str=\"My name is Sanjana Sanjana Sanjana\"\n",
    "index=str.find(\"San\")\n",
    "print(index)"
   ]
  },
  {
   "cell_type": "code",
   "execution_count": 33,
   "id": "80b1adac",
   "metadata": {},
   "outputs": [
    {
     "name": "stdout",
     "output_type": "stream",
     "text": [
      "-1\n"
     ]
    }
   ],
   "source": [
    "str=\"My name is Sanjana Sanjana Sanjana\"\n",
    "index=str.find(\"San\",17,21)\n",
    "print(index)"
   ]
  },
  {
   "cell_type": "code",
   "execution_count": 34,
   "id": "63c4d82e",
   "metadata": {},
   "outputs": [
    {
     "name": "stdout",
     "output_type": "stream",
     "text": [
      "19\n"
     ]
    }
   ],
   "source": [
    "str=\"My name is Sanjana Sanjana Sanjana\"\n",
    "index=str.find(\"San\",17,22)\n",
    "print(index)"
   ]
  },
  {
   "cell_type": "markdown",
   "id": "69014ed4",
   "metadata": {},
   "source": [
    "lower and upper"
   ]
  },
  {
   "cell_type": "code",
   "execution_count": 37,
   "id": "0c570128",
   "metadata": {},
   "outputs": [
    {
     "name": "stdout",
     "output_type": "stream",
     "text": [
      "my name is sanjana sanjana sanjana\n",
      "MY NAME IS SANJANA SANJANA SANJANA\n"
     ]
    }
   ],
   "source": [
    "str=\"My name is Sanjana Sanjana Sanjana\"\n",
    "str=str.lower()\n",
    "print(str)\n",
    "str=str.upper()\n",
    "print(str)"
   ]
  },
  {
   "cell_type": "markdown",
   "id": "f8b5d700",
   "metadata": {},
   "source": [
    "startswith"
   ]
  },
  {
   "cell_type": "code",
   "execution_count": 39,
   "id": "990536dd",
   "metadata": {},
   "outputs": [
    {
     "name": "stdout",
     "output_type": "stream",
     "text": [
      "True\n"
     ]
    }
   ],
   "source": [
    "str=\"My name is Sanjana Sanjana Sanjana\"\n",
    "ans=str.startswith(\"My na\")\n",
    "print(ans)"
   ]
  },
  {
   "cell_type": "code",
   "execution_count": 40,
   "id": "c7862f22",
   "metadata": {},
   "outputs": [
    {
     "name": "stdout",
     "output_type": "stream",
     "text": [
      "False\n"
     ]
    }
   ],
   "source": [
    "str=\"My name is Sanjana Sanjana Sanjana\"\n",
    "ans=str.startswith(\"My nae\")\n",
    "print(ans)"
   ]
  },
  {
   "cell_type": "code",
   "execution_count": 41,
   "id": "05d03c3a",
   "metadata": {},
   "outputs": [
    {
     "name": "stdout",
     "output_type": "stream",
     "text": [
      "True\n"
     ]
    }
   ],
   "source": [
    "str=\"My name is Sanjana Sanjana Sanjana\"\n",
    "ans=str.startswith(\"Sa\",11,25)\n",
    "print(ans)"
   ]
  },
  {
   "cell_type": "code",
   "execution_count": 42,
   "id": "7df1ee4c",
   "metadata": {},
   "outputs": [
    {
     "name": "stdout",
     "output_type": "stream",
     "text": [
      "False\n"
     ]
    }
   ],
   "source": [
    "str=\"My name is Sanjana Sanjana Sanjana\"\n",
    "ans=str.startswith(\"Sa\",12,25)\n",
    "print(ans)"
   ]
  },
  {
   "cell_type": "markdown",
   "id": "df2046fc",
   "metadata": {},
   "source": [
    "Replace one char in string with another char"
   ]
  },
  {
   "cell_type": "code",
   "execution_count": 44,
   "id": "7714adc6",
   "metadata": {},
   "outputs": [
    {
     "name": "stdout",
     "output_type": "stream",
     "text": [
      "fdafdavxz\n"
     ]
    }
   ],
   "source": [
    "str=\"fsafsavxz\"\n",
    "str=str.replace(\"s\",\"d\")\n",
    "print(str)"
   ]
  },
  {
   "cell_type": "markdown",
   "id": "40aacee4",
   "metadata": {},
   "source": [
    "Count number of vowels, consonants, digits and special characters"
   ]
  },
  {
   "cell_type": "code",
   "execution_count": 48,
   "id": "4a6f08d9",
   "metadata": {},
   "outputs": [
    {
     "name": "stdout",
     "output_type": "stream",
     "text": [
      "4 11 5 3\n"
     ]
    }
   ],
   "source": [
    "def CountInString(str):\n",
    "    v,c,d,s=0,0,0,0\n",
    "    for char in str:\n",
    "        if ((char>=\"a\" and char<=\"z\") or (char>='A' and char<='Z')):\n",
    "            char=char.lower()\n",
    "            if ((char=='a') or (char==\"e\") or (char=='i') or (char=='o') or (char=='u')):\n",
    "                v+=1\n",
    "            else:\n",
    "                c+=1\n",
    "        elif ((char>=\"0\" and char<=\"9\")):\n",
    "            d+=1 \n",
    "        else:\n",
    "            s+=1\n",
    "    return v,c,d,s\n",
    "    \n",
    "str=\"abc123ABC!@ 67asjMVAHsv\"\n",
    "type(str[0])\n",
    "v,c,d,s=CountInString(str)\n",
    "print(v,c,d,s)\n",
    "\n"
   ]
  },
  {
   "cell_type": "markdown",
   "id": "d23b5f1c",
   "metadata": {},
   "source": [
    "Check Permutation"
   ]
  },
  {
   "cell_type": "code",
   "execution_count": null,
   "id": "1309aa59",
   "metadata": {},
   "outputs": [],
   "source": [
    "def isPermutation(string1, string2) :\n",
    "    if len(string1) != len(string2):\n",
    "        return False\n",
    "    char_count = [0] * 256\n",
    "    for c in string1:\n",
    "        char_count[ord(c)] += 1\n",
    "\n",
    "    for c in string2:\n",
    "        char_count[ord(c)] -= 1\n",
    "        if char_count[ord(c)] < 0:\n",
    "            return False\n",
    "    return True"
   ]
  },
  {
   "cell_type": "code",
   "execution_count": 49,
   "id": "96e41044",
   "metadata": {},
   "outputs": [
    {
     "name": "stdout",
     "output_type": "stream",
     "text": [
      "[1, 1]\n"
     ]
    }
   ],
   "source": [
    "char_count = [1] * 2\n",
    "print(char_count)"
   ]
  },
  {
   "cell_type": "code",
   "execution_count": 51,
   "id": "04e8b93f",
   "metadata": {},
   "outputs": [
    {
     "name": "stdout",
     "output_type": "stream",
     "text": [
      "97\n"
     ]
    }
   ],
   "source": [
    "a='a'\n",
    "print(ord(a))"
   ]
  },
  {
   "cell_type": "code",
   "execution_count": 92,
   "id": "e61a697a",
   "metadata": {},
   "outputs": [
    {
     "ename": "TypeError",
     "evalue": "'str' object does not support item assignment",
     "output_type": "error",
     "traceback": [
      "\u001b[1;31m---------------------------------------------------------------------------\u001b[0m",
      "\u001b[1;31mTypeError\u001b[0m                                 Traceback (most recent call last)",
      "\u001b[1;32m<ipython-input-92-db5aecf6faa3>\u001b[0m in \u001b[0;36m<module>\u001b[1;34m\u001b[0m\n\u001b[0;32m     14\u001b[0m     \u001b[1;32mreturn\u001b[0m \u001b[0mchar_count\u001b[0m\u001b[1;33m\u001b[0m\u001b[1;33m\u001b[0m\u001b[0m\n\u001b[0;32m     15\u001b[0m \u001b[0mstring\u001b[0m\u001b[1;33m=\u001b[0m\u001b[1;34m\"aabccbaa\"\u001b[0m\u001b[1;33m\u001b[0m\u001b[1;33m\u001b[0m\u001b[0m\n\u001b[1;32m---> 16\u001b[1;33m \u001b[0mans\u001b[0m\u001b[1;33m=\u001b[0m\u001b[0mremoveConsecutiveDuplicates\u001b[0m\u001b[1;33m(\u001b[0m\u001b[0mstring\u001b[0m\u001b[1;33m)\u001b[0m\u001b[1;33m\u001b[0m\u001b[1;33m\u001b[0m\u001b[0m\n\u001b[0m\u001b[0;32m     17\u001b[0m \u001b[0mprint\u001b[0m\u001b[1;33m(\u001b[0m\u001b[0mans\u001b[0m\u001b[1;33m)\u001b[0m\u001b[1;33m\u001b[0m\u001b[1;33m\u001b[0m\u001b[0m\n\u001b[0;32m     18\u001b[0m \u001b[1;33m\u001b[0m\u001b[0m\n",
      "\u001b[1;32m<ipython-input-92-db5aecf6faa3>\u001b[0m in \u001b[0;36mremoveConsecutiveDuplicates\u001b[1;34m(string)\u001b[0m\n\u001b[0;32m      4\u001b[0m     \u001b[0mtemp\u001b[0m\u001b[1;33m=\u001b[0m\u001b[0mstring\u001b[0m\u001b[1;33m[\u001b[0m\u001b[1;36m0\u001b[0m\u001b[1;33m]\u001b[0m\u001b[1;33m\u001b[0m\u001b[1;33m\u001b[0m\u001b[0m\n\u001b[0;32m      5\u001b[0m     \u001b[0mchar_count\u001b[0m\u001b[1;33m=\u001b[0m\u001b[1;34m''\u001b[0m\u001b[1;33m\u001b[0m\u001b[1;33m\u001b[0m\u001b[0m\n\u001b[1;32m----> 6\u001b[1;33m     \u001b[0mchar_count\u001b[0m\u001b[1;33m[\u001b[0m\u001b[1;36m0\u001b[0m\u001b[1;33m]\u001b[0m\u001b[1;33m=\u001b[0m\u001b[0mtemp\u001b[0m\u001b[1;33m\u001b[0m\u001b[1;33m\u001b[0m\u001b[0m\n\u001b[0m\u001b[0;32m      7\u001b[0m     \u001b[1;32mfor\u001b[0m \u001b[0mc\u001b[0m \u001b[1;32min\u001b[0m \u001b[0mrange\u001b[0m\u001b[1;33m(\u001b[0m\u001b[0ml\u001b[0m\u001b[1;33m)\u001b[0m\u001b[1;33m:\u001b[0m\u001b[1;33m\u001b[0m\u001b[1;33m\u001b[0m\u001b[0m\n\u001b[0;32m      8\u001b[0m         \u001b[1;32mif\u001b[0m \u001b[0mstring\u001b[0m\u001b[1;33m[\u001b[0m\u001b[0mc\u001b[0m\u001b[1;33m]\u001b[0m\u001b[1;33m!=\u001b[0m\u001b[0mtemp\u001b[0m\u001b[1;33m:\u001b[0m\u001b[1;33m\u001b[0m\u001b[1;33m\u001b[0m\u001b[0m\n",
      "\u001b[1;31mTypeError\u001b[0m: 'str' object does not support item assignment"
     ]
    }
   ],
   "source": [
    "def removeConsecutiveDuplicates(string):\n",
    "    l=len(string)\n",
    "    j=0\n",
    "    temp=string[0]\n",
    "    char_count=''\n",
    "    char_count[0]=temp\n",
    "    for c in range(l):\n",
    "        if string[c]!=temp:\n",
    "            temp=string[c]\n",
    "            j+=1\n",
    "            for j in range(j,j+1):\n",
    "                char_count[j]=temp\n",
    "                \n",
    "    return char_count\n",
    "string=\"aabccbaa\"\n",
    "ans=removeConsecutiveDuplicates(string)\n",
    "print(ans)\n",
    "        "
   ]
  },
  {
   "cell_type": "code",
   "execution_count": 53,
   "id": "14966307",
   "metadata": {},
   "outputs": [
    {
     "name": "stdout",
     "output_type": "stream",
     "text": [
      "['a']\n"
     ]
    }
   ],
   "source": [
    "string=\"aabccbaa\"\n",
    "char_count=[string[0]]\n",
    "print(char_count)"
   ]
  },
  {
   "cell_type": "code",
   "execution_count": 93,
   "id": "3e65bc7d",
   "metadata": {},
   "outputs": [
    {
     "data": {
      "text/plain": [
       "'sihT si a gnirts ot try'"
      ]
     },
     "execution_count": 93,
     "metadata": {},
     "output_type": "execute_result"
    }
   ],
   "source": [
    "def reverse(sentence):\n",
    "    answer = ''\n",
    "    temp = ''\n",
    "    for char in sentence:\n",
    "        if char != ' ':\n",
    "            temp += char\n",
    "            continue\n",
    "        rev = ''\n",
    "        for i in range(len(temp)):\n",
    "            rev += temp[len(temp)-i-1]\n",
    "        answer += rev + ' '\n",
    "        temp = ''\n",
    "    return answer + temp\n",
    "reverse(\"This is a string to try\")"
   ]
  },
  {
   "cell_type": "code",
   "execution_count": 94,
   "id": "9a76fa61",
   "metadata": {},
   "outputs": [
    {
     "name": "stdout",
     "output_type": "stream",
     "text": [
      "Happy Learning\n",
      "gninraeL yppaH\n"
     ]
    }
   ],
   "source": [
    "def reverse(string):\n",
    "    s=\"\"\n",
    "    for i in string:\n",
    "        s=i+s\n",
    "    return s\n",
    "string=\"Happy Learning\"\n",
    "print(string)\n",
    "print(reverse(string))"
   ]
  },
  {
   "cell_type": "code",
   "execution_count": 10,
   "id": "3d2a1bad",
   "metadata": {},
   "outputs": [
    {
     "name": "stdout",
     "output_type": "stream",
     "text": [
      "Happy Learning\n",
      "Happy\n",
      "Learning\n",
      "gninraeLyppaH\n"
     ]
    }
   ],
   "source": [
    "def reverse(string):\n",
    "    s=string.split(\" \")\n",
    "    st=''\n",
    "    for str in s:\n",
    "        print(str)\n",
    "        for k in str:\n",
    "            st=k+st\n",
    "    return st\n",
    "string=\"Happy Learning\"\n",
    "print(string)\n",
    "print(reverse(string))"
   ]
  },
  {
   "cell_type": "code",
   "execution_count": null,
   "id": "40f93893",
   "metadata": {},
   "outputs": [],
   "source": [
    "def removestr(string,ch):\n",
    "    for i in string:\n",
    "        print(i)\n",
    "    return st\n",
    "string=\"Happy Learning\"\n",
    "print(string)\n",
    "print(reverse(string))"
   ]
  },
  {
   "cell_type": "code",
   "execution_count": 5,
   "id": "297af50e",
   "metadata": {},
   "outputs": [
    {
     "name": "stdout",
     "output_type": "stream",
     "text": [
      "aaaccd\n"
     ]
    }
   ],
   "source": [
    "str=\"aabaccd\"\n",
    "ch=\"b\"\n",
    "s=\"\"\n",
    "for i in str:\n",
    "    if i==ch:\n",
    "        continue\n",
    "    s=s+i\n",
    "print(s)"
   ]
  },
  {
   "cell_type": "code",
   "execution_count": 40,
   "id": "9bf1af74",
   "metadata": {},
   "outputs": [
    {
     "name": "stdout",
     "output_type": "stream",
     "text": [
      "Hello, I am Aadil! "
     ]
    }
   ],
   "source": [
    "str=\"Hello, I am Aadil!\"\n",
    "s=\"\"\n",
    "for word in str.split(\" \"):\n",
    "    print(word,end=\" \")"
   ]
  },
  {
   "cell_type": "code",
   "execution_count": 50,
   "id": "4ba56d78",
   "metadata": {},
   "outputs": [
    {
     "ename": "TypeError",
     "evalue": "unsupported operand type(s) for +: 'int' and 'str'",
     "output_type": "error",
     "traceback": [
      "\u001b[1;31m---------------------------------------------------------------------------\u001b[0m",
      "\u001b[1;31mTypeError\u001b[0m                                 Traceback (most recent call last)",
      "\u001b[1;32m<ipython-input-50-eda5659ce385>\u001b[0m in \u001b[0;36m<module>\u001b[1;34m\u001b[0m\n\u001b[0;32m      3\u001b[0m \u001b[1;32mfor\u001b[0m \u001b[0mword\u001b[0m \u001b[1;32min\u001b[0m \u001b[0mstr\u001b[0m\u001b[1;33m.\u001b[0m\u001b[0msplit\u001b[0m\u001b[1;33m(\u001b[0m\u001b[1;34m\" \"\u001b[0m\u001b[1;33m)\u001b[0m\u001b[1;33m:\u001b[0m\u001b[1;33m\u001b[0m\u001b[1;33m\u001b[0m\u001b[0m\n\u001b[0;32m      4\u001b[0m     \u001b[1;32mfor\u001b[0m \u001b[0mi\u001b[0m \u001b[1;32min\u001b[0m \u001b[0mrange\u001b[0m\u001b[1;33m(\u001b[0m\u001b[0mlen\u001b[0m\u001b[1;33m(\u001b[0m\u001b[0mword\u001b[0m\u001b[1;33m)\u001b[0m\u001b[1;33m)\u001b[0m\u001b[1;33m:\u001b[0m\u001b[1;33m\u001b[0m\u001b[1;33m\u001b[0m\u001b[0m\n\u001b[1;32m----> 5\u001b[1;33m         \u001b[0ms\u001b[0m\u001b[1;33m=\u001b[0m\u001b[0mi\u001b[0m\u001b[1;33m+\u001b[0m\u001b[0ms\u001b[0m\u001b[1;33m\u001b[0m\u001b[1;33m\u001b[0m\u001b[0m\n\u001b[0m\u001b[0;32m      6\u001b[0m         \u001b[0mprint\u001b[0m\u001b[1;33m(\u001b[0m\u001b[0ms\u001b[0m\u001b[1;33m)\u001b[0m\u001b[1;33m\u001b[0m\u001b[1;33m\u001b[0m\u001b[0m\n",
      "\u001b[1;31mTypeError\u001b[0m: unsupported operand type(s) for +: 'int' and 'str'"
     ]
    }
   ],
   "source": [
    "str=\"Hello, I am Aadil!\"\n",
    "s=\"\"\n",
    "for word in str.split(\" \"):\n",
    "    for i in word"
   ]
  },
  {
   "cell_type": "code",
   "execution_count": 70,
   "id": "008ac9d8",
   "metadata": {},
   "outputs": [
    {
     "name": "stdout",
     "output_type": "stream",
     "text": [
      "The original string is: Hello, I am Aadil!\n",
      "The reverse string is: ,olleHIma!lidaA "
     ]
    }
   ],
   "source": [
    "def reverse(str):\n",
    "    string = \" \"\n",
    "    stri=\"\"\n",
    "    for i in str:\n",
    "        string = i + string\n",
    "    for j in string.split(\" \"):\n",
    "        stri=j+stri\n",
    "    return stri\n",
    "\n",
    "str = \"Hello, I am Aadil!\"\n",
    "print(\"The original string is:\", str)\n",
    "print(\"The reverse string is:\", reverse(str),end=\" \")"
   ]
  },
  {
   "cell_type": "code",
   "execution_count": 87,
   "id": "0c611c6a",
   "metadata": {},
   "outputs": [
    {
     "name": "stdout",
     "output_type": "stream",
     "text": [
      "!lidaA ma I ,olleH\n"
     ]
    }
   ],
   "source": [
    "def reverse(string):\n",
    "    s=\"\"\n",
    "    for i in string:\n",
    "        s=i+s\n",
    "    return s\n",
    "string=\"Hello, I am Aadil!\"\n",
    "print(reverse(str))\n"
   ]
  },
  {
   "cell_type": "code",
   "execution_count": 100,
   "id": "73613ba4",
   "metadata": {},
   "outputs": [
    {
     "name": "stdout",
     "output_type": "stream",
     "text": [
      ",olleH I ma !lidaA  \n"
     ]
    }
   ],
   "source": [
    "def reverse(string):\n",
    "    s=\"\"\n",
    "    final=\" \"\n",
    "    for i in string:\n",
    "        s=i+s\n",
    "    for j in s.split(\" \"):\n",
    "        final=j+\" \"+final\n",
    "    return final\n",
    "string=\"Hello, I am Aadil!\"\n",
    "print(reverse(str))"
   ]
  },
  {
   "cell_type": "code",
   "execution_count": 101,
   "id": "b8157b55",
   "metadata": {},
   "outputs": [
    {
     "name": "stdout",
     "output_type": "stream",
     "text": [
      "None\n"
     ]
    }
   ],
   "source": [
    "def getCompressedString(input) :\n",
    "    freq_str=[0]*256\n",
    "    temp=string[0]\n",
    "    freq_str[ord(temp)]=0\n",
    "    for i in string:\n",
    "        if i==temp:\n",
    "            freq_str[ord(temp)]+=1\n",
    "        else:\n",
    "            temp=i\n",
    "    return \n",
    "    pass\n",
    "\n",
    "# Main.\n",
    "string = \"aaabbccdsa\"\n",
    "ans = getCompressedString(string)\n",
    "print(ans)"
   ]
  },
  {
   "cell_type": "code",
   "execution_count": 118,
   "id": "96294b09",
   "metadata": {},
   "outputs": [
    {
     "ename": "TypeError",
     "evalue": "can only concatenate str (not \"int\") to str",
     "output_type": "error",
     "traceback": [
      "\u001b[1;31m---------------------------------------------------------------------------\u001b[0m",
      "\u001b[1;31mTypeError\u001b[0m                                 Traceback (most recent call last)",
      "\u001b[1;32m<ipython-input-118-8df79de90e92>\u001b[0m in \u001b[0;36m<module>\u001b[1;34m\u001b[0m\n\u001b[0;32m     15\u001b[0m \u001b[1;31m# Main.\u001b[0m\u001b[1;33m\u001b[0m\u001b[1;33m\u001b[0m\u001b[1;33m\u001b[0m\u001b[0m\n\u001b[0;32m     16\u001b[0m \u001b[0mstring\u001b[0m \u001b[1;33m=\u001b[0m \u001b[1;34m\"aaabbccdsa\"\u001b[0m\u001b[1;33m\u001b[0m\u001b[1;33m\u001b[0m\u001b[0m\n\u001b[1;32m---> 17\u001b[1;33m \u001b[0mans\u001b[0m \u001b[1;33m=\u001b[0m \u001b[0mgetCompressedString\u001b[0m\u001b[1;33m(\u001b[0m\u001b[0mstring\u001b[0m\u001b[1;33m)\u001b[0m\u001b[1;33m\u001b[0m\u001b[1;33m\u001b[0m\u001b[0m\n\u001b[0m\u001b[0;32m     18\u001b[0m \u001b[0mprint\u001b[0m\u001b[1;33m(\u001b[0m\u001b[0mans\u001b[0m\u001b[1;33m)\u001b[0m\u001b[1;33m\u001b[0m\u001b[1;33m\u001b[0m\u001b[0m\n",
      "\u001b[1;32m<ipython-input-118-8df79de90e92>\u001b[0m in \u001b[0;36mgetCompressedString\u001b[1;34m(string)\u001b[0m\n\u001b[0;32m      7\u001b[0m             \u001b[0mtemp_count\u001b[0m\u001b[1;33m+=\u001b[0m\u001b[1;36m1\u001b[0m\u001b[1;33m\u001b[0m\u001b[1;33m\u001b[0m\u001b[0m\n\u001b[0;32m      8\u001b[0m             \u001b[1;32mif\u001b[0m \u001b[0mtemp_count\u001b[0m\u001b[1;33m>\u001b[0m\u001b[1;36m1\u001b[0m\u001b[1;33m:\u001b[0m\u001b[1;33m\u001b[0m\u001b[1;33m\u001b[0m\u001b[0m\n\u001b[1;32m----> 9\u001b[1;33m                 \u001b[0ms\u001b[0m\u001b[1;33m=\u001b[0m\u001b[0ms\u001b[0m\u001b[1;33m+\u001b[0m\u001b[0mtemp\u001b[0m\u001b[1;33m+\u001b[0m\u001b[0mtemp_count\u001b[0m\u001b[1;33m\u001b[0m\u001b[1;33m\u001b[0m\u001b[0m\n\u001b[0m\u001b[0;32m     10\u001b[0m         \u001b[1;32melse\u001b[0m\u001b[1;33m:\u001b[0m\u001b[1;33m\u001b[0m\u001b[1;33m\u001b[0m\u001b[0m\n\u001b[0;32m     11\u001b[0m             \u001b[0mtemp\u001b[0m\u001b[1;33m=\u001b[0m\u001b[0mi\u001b[0m\u001b[1;33m\u001b[0m\u001b[1;33m\u001b[0m\u001b[0m\n",
      "\u001b[1;31mTypeError\u001b[0m: can only concatenate str (not \"int\") to str"
     ]
    }
   ],
   "source": [
    "def getCompressedString(string) :\n",
    "    temp=string[0]\n",
    "    temp_count=0\n",
    "    s=''\n",
    "    for i in string:\n",
    "        if i==temp:\n",
    "            temp_count+=1\n",
    "            if temp_count>1:\n",
    "                s=s+temp+temp_count\n",
    "        else:\n",
    "            temp=i\n",
    "    return s\n",
    "    pass\n",
    "\n",
    "# Main.\n",
    "string = \"aaabbccdsa\"\n",
    "ans = getCompressedString(string)\n",
    "print(ans)"
   ]
  },
  {
   "cell_type": "code",
   "execution_count": 119,
   "id": "42496513",
   "metadata": {},
   "outputs": [
    {
     "ename": "TypeError",
     "evalue": "'str' object is not callable",
     "output_type": "error",
     "traceback": [
      "\u001b[1;31m---------------------------------------------------------------------------\u001b[0m",
      "\u001b[1;31mTypeError\u001b[0m                                 Traceback (most recent call last)",
      "\u001b[1;32m<ipython-input-119-7b6fafaf98b3>\u001b[0m in \u001b[0;36m<module>\u001b[1;34m\u001b[0m\n\u001b[0;32m     17\u001b[0m \u001b[1;33m\u001b[0m\u001b[0m\n\u001b[0;32m     18\u001b[0m \u001b[0mstring\u001b[0m \u001b[1;33m=\u001b[0m \u001b[1;34m\"pythooonnnpool\"\u001b[0m\u001b[1;33m\u001b[0m\u001b[1;33m\u001b[0m\u001b[0m\n\u001b[1;32m---> 19\u001b[1;33m \u001b[0mprint\u001b[0m\u001b[1;33m(\u001b[0m\u001b[0mcompress\u001b[0m\u001b[1;33m(\u001b[0m\u001b[0mstring\u001b[0m\u001b[1;33m)\u001b[0m\u001b[1;33m)\u001b[0m\u001b[1;33m\u001b[0m\u001b[1;33m\u001b[0m\u001b[0m\n\u001b[0m",
      "\u001b[1;32m<ipython-input-119-7b6fafaf98b3>\u001b[0m in \u001b[0;36mcompress\u001b[1;34m(string)\u001b[0m\n\u001b[0;32m      9\u001b[0m             \u001b[0mindex\u001b[0m \u001b[1;33m=\u001b[0m \u001b[0mindex\u001b[0m \u001b[1;33m+\u001b[0m \u001b[1;36m1\u001b[0m\u001b[1;33m\u001b[0m\u001b[1;33m\u001b[0m\u001b[0m\n\u001b[0;32m     10\u001b[0m         \u001b[1;32mif\u001b[0m \u001b[0mcount\u001b[0m \u001b[1;33m==\u001b[0m \u001b[1;36m1\u001b[0m\u001b[1;33m:\u001b[0m\u001b[1;33m\u001b[0m\u001b[1;33m\u001b[0m\u001b[0m\n\u001b[1;32m---> 11\u001b[1;33m             \u001b[0mcompressed\u001b[0m \u001b[1;33m+=\u001b[0m \u001b[0mstr\u001b[0m\u001b[1;33m(\u001b[0m\u001b[0mstring\u001b[0m\u001b[1;33m[\u001b[0m\u001b[0mindex\u001b[0m\u001b[1;33m]\u001b[0m\u001b[1;33m)\u001b[0m\u001b[1;33m\u001b[0m\u001b[1;33m\u001b[0m\u001b[0m\n\u001b[0m\u001b[0;32m     12\u001b[0m         \u001b[1;32melse\u001b[0m\u001b[1;33m:\u001b[0m\u001b[1;33m\u001b[0m\u001b[1;33m\u001b[0m\u001b[0m\n\u001b[0;32m     13\u001b[0m             \u001b[0mcompressed\u001b[0m \u001b[1;33m+=\u001b[0m \u001b[0mstr\u001b[0m\u001b[1;33m(\u001b[0m\u001b[0mstring\u001b[0m\u001b[1;33m[\u001b[0m\u001b[0mindex\u001b[0m\u001b[1;33m]\u001b[0m\u001b[1;33m)\u001b[0m \u001b[1;33m+\u001b[0m \u001b[0mstr\u001b[0m\u001b[1;33m(\u001b[0m\u001b[0mcount\u001b[0m\u001b[1;33m)\u001b[0m\u001b[1;33m\u001b[0m\u001b[1;33m\u001b[0m\u001b[0m\n",
      "\u001b[1;31mTypeError\u001b[0m: 'str' object is not callable"
     ]
    }
   ],
   "source": [
    "def compress(string):\n",
    "    index = 0\n",
    "    compressed = \"\"\n",
    "    len_str = len(string)\n",
    "    while index != len_str:\n",
    "        count = 1\n",
    "        while (index < len_str-1) and (string[index] == string[index+1]):\n",
    "            count = count + 1\n",
    "            index = index + 1\n",
    "        if count == 1:\n",
    "            compressed += str(string[index])\n",
    "        else:\n",
    "            compressed += str(string[index]) + str(count)\n",
    "        index = index + 1\n",
    "    return compressed\n",
    "      \n",
    "\n",
    "string = \"pythooonnnpool\"\n",
    "print(compress(string))\n"
   ]
  },
  {
   "cell_type": "code",
   "execution_count": 123,
   "id": "ff4d42d7",
   "metadata": {},
   "outputs": [
    {
     "ename": "TypeError",
     "evalue": "ord() expected string of length 1, but int found",
     "output_type": "error",
     "traceback": [
      "\u001b[1;31m---------------------------------------------------------------------------\u001b[0m",
      "\u001b[1;31mTypeError\u001b[0m                                 Traceback (most recent call last)",
      "\u001b[1;32m<ipython-input-123-eec2fcf5fa17>\u001b[0m in \u001b[0;36m<module>\u001b[1;34m\u001b[0m\n\u001b[0;32m     16\u001b[0m \u001b[1;33m\u001b[0m\u001b[0m\n\u001b[0;32m     17\u001b[0m \u001b[0ms\u001b[0m \u001b[1;33m=\u001b[0m \u001b[1;34m\"abbbaaaaaaccdaaab\"\u001b[0m\u001b[1;33m\u001b[0m\u001b[1;33m\u001b[0m\u001b[0m\n\u001b[1;32m---> 18\u001b[1;33m \u001b[0mprint\u001b[0m\u001b[1;33m(\u001b[0m\u001b[0msolve\u001b[0m\u001b[1;33m(\u001b[0m\u001b[0ms\u001b[0m\u001b[1;33m)\u001b[0m\u001b[1;33m)\u001b[0m\u001b[1;33m\u001b[0m\u001b[1;33m\u001b[0m\u001b[0m\n\u001b[0m",
      "\u001b[1;32m<ipython-input-123-eec2fcf5fa17>\u001b[0m in \u001b[0;36msolve\u001b[1;34m(s)\u001b[0m\n\u001b[0;32m      8\u001b[0m          \u001b[0mres\u001b[0m \u001b[1;33m=\u001b[0m \u001b[0mres\u001b[0m \u001b[1;33m+\u001b[0m \u001b[0ms\u001b[0m\u001b[1;33m[\u001b[0m\u001b[0mi\u001b[0m \u001b[1;33m-\u001b[0m \u001b[1;36m1\u001b[0m\u001b[1;33m]\u001b[0m\u001b[1;33m\u001b[0m\u001b[1;33m\u001b[0m\u001b[0m\n\u001b[0;32m      9\u001b[0m          \u001b[1;32mif\u001b[0m \u001b[0mcnt\u001b[0m \u001b[1;33m>\u001b[0m \u001b[1;36m1\u001b[0m\u001b[1;33m:\u001b[0m\u001b[1;33m\u001b[0m\u001b[1;33m\u001b[0m\u001b[0m\n\u001b[1;32m---> 10\u001b[1;33m             \u001b[0mres\u001b[0m \u001b[1;33m+=\u001b[0m \u001b[0mchr\u001b[0m\u001b[1;33m(\u001b[0m\u001b[0mord\u001b[0m\u001b[1;33m(\u001b[0m\u001b[0mcnt\u001b[0m\u001b[1;33m)\u001b[0m\u001b[1;33m)\u001b[0m\u001b[1;33m\u001b[0m\u001b[1;33m\u001b[0m\u001b[0m\n\u001b[0m\u001b[0;32m     11\u001b[0m          \u001b[0mcnt\u001b[0m \u001b[1;33m=\u001b[0m \u001b[1;36m1\u001b[0m\u001b[1;33m\u001b[0m\u001b[1;33m\u001b[0m\u001b[0m\n\u001b[0;32m     12\u001b[0m    \u001b[0mres\u001b[0m \u001b[1;33m=\u001b[0m \u001b[0mres\u001b[0m \u001b[1;33m+\u001b[0m \u001b[0ms\u001b[0m\u001b[1;33m[\u001b[0m\u001b[1;33m-\u001b[0m\u001b[1;36m1\u001b[0m\u001b[1;33m]\u001b[0m\u001b[1;33m\u001b[0m\u001b[1;33m\u001b[0m\u001b[0m\n",
      "\u001b[1;31mTypeError\u001b[0m: ord() expected string of length 1, but int found"
     ]
    }
   ],
   "source": [
    "def solve(s):\n",
    "   res = \"\"\n",
    "   cnt = 1\n",
    "   for i in range(1, len(s)):\n",
    "      if s[i - 1] == s[i]:\n",
    "         cnt += 1\n",
    "      else:\n",
    "         res = res + s[i - 1]\n",
    "         if cnt > 1:\n",
    "            res += chr(ord(cnt))\n",
    "         cnt = 1\n",
    "   res = res + s[-1]\n",
    "   if cnt > 1:\n",
    "      res += chr(ord(cnt))\n",
    "   return res\n",
    "\n",
    "s = \"abbbaaaaaaccdaaab\"\n",
    "print(solve(s))"
   ]
  },
  {
   "cell_type": "code",
   "execution_count": 127,
   "id": "a971b67e",
   "metadata": {},
   "outputs": [
    {
     "data": {
      "text/plain": [
       "97"
      ]
     },
     "execution_count": 127,
     "metadata": {},
     "output_type": "execute_result"
    }
   ],
   "source": [
    "ord(\"a\")"
   ]
  },
  {
   "cell_type": "code",
   "execution_count": 131,
   "id": "9fc945c3",
   "metadata": {},
   "outputs": [
    {
     "data": {
      "text/plain": [
       "49"
      ]
     },
     "execution_count": 131,
     "metadata": {},
     "output_type": "execute_result"
    }
   ],
   "source": [
    "ord('1')"
   ]
  },
  {
   "cell_type": "code",
   "execution_count": 134,
   "id": "b873f245",
   "metadata": {},
   "outputs": [
    {
     "ename": "TypeError",
     "evalue": "'str' object is not callable",
     "output_type": "error",
     "traceback": [
      "\u001b[1;31m---------------------------------------------------------------------------\u001b[0m",
      "\u001b[1;31mTypeError\u001b[0m                                 Traceback (most recent call last)",
      "\u001b[1;32m<ipython-input-134-cd899521b6b6>\u001b[0m in \u001b[0;36m<module>\u001b[1;34m\u001b[0m\n\u001b[0;32m     17\u001b[0m \u001b[1;31m# Main.\u001b[0m\u001b[1;33m\u001b[0m\u001b[1;33m\u001b[0m\u001b[1;33m\u001b[0m\u001b[0m\n\u001b[0;32m     18\u001b[0m \u001b[0mstring\u001b[0m \u001b[1;33m=\u001b[0m \u001b[1;34m\"aabbbbcccdeff\"\u001b[0m\u001b[1;33m\u001b[0m\u001b[1;33m\u001b[0m\u001b[0m\n\u001b[1;32m---> 19\u001b[1;33m \u001b[0mans\u001b[0m \u001b[1;33m=\u001b[0m \u001b[0mgetCompressedString\u001b[0m\u001b[1;33m(\u001b[0m\u001b[0mstring\u001b[0m\u001b[1;33m)\u001b[0m\u001b[1;33m\u001b[0m\u001b[1;33m\u001b[0m\u001b[0m\n\u001b[0m\u001b[0;32m     20\u001b[0m \u001b[0mprint\u001b[0m\u001b[1;33m(\u001b[0m\u001b[0mans\u001b[0m\u001b[1;33m)\u001b[0m\u001b[1;33m\u001b[0m\u001b[1;33m\u001b[0m\u001b[0m\n",
      "\u001b[1;32m<ipython-input-134-cd899521b6b6>\u001b[0m in \u001b[0;36mgetCompressedString\u001b[1;34m(input)\u001b[0m\n\u001b[0;32m     11\u001b[0m             \u001b[0mj\u001b[0m \u001b[1;33m=\u001b[0m \u001b[0mj\u001b[0m\u001b[1;33m+\u001b[0m\u001b[1;36m1\u001b[0m\u001b[1;33m\u001b[0m\u001b[1;33m\u001b[0m\u001b[0m\n\u001b[0;32m     12\u001b[0m         \u001b[1;32mif\u001b[0m \u001b[0mcount\u001b[0m \u001b[1;33m>\u001b[0m \u001b[1;36m1\u001b[0m\u001b[1;33m:\u001b[0m\u001b[1;33m\u001b[0m\u001b[1;33m\u001b[0m\u001b[0m\n\u001b[1;32m---> 13\u001b[1;33m             \u001b[0mans\u001b[0m \u001b[1;33m=\u001b[0m \u001b[0mans\u001b[0m\u001b[1;33m+\u001b[0m\u001b[0mstr\u001b[0m\u001b[1;33m(\u001b[0m\u001b[0mcount\u001b[0m\u001b[1;33m)\u001b[0m\u001b[1;33m\u001b[0m\u001b[1;33m\u001b[0m\u001b[0m\n\u001b[0m\u001b[0;32m     14\u001b[0m         \u001b[0mi\u001b[0m \u001b[1;33m=\u001b[0m \u001b[0mj\u001b[0m\u001b[1;33m\u001b[0m\u001b[1;33m\u001b[0m\u001b[0m\n\u001b[0;32m     15\u001b[0m     \u001b[1;32mreturn\u001b[0m \u001b[0mans\u001b[0m\u001b[1;33m\u001b[0m\u001b[1;33m\u001b[0m\u001b[0m\n",
      "\u001b[1;31mTypeError\u001b[0m: 'str' object is not callable"
     ]
    }
   ],
   "source": [
    "def getCompressedString(input) :\n",
    "    ans = ''\n",
    "    i = 0\n",
    "    n = len(input)\n",
    "    while i < n:\n",
    "        ans = ans+string[i]\n",
    "        count = 1\n",
    "        j = i+1\n",
    "        while j < n and string[j] == string[i]:\n",
    "            count = count+1\n",
    "            j = j+1\n",
    "        if count > 1:\n",
    "            ans = ans+str(count)\n",
    "        i = j\n",
    "    return ans\n",
    "\n",
    "# Main.\n",
    "string = \"aabbbbcccdeff\"\n",
    "ans = getCompressedString(string)\n",
    "print(ans)"
   ]
  },
  {
   "cell_type": "code",
   "execution_count": 137,
   "id": "b746db6e",
   "metadata": {},
   "outputs": [
    {
     "ename": "NameError",
     "evalue": "name 'stdin' is not defined",
     "output_type": "error",
     "traceback": [
      "\u001b[1;31m---------------------------------------------------------------------------\u001b[0m",
      "\u001b[1;31mNameError\u001b[0m                                 Traceback (most recent call last)",
      "\u001b[1;32m<ipython-input-137-ad98f2f772ae>\u001b[0m in \u001b[0;36m<module>\u001b[1;34m\u001b[0m\n\u001b[0;32m     16\u001b[0m \u001b[1;33m\u001b[0m\u001b[0m\n\u001b[0;32m     17\u001b[0m \u001b[1;31m# Main.\u001b[0m\u001b[1;33m\u001b[0m\u001b[1;33m\u001b[0m\u001b[1;33m\u001b[0m\u001b[0m\n\u001b[1;32m---> 18\u001b[1;33m \u001b[0mstring\u001b[0m \u001b[1;33m=\u001b[0m \u001b[0mstdin\u001b[0m\u001b[1;33m.\u001b[0m\u001b[0mreadline\u001b[0m\u001b[1;33m(\u001b[0m\u001b[1;33m)\u001b[0m\u001b[1;33m.\u001b[0m\u001b[0mstrip\u001b[0m\u001b[1;33m(\u001b[0m\u001b[1;33m)\u001b[0m\u001b[1;33m;\u001b[0m\u001b[1;33m\u001b[0m\u001b[1;33m\u001b[0m\u001b[0m\n\u001b[0m\u001b[0;32m     19\u001b[0m \u001b[0mans\u001b[0m \u001b[1;33m=\u001b[0m \u001b[0mgetCompressedString\u001b[0m\u001b[1;33m(\u001b[0m\u001b[0mstring\u001b[0m\u001b[1;33m)\u001b[0m\u001b[1;33m\u001b[0m\u001b[1;33m\u001b[0m\u001b[0m\n\u001b[0;32m     20\u001b[0m \u001b[0mprint\u001b[0m\u001b[1;33m(\u001b[0m\u001b[0mans\u001b[0m\u001b[1;33m)\u001b[0m\u001b[1;33m\u001b[0m\u001b[1;33m\u001b[0m\u001b[0m\n",
      "\u001b[1;31mNameError\u001b[0m: name 'stdin' is not defined"
     ]
    }
   ],
   "source": [
    "def getCompressedString(input) :\n",
    "    ans = ''\n",
    "    i = 0\n",
    "    n = len(input)\n",
    "    while i < n:\n",
    "        ans = ans+string[i]\n",
    "        count = 1\n",
    "        j = i+1\n",
    "        while j < n and string[j] == string[i]:\n",
    "            count = count+1\n",
    "            j = j+1\n",
    "        if count > 1:\n",
    "            ans = ans+str(count)\n",
    "        i = j\n",
    "    return ans\n",
    "\n",
    "# Main.\n",
    "string = stdin.readline().strip();\n",
    "ans = getCompressedString(string)\n",
    "print(ans)"
   ]
  },
  {
   "cell_type": "code",
   "execution_count": 140,
   "id": "edb1adf2",
   "metadata": {},
   "outputs": [
    {
     "name": "stdout",
     "output_type": "stream",
     "text": [
      "aaabbbccdg\n"
     ]
    },
    {
     "ename": "TypeError",
     "evalue": "'str' object is not callable",
     "output_type": "error",
     "traceback": [
      "\u001b[1;31m---------------------------------------------------------------------------\u001b[0m",
      "\u001b[1;31mTypeError\u001b[0m                                 Traceback (most recent call last)",
      "\u001b[1;32m<ipython-input-140-5a9c8104bf84>\u001b[0m in \u001b[0;36m<module>\u001b[1;34m\u001b[0m\n\u001b[0;32m     17\u001b[0m \u001b[1;31m# Main.\u001b[0m\u001b[1;33m\u001b[0m\u001b[1;33m\u001b[0m\u001b[1;33m\u001b[0m\u001b[0m\n\u001b[0;32m     18\u001b[0m \u001b[0mstring\u001b[0m \u001b[1;33m=\u001b[0m \u001b[0minput\u001b[0m\u001b[1;33m(\u001b[0m\u001b[1;33m)\u001b[0m\u001b[1;33m\u001b[0m\u001b[1;33m\u001b[0m\u001b[0m\n\u001b[1;32m---> 19\u001b[1;33m \u001b[0mans\u001b[0m \u001b[1;33m=\u001b[0m \u001b[0mgetCompressedString\u001b[0m\u001b[1;33m(\u001b[0m\u001b[0mstring\u001b[0m\u001b[1;33m)\u001b[0m\u001b[1;33m\u001b[0m\u001b[1;33m\u001b[0m\u001b[0m\n\u001b[0m\u001b[0;32m     20\u001b[0m \u001b[0mprint\u001b[0m\u001b[1;33m(\u001b[0m\u001b[0mans\u001b[0m\u001b[1;33m)\u001b[0m\u001b[1;33m\u001b[0m\u001b[1;33m\u001b[0m\u001b[0m\n",
      "\u001b[1;32m<ipython-input-140-5a9c8104bf84>\u001b[0m in \u001b[0;36mgetCompressedString\u001b[1;34m(input)\u001b[0m\n\u001b[0;32m     11\u001b[0m             \u001b[0mj\u001b[0m \u001b[1;33m=\u001b[0m \u001b[0mj\u001b[0m\u001b[1;33m+\u001b[0m\u001b[1;36m1\u001b[0m\u001b[1;33m\u001b[0m\u001b[1;33m\u001b[0m\u001b[0m\n\u001b[0;32m     12\u001b[0m         \u001b[1;32mif\u001b[0m \u001b[0mcount\u001b[0m \u001b[1;33m>\u001b[0m \u001b[1;36m1\u001b[0m\u001b[1;33m:\u001b[0m\u001b[1;33m\u001b[0m\u001b[1;33m\u001b[0m\u001b[0m\n\u001b[1;32m---> 13\u001b[1;33m             \u001b[0mans\u001b[0m \u001b[1;33m=\u001b[0m \u001b[0mans\u001b[0m\u001b[1;33m+\u001b[0m\u001b[0mstr\u001b[0m\u001b[1;33m(\u001b[0m\u001b[0mcount\u001b[0m\u001b[1;33m)\u001b[0m\u001b[1;33m\u001b[0m\u001b[1;33m\u001b[0m\u001b[0m\n\u001b[0m\u001b[0;32m     14\u001b[0m         \u001b[0mi\u001b[0m \u001b[1;33m=\u001b[0m \u001b[0mj\u001b[0m\u001b[1;33m\u001b[0m\u001b[1;33m\u001b[0m\u001b[0m\n\u001b[0;32m     15\u001b[0m     \u001b[1;32mreturn\u001b[0m \u001b[0mans\u001b[0m\u001b[1;33m\u001b[0m\u001b[1;33m\u001b[0m\u001b[0m\n",
      "\u001b[1;31mTypeError\u001b[0m: 'str' object is not callable"
     ]
    }
   ],
   "source": [
    "def getCompressedString(input) :\n",
    "    ans = ''\n",
    "    i = 0\n",
    "    n = len(input)\n",
    "    while i < n:\n",
    "        ans = ans+input[i]\n",
    "        count = 1\n",
    "        j = i+1\n",
    "        while j < n and input[j] == input[i]:\n",
    "            count = count+1\n",
    "            j = j+1\n",
    "        if count > 1:\n",
    "            ans = ans+str(count)\n",
    "        i = j\n",
    "    return ans\n",
    "\n",
    "# Main.\n",
    "string = input()\n",
    "ans = getCompressedString(string)\n",
    "print(ans)"
   ]
  },
  {
   "cell_type": "code",
   "execution_count": null,
   "id": "16b08a49",
   "metadata": {},
   "outputs": [],
   "source": []
  }
 ],
 "metadata": {
  "kernelspec": {
   "display_name": "Python 3",
   "language": "python",
   "name": "python3"
  },
  "language_info": {
   "codemirror_mode": {
    "name": "ipython",
    "version": 3
   },
   "file_extension": ".py",
   "mimetype": "text/x-python",
   "name": "python",
   "nbconvert_exporter": "python",
   "pygments_lexer": "ipython3",
   "version": "3.8.8"
  }
 },
 "nbformat": 4,
 "nbformat_minor": 5
}
