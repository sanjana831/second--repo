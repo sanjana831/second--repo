{
 "cells": [
  {
   "cell_type": "markdown",
   "id": "685cb07a",
   "metadata": {},
   "source": [
    "Swap alternate elements in list"
   ]
  },
  {
   "cell_type": "code",
   "execution_count": 1,
   "id": "39ebdb97",
   "metadata": {},
   "outputs": [
    {
     "name": "stdout",
     "output_type": "stream",
     "text": [
      "2\n",
      "1\n",
      "4\n",
      "3\n",
      "6\n",
      "5\n",
      "7\n"
     ]
    }
   ],
   "source": [
    "arr=[1,2,3,4,5,6,7]\n",
    "l=len(arr)\n",
    "for i in range(0,l-1,2):\n",
    "    arr[i],arr[i+1]=arr[i+1],arr[i]\n",
    "for i in range(0,l,1):\n",
    "    print(arr[i])"
   ]
  },
  {
   "cell_type": "markdown",
   "id": "dc90c244",
   "metadata": {},
   "source": [
    "Find the unique number"
   ]
  },
  {
   "cell_type": "code",
   "execution_count": 5,
   "id": "c3e7ce3b",
   "metadata": {},
   "outputs": [
    {
     "name": "stdout",
     "output_type": "stream",
     "text": [
      "4\n"
     ]
    }
   ],
   "source": [
    "li=[2,4,7,2,7]\n",
    "n=len(li)\n",
    "for i in range(n):\n",
    "        j = 0\n",
    "        while(j < n):\n",
    "            if i != j:\n",
    "                if li[i] == li[j]:\n",
    "                    break\n",
    "            j = j + 1\n",
    "        if j == n:\n",
    "            print(li[i])"
   ]
  },
  {
   "cell_type": "markdown",
   "id": "48a4c3e5",
   "metadata": {},
   "source": [
    "Find the duplicate number"
   ]
  },
  {
   "cell_type": "code",
   "execution_count": 10,
   "id": "8ee71b46",
   "metadata": {},
   "outputs": [
    {
     "name": "stdout",
     "output_type": "stream",
     "text": [
      "1\n",
      "1\n"
     ]
    }
   ],
   "source": [
    "\n",
    "li=[0,2,1,3,1]\n",
    "n=len(li)\n",
    "for i in range(n):\n",
    "    j=0\n",
    "    while j<n:\n",
    "        if i!=j:\n",
    "            if li[i]==li[j]:\n",
    "                print(li[i])\n",
    "                break\n",
    "        j+=1\n",
    "        "
   ]
  },
  {
   "cell_type": "markdown",
   "id": "17405644",
   "metadata": {},
   "source": [
    "Intersection of 2 lists"
   ]
  },
  {
   "cell_type": "code",
   "execution_count": 21,
   "id": "ffc118df",
   "metadata": {},
   "outputs": [
    {
     "name": "stdout",
     "output_type": "stream",
     "text": [
      "10 "
     ]
    }
   ],
   "source": [
    "arr1=[10,10]\n",
    "arr2=[10]\n",
    "n=len(arr1)\n",
    "m=len(arr2)\n",
    "for i in range(n):\n",
    "    j=0\n",
    "    for j in range(m):\n",
    "        if arr1[i]==arr2[j]:\n",
    "            print(arr1[i],end=\" \")\n",
    "            arr2[j]=-100000000\n",
    "            break"
   ]
  },
  {
   "cell_type": "code",
   "execution_count": 8,
   "id": "d59c8ba0",
   "metadata": {},
   "outputs": [
    {
     "name": "stdout",
     "output_type": "stream",
     "text": [
      "[9, 11, 26, 28]\n"
     ]
    }
   ],
   "source": [
    "def intersection(lst1, lst2):\n",
    "    lst3 = [value for value in lst1 if value in lst2]\n",
    "    return lst3\n",
    " \n",
    "# Driver Code\n",
    "lst1 = [4, 9, 1, 17, 11, 26, 28, 54, 69]\n",
    "lst2 = [9, 9, 74, 21, 45, 11, 63, 28, 26]\n",
    "print(intersection(lst1, lst2))"
   ]
  },
  {
   "cell_type": "markdown",
   "id": "b6c38b12",
   "metadata": {},
   "source": [
    "Pair Sum"
   ]
  },
  {
   "cell_type": "code",
   "execution_count": 46,
   "id": "a660a5d7",
   "metadata": {},
   "outputs": [
    {
     "name": "stdout",
     "output_type": "stream",
     "text": [
      "7\n"
     ]
    }
   ],
   "source": [
    "arr=[1,3,6,2,5,4,3,2,4]\n",
    "x=7\n",
    "l=len(arr)\n",
    "count=0\n",
    "for i in range(l):\n",
    "    for j in range(i,l):\n",
    "        if i!=j:\n",
    "            if (arr[i]+arr[j])==x:\n",
    "                count+=1\n",
    "print(count)"
   ]
  },
  {
   "cell_type": "code",
   "execution_count": 47,
   "id": "61a6f75c",
   "metadata": {},
   "outputs": [
    {
     "name": "stdout",
     "output_type": "stream",
     "text": [
      "2\n"
     ]
    }
   ],
   "source": [
    "arr=[2,8,10,5,-2,5]\n",
    "x=10\n",
    "l=len(arr)\n",
    "count=0\n",
    "for i in range(l):\n",
    "    for j in range(i,l):\n",
    "        if i!=j:\n",
    "            if (arr[i]+arr[j])==x:\n",
    "                count+=1\n",
    "print(count)"
   ]
  },
  {
   "cell_type": "markdown",
   "id": "6b294748",
   "metadata": {},
   "source": [
    "Triplet Sum"
   ]
  },
  {
   "cell_type": "code",
   "execution_count": 49,
   "id": "2d495f47",
   "metadata": {},
   "outputs": [
    {
     "name": "stdout",
     "output_type": "stream",
     "text": [
      "0\n"
     ]
    }
   ],
   "source": [
    "arr=[1,2,3,4,5,6,7]\n",
    "x=19\n",
    "l=len(arr)\n",
    "count=0\n",
    "for i in range(l):\n",
    "    for j in range(i,l):\n",
    "        for k in range(j,l):\n",
    "            if i!=j and j!=k:\n",
    "                if (arr[i]+arr[j]+arr[k])==x:\n",
    "                    count+=1\n",
    "print(count)"
   ]
  },
  {
   "cell_type": "code",
   "execution_count": 50,
   "id": "577a6ad2",
   "metadata": {},
   "outputs": [
    {
     "name": "stdout",
     "output_type": "stream",
     "text": [
      "5\n"
     ]
    }
   ],
   "source": [
    "arr=[2,-5,8,-6,0,5,10,11,-3]\n",
    "x=10\n",
    "l=len(arr)\n",
    "count=0\n",
    "for i in range(l):\n",
    "    for j in range(i,l):\n",
    "        for k in range(j,l):\n",
    "            if i!=j and j!=k:\n",
    "                if (arr[i]+arr[j]+arr[k])==x:\n",
    "                    count+=1\n",
    "print(count)"
   ]
  },
  {
   "cell_type": "markdown",
   "id": "462908b1",
   "metadata": {},
   "source": [
    "Sort 0 1"
   ]
  },
  {
   "cell_type": "code",
   "execution_count": 57,
   "id": "3bda9e83",
   "metadata": {},
   "outputs": [
    {
     "name": "stdout",
     "output_type": "stream",
     "text": [
      "[0, 0, 0, 1, 1, 1, 1, 1]\n"
     ]
    }
   ],
   "source": [
    "arr=[1,0,1,1,0,1,0,1]\n",
    "i=0\n",
    "j=len(arr)-1\n",
    "while i<j:\n",
    "    while i<j and arr[i]==0:\n",
    "        i+=1\n",
    "    if i>=j:\n",
    "        break\n",
    "    while i<j and arr[j]==1:\n",
    "        j-=1\n",
    "    if i>=j:\n",
    "        break\n",
    "    arr[i],arr[j]=arr[j],arr[i]\n",
    "    j-=1\n",
    "    i+=1\n",
    "print(arr)"
   ]
  },
  {
   "cell_type": "code",
   "execution_count": null,
   "id": "f54cfeeb",
   "metadata": {},
   "outputs": [],
   "source": []
  }
 ],
 "metadata": {
  "kernelspec": {
   "display_name": "Python 3",
   "language": "python",
   "name": "python3"
  },
  "language_info": {
   "codemirror_mode": {
    "name": "ipython",
    "version": 3
   },
   "file_extension": ".py",
   "mimetype": "text/x-python",
   "name": "python",
   "nbconvert_exporter": "python",
   "pygments_lexer": "ipython3",
   "version": "3.8.8"
  }
 },
 "nbformat": 4,
 "nbformat_minor": 5
}
