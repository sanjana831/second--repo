{
 "cells": [
  {
   "cell_type": "code",
   "execution_count": null,
   "id": "df518da7",
   "metadata": {},
   "outputs": [],
   "source": [
    "s='abcd'\n",
    "for c in s:\n",
    "    print(c)"
   ]
  },
  {
   "cell_type": "code",
   "execution_count": 3,
   "id": "5474885a",
   "metadata": {
    "scrolled": true
   },
   "outputs": [
    {
     "name": "stdout",
     "output_type": "stream",
     "text": [
      "5\n",
      "1\n",
      "2\n",
      "3\n",
      "4\n",
      "5\n"
     ]
    }
   ],
   "source": [
    "# print num from 1 to n\n",
    "n=int(input())\n",
    "for i in range(1,n+1,1):\n",
    "    print(i)"
   ]
  },
  {
   "cell_type": "code",
   "execution_count": 4,
   "id": "f2a5e293",
   "metadata": {},
   "outputs": [
    {
     "name": "stdout",
     "output_type": "stream",
     "text": [
      "1 3 "
     ]
    }
   ],
   "source": [
    "for i in range(1,5,2):\n",
    "    print(i,end=' ')"
   ]
  },
  {
   "cell_type": "code",
   "execution_count": 5,
   "id": "c75d51ad",
   "metadata": {},
   "outputs": [
    {
     "name": "stdout",
     "output_type": "stream",
     "text": [
      "0 1 2 3 4 "
     ]
    }
   ],
   "source": [
    "for i in range(5):\n",
    "    print(i,end= ' ')"
   ]
  },
  {
   "cell_type": "code",
   "execution_count": 12,
   "id": "93347546",
   "metadata": {},
   "outputs": [
    {
     "name": "stdout",
     "output_type": "stream",
     "text": [
      "3\n",
      "19\n",
      "3\n",
      "6\n",
      "9\n",
      "12\n",
      "15\n",
      "18\n"
     ]
    }
   ],
   "source": [
    "a=int(input())\n",
    "b=int(input())\n",
    "for i in range(a,b+1,a):\n",
    "    print(i)"
   ]
  },
  {
   "cell_type": "code",
   "execution_count": 12,
   "id": "31d83be7",
   "metadata": {},
   "outputs": [
    {
     "name": "stdout",
     "output_type": "stream",
     "text": [
      "1\n",
      "prime\n"
     ]
    }
   ],
   "source": [
    "#to check if a num is prime\n",
    "n=int(input())\n",
    "for i in range(2,n,1):\n",
    "    if n%i==0:\n",
    "        print(\"not prime\")\n",
    "        break\n",
    "else:\n",
    "    print(\"prime\")\n"
   ]
  },
  {
   "cell_type": "code",
   "execution_count": 27,
   "id": "b8013623",
   "metadata": {},
   "outputs": [
    {
     "name": "stdout",
     "output_type": "stream",
     "text": [
      "4\n",
      "   1\n",
      "  232\n",
      " 34543\n",
      "4567654\n"
     ]
    }
   ],
   "source": [
    "n=int(input())\n",
    "for i in range(1,n+1,1):\n",
    "    for s in range(n-i):\n",
    "        print(\" \",end=\"\")\n",
    "    for j in range(i,2*i,1):\n",
    "        print(j,end=\"\")\n",
    "    for k in range(2*i-2,i-1,-1):\n",
    "        print(k,end=\"\")\n",
    "    print()"
   ]
  },
  {
   "cell_type": "code",
   "execution_count": 13,
   "id": "d96035e0",
   "metadata": {},
   "outputs": [
    {
     "name": "stdout",
     "output_type": "stream",
     "text": [
      "10\n",
      "2\n",
      "3\n",
      "5\n",
      "7\n"
     ]
    }
   ],
   "source": [
    "# print all the prime numbers from 2 to n\n",
    "n=int(input())\n",
    "k=2\n",
    "while k<n:\n",
    "    d=2\n",
    "    flag=False\n",
    "    while d<k:\n",
    "        if k%d==0:\n",
    "            flag=True\n",
    "            break\n",
    "        d+=1\n",
    "    if (not(flag)):\n",
    "        print(k)\n",
    "    k+=1\n",
    "            "
   ]
  },
  {
   "cell_type": "code",
   "execution_count": 14,
   "id": "62430a64",
   "metadata": {},
   "outputs": [
    {
     "name": "stdout",
     "output_type": "stream",
     "text": [
      "1 2 "
     ]
    }
   ],
   "source": [
    "i=1\n",
    "while i<5:\n",
    "    if i==3:\n",
    "        break\n",
    "    print(i,end=\" \")\n",
    "    i = i +1"
   ]
  },
  {
   "cell_type": "code",
   "execution_count": 16,
   "id": "b42bb53f",
   "metadata": {},
   "outputs": [
    {
     "name": "stdout",
     "output_type": "stream",
     "text": [
      "1 2 1 2 "
     ]
    }
   ],
   "source": [
    "i=1\n",
    "while i<3:\n",
    "    j=1\n",
    "    while j<5:\n",
    "        if j==3:\n",
    "            break\n",
    "        print(j,end=\" \")\n",
    "        j = j + 1\n",
    "    i = i + 1"
   ]
  },
  {
   "cell_type": "code",
   "execution_count": 18,
   "id": "5ce38fdd",
   "metadata": {},
   "outputs": [
    {
     "name": "stdout",
     "output_type": "stream",
     "text": [
      "1 2 3 4 Else is also printed\n"
     ]
    }
   ],
   "source": [
    "i=1\n",
    "while i<5:\n",
    "    if i == 6:\n",
    "        break\n",
    "    print(i,end=\" \")\n",
    "    i = i + 1\n",
    "else:\n",
    "    print('Else is also printed')"
   ]
  },
  {
   "cell_type": "code",
   "execution_count": 20,
   "id": "33998c6c",
   "metadata": {},
   "outputs": [
    {
     "name": "stdout",
     "output_type": "stream",
     "text": [
      "1 2 "
     ]
    }
   ],
   "source": [
    "i=1\n",
    "while i<5:\n",
    "    if i == 3:\n",
    "        break\n",
    "    print(i,end=' ')\n",
    "    i = i + 1\n",
    "else:\n",
    "    print('Else is also printed')"
   ]
  },
  {
   "cell_type": "code",
   "execution_count": 7,
   "id": "551c3b14",
   "metadata": {},
   "outputs": [
    {
     "name": "stdout",
     "output_type": "stream",
     "text": [
      "1\n",
      "2\n",
      "4\n",
      "5\n",
      "6\n"
     ]
    }
   ],
   "source": [
    "for i in range(1,7,1):\n",
    "    if i==3:\n",
    "        continue\n",
    "    print(i)"
   ]
  },
  {
   "cell_type": "code",
   "execution_count": 11,
   "id": "b900fe22",
   "metadata": {},
   "outputs": [
    {
     "name": "stdout",
     "output_type": "stream",
     "text": [
      "30\n",
      "2\n",
      "4\n",
      "6\n",
      "8\n",
      "10\n",
      "12\n",
      "16\n",
      "18\n",
      "20\n",
      "22\n",
      "24\n",
      "26\n",
      "30\n"
     ]
    }
   ],
   "source": [
    "n=int(input())\n",
    "for i in range(2,n+1,2):\n",
    "    if i%7==0:\n",
    "        continue\n",
    "    print(i)"
   ]
  },
  {
   "cell_type": "code",
   "execution_count": 14,
   "id": "591d36a5",
   "metadata": {},
   "outputs": [
    {
     "name": "stdout",
     "output_type": "stream",
     "text": [
      "30\n",
      "2\n",
      "2\n",
      "4\n",
      "4\n",
      "6\n",
      "6\n",
      "8\n",
      "8\n",
      "10\n",
      "10\n",
      "12\n",
      "12\n",
      "14\n",
      "16\n",
      "16\n",
      "18\n",
      "18\n",
      "20\n",
      "20\n",
      "22\n",
      "22\n",
      "24\n",
      "24\n",
      "26\n",
      "26\n",
      "28\n",
      "30\n",
      "30\n"
     ]
    }
   ],
   "source": [
    "n=int(input())\n",
    "for i in range(2,n+1,2):\n",
    "    print(i)\n",
    "    if i%7==0:\n",
    "        continue\n",
    "    print(i)"
   ]
  },
  {
   "cell_type": "code",
   "execution_count": 16,
   "id": "69f4ac03",
   "metadata": {},
   "outputs": [
    {
     "name": "stdout",
     "output_type": "stream",
     "text": [
      "1 2 4 "
     ]
    }
   ],
   "source": [
    "i=1\n",
    "while i<5:\n",
    "    if i==3:\n",
    "        i+=1\n",
    "        continue\n",
    "    print(i,end=\" \")\n",
    "    i = i + 1"
   ]
  },
  {
   "cell_type": "code",
   "execution_count": 18,
   "id": "87259182",
   "metadata": {},
   "outputs": [
    {
     "name": "stdout",
     "output_type": "stream",
     "text": [
      "1 2 4 5 1 2 4 5 "
     ]
    }
   ],
   "source": [
    "i=1\n",
    "while i<3:\n",
    "    j=0\n",
    "    while j<5:\n",
    "        j = j +1\n",
    "        if j==3:\n",
    "            continue\n",
    "        print(j,end=\" \")\n",
    "    i = i +1"
   ]
  },
  {
   "cell_type": "code",
   "execution_count": 34,
   "id": "8c89ad8e",
   "metadata": {},
   "outputs": [
    {
     "name": "stdout",
     "output_type": "stream",
     "text": [
      "4\n",
      "1111\n",
      "000\n",
      "11\n",
      "0\n"
     ]
    }
   ],
   "source": [
    "n=int(input())\n",
    "for i in range(1,n+1,1):\n",
    "    for k in range(1,n+2-i,1):\n",
    "        if i%2!=0:\n",
    "            print(\"1\",end=\"\")\n",
    "        else:\n",
    "            print(\"0\",end=\"\")\n",
    "    print()"
   ]
  },
  {
   "cell_type": "code",
   "execution_count": 27,
   "id": "d4329968",
   "metadata": {},
   "outputs": [
    {
     "name": "stdout",
     "output_type": "stream",
     "text": [
      "4\n",
      "1111\n",
      "000\n",
      "11\n",
      "0\n"
     ]
    }
   ],
   "source": [
    "n=int(input())\n",
    "i=1\n",
    "while i<=n:\n",
    "    j=1\n",
    "    while j<=(n+1-i):\n",
    "        if i%2!=0:\n",
    "            print(\"1\",end=\"\")\n",
    "        else:\n",
    "            print(\"0\",end=\"\")\n",
    "        j+=1\n",
    "    print()\n",
    "    i+=1\n",
    "            "
   ]
  },
  {
   "cell_type": "code",
   "execution_count": 31,
   "id": "dfa0a5b1",
   "metadata": {},
   "outputs": [
    {
     "name": "stdout",
     "output_type": "stream",
     "text": [
      "5\n",
      "1\n",
      "12\n",
      "123\n",
      "1234\n",
      "12345\n"
     ]
    }
   ],
   "source": [
    "n=int(input())\n",
    "for i in range(1,n+1,1):\n",
    "    for k in range(1,i+1,1):\n",
    "        print(k,end=\"\")\n",
    "    print()\n",
    "        "
   ]
  },
  {
   "cell_type": "code",
   "execution_count": 35,
   "id": "91e576d8",
   "metadata": {},
   "outputs": [
    {
     "name": "stdout",
     "output_type": "stream",
     "text": [
      "6\n",
      "123456\n",
      "23456\n",
      "3456\n",
      "456\n",
      "56\n",
      "6\n"
     ]
    }
   ],
   "source": [
    "n=int(input())\n",
    "for i in range(1,n+1,1):\n",
    "    for j in range(i,n+1,1):\n",
    "        print(j,end=\"\")\n",
    "    print()"
   ]
  },
  {
   "cell_type": "code",
   "execution_count": 42,
   "id": "52f18821",
   "metadata": {},
   "outputs": [
    {
     "name": "stdout",
     "output_type": "stream",
     "text": [
      "6\n",
      "123456\n",
      " 23456\n",
      "  3456\n",
      "   456\n",
      "    56\n",
      "     6\n"
     ]
    }
   ],
   "source": [
    "n=int(input())\n",
    "for i in range(1,n+1,1):\n",
    "    for s in range(1,i,1):\n",
    "        print(\" \",end=\"\")\n",
    "    for j in range(i,n+1,1):\n",
    "        print(j,end=\"\")\n",
    "    print()"
   ]
  },
  {
   "cell_type": "code",
   "execution_count": 91,
   "id": "980650df",
   "metadata": {},
   "outputs": [
    {
     "name": "stdout",
     "output_type": "stream",
     "text": [
      "6\n",
      "123456\n",
      " 23456\n",
      "  3456\n",
      "   456\n",
      "    56\n",
      "     6\n",
      "    56\n",
      "   456\n",
      "  3456\n",
      " 23456\n",
      "123456\n"
     ]
    }
   ],
   "source": [
    "n=int(input())\n",
    "for i in range(1,n+1,1):\n",
    "    for s in range(1,i,1):\n",
    "        print(\" \",end=\"\")\n",
    "    for j in range(i,n+1,1):\n",
    "        print(j,end=\"\")\n",
    "    print()\n",
    "for i in range(1,n,1):\n",
    "    for k in range(1,n-i,1):\n",
    "        print(\" \",end=\"\")\n",
    "    for a in range(n-i,n+1,1):\n",
    "        print(a,end=\"\")\n",
    "    print()"
   ]
  },
  {
   "cell_type": "code",
   "execution_count": 45,
   "id": "01a8e0f9",
   "metadata": {},
   "outputs": [
    {
     "name": "stdout",
     "output_type": "stream",
     "text": [
      "5\n",
      "  *\n",
      " ***\n",
      "*****\n"
     ]
    }
   ],
   "source": [
    "n1=(n+1)//2\n",
    "n2=n-n1\n",
    "n=int(input())\n",
    "for i in range(1,n1+1,1):\n",
    "    for j in range(1,n1-i+1,1):\n",
    "        print(\" \",end=\"\")\n",
    "    for k in range(1,2*i,1):\n",
    "        print(\"*\",end=\"\")\n",
    "    print()"
   ]
  },
  {
   "cell_type": "code",
   "execution_count": 99,
   "id": "43c455fb",
   "metadata": {},
   "outputs": [
    {
     "name": "stdout",
     "output_type": "stream",
     "text": [
      "5\n",
      "  *\n",
      " ***\n",
      "*****\n",
      " ***\n",
      "  ***\n"
     ]
    }
   ],
   "source": [
    "n=int(input())\n",
    "n1=(n+1)//2\n",
    "n2=n-n1\n",
    "for i in range(1,n1+1,1):\n",
    "    for j in range(1,n1-i+1,1):\n",
    "        print(\" \",end=\"\")\n",
    "    for k in range(1,2*i,1):\n",
    "        print(\"*\",end=\"\")\n",
    "    print()\n",
    "for m in range(1,n2+1,1):\n",
    "    for l in range(1,m+1,1):\n",
    "        print(\" \",end=\"\")\n",
    "    for b in range(1,(2*n)-(2*b),1):\n",
    "        print(\"*\",end=\"\")\n",
    "    print()"
   ]
  },
  {
   "cell_type": "code",
   "execution_count": 100,
   "id": "3aa4fadf",
   "metadata": {},
   "outputs": [
    {
     "name": "stdout",
     "output_type": "stream",
     "text": [
      "3\n",
      "#\n",
      "##\n",
      "###\n"
     ]
    }
   ],
   "source": [
    "\n",
    "n2=int(input())\n",
    "for m in range(1,n2+1,1):\n",
    "    for l in range(1,m+1,1):\n",
    "        print(\"#\",end=\"\")\n",
    "    for p in range(1,(2*n2)-(2*b),1):\n",
    "        print(\"*\",end=\"\")\n",
    "    print()"
   ]
  },
  {
   "cell_type": "code",
   "execution_count": 4,
   "id": "cce279ff",
   "metadata": {},
   "outputs": [
    {
     "name": "stdout",
     "output_type": "stream",
     "text": [
      "7\n",
      "   *\n",
      "  ***\n",
      " *****\n",
      "*******\n",
      " *****\n",
      "  ***\n",
      "   *\n"
     ]
    }
   ],
   "source": [
    "n=int(input())\n",
    "n1=(n+1)//2\n",
    "n2=n-n1\n",
    "for i in range(1,n1+1,1):\n",
    "    for j in range(1,n1-i+1,1):\n",
    "        print(\" \",end=\"\")\n",
    "    for k in range(1,2*i,1):\n",
    "        print(\"*\",end=\"\")\n",
    "    print()\n",
    "for m in range(1,n2+1,1):\n",
    "    for l in range(1,m+1,1):\n",
    "        print(\" \",end=\"\")\n",
    "    for b in range(1,2*n2-2*m+2,1):\n",
    "        print(\"*\",end=\"\")\n",
    "    print()"
   ]
  },
  {
   "cell_type": "code",
   "execution_count": 25,
   "id": "2408c809",
   "metadata": {},
   "outputs": [
    {
     "name": "stdout",
     "output_type": "stream",
     "text": [
      "4\n",
      "1 2 3 4 \n",
      "9 10 11 12 \n",
      "13 14 15 16 \n",
      "5 6 7 8 \n"
     ]
    }
   ],
   "source": [
    "n=int(input())\n",
    "for i in range(1,n+1,1):\n",
    "    print(i,end=\" \")\n",
    "    if i%n!=0:\n",
    "        pass\n",
    "print()\n",
    "for k in range(n+5,n+9,1):\n",
    "    print(k,end=\" \")\n",
    "    if k%n!=0:\n",
    "        pass\n",
    "print()\n",
    "for l in range(n+9,n+13,1):\n",
    "    print(l,end=\" \")\n",
    "    if l%n!=0:\n",
    "        pass\n",
    "print()\n",
    "for j in range(n+1,n+5,1):\n",
    "    print(j,end=\" \")\n",
    "    if j%n!=0:\n",
    "        pass\n",
    "print()"
   ]
  },
  {
   "cell_type": "code",
   "execution_count": 26,
   "id": "a3aa469d",
   "metadata": {},
   "outputs": [
    {
     "name": "stdout",
     "output_type": "stream",
     "text": [
      "5\n",
      "1 2 3 4 5 \n",
      "11 12 13 14 15 \n",
      "21 22 23 24 25 \n",
      "6 7 8 9 10 \n",
      "6 7 8 9 10 \n"
     ]
    }
   ],
   "source": [
    "n = int(input())\n",
    "upper = int(n/2)+1\n",
    "lower = n - upper\n",
    "start_i_lower = 0\n",
    "\n",
    "for i in range(0, upper):\n",
    "  if i != 0:\n",
    "    i = i + i\n",
    "  start = n*i + 1\n",
    "  end = start + n\n",
    "\n",
    "  for j in range(start, end):\n",
    "    print(j, end =\" \")\n",
    "  start_i_lower = i\n",
    "  print()\n",
    "\n",
    "start_i_lower -= 1\n",
    "\n",
    "for i in range(0, lower):\n",
    "  if(n%2 == 0):\n",
    "    start_i_lower -= 1\n",
    "\n",
    "  start = n*(start_i_lower-1) + 1\n",
    "  end = start + n\n",
    "\n",
    "  for j in range(1, n+1):\n",
    "        print(j+n, end =\" \")\n",
    "\n",
    "  print()"
   ]
  },
  {
   "cell_type": "code",
   "execution_count": 27,
   "id": "e05cf8de",
   "metadata": {},
   "outputs": [
    {
     "name": "stdout",
     "output_type": "stream",
     "text": [
      "4\n",
      "1 2 3 4 \n",
      "9 10 11 12 \n",
      "17 18 19 20 \n",
      "5 6 7 8 \n"
     ]
    }
   ],
   "source": [
    "n = int(input())\n",
    "upper = int(n/2)+1\n",
    "lower = n - upper\n",
    "start_i_lower = 0\n",
    "\n",
    "for i in range(0, upper):\n",
    "  if i != 0:\n",
    "    i = i + i\n",
    "  start = n*i + 1\n",
    "  end = start + n\n",
    "\n",
    "  for j in range(start, end):\n",
    "    print(j, end =\" \")\n",
    "  start_i_lower = i\n",
    "  print()\n",
    "\n",
    "start_i_lower -= 1\n",
    "\n",
    "for i in range(0, lower):\n",
    "  if(n%2 == 0):\n",
    "    start_i_lower -= 1\n",
    "\n",
    "  start = n*(start_i_lower-1) + 1\n",
    "  end = start + n\n",
    "\n",
    "  for j in range(1, n+1):\n",
    "        print(j+n, end =\" \")\n",
    "\n",
    "  print()"
   ]
  },
  {
   "cell_type": "code",
   "execution_count": 30,
   "id": "c614b024",
   "metadata": {},
   "outputs": [
    {
     "name": "stdout",
     "output_type": "stream",
     "text": [
      "1 2 3 4 5 \n",
      "11 12 13 14 15 \n",
      "21 22 23 24 25 \n",
      "16 17 18 19 20 \n",
      "6 7 8 9 10 \n"
     ]
    }
   ],
   "source": [
    "n = 5\n",
    "h = 0\n",
    "d = int(n/2)+1\n",
    "for r in range(0, n):\n",
    "\ts=''\n",
    "\tfor c in range(1, n+1):\n",
    "\t\tif r<d:\n",
    "\t\t\th = r*2\n",
    "\t\telif r==d:\n",
    "\t\t\th = d\n",
    "\t\telse:\n",
    "\t\t\th = int(d/3)\n",
    "\t\ts+=str(h*n+c) + ' '\n",
    "\tprint(s)"
   ]
  },
  {
   "cell_type": "code",
   "execution_count": 12,
   "id": "afc54fa6",
   "metadata": {},
   "outputs": [
    {
     "name": "stdout",
     "output_type": "stream",
     "text": [
      "4\n",
      "1 2 3 4 \n",
      "9 10 11 12 \n",
      "13 14 15 16 \n",
      "5 6 7 8 \n"
     ]
    }
   ],
   "source": [
    "n=int(input())\n",
    "for i in range(1,n+1,1):\n",
    "    print(i,end=\" \")\n",
    "    if i%n==0:\n",
    "        break\n",
    "print()\n",
    "for k in range(n+5,n+9,1):\n",
    "    print(k,end=\" \")\n",
    "    if k%n==0:\n",
    "        break\n",
    "print()\n",
    "for l in range(n+9,n+13,1):\n",
    "    print(l,end=\" \")\n",
    "    if l%n==0:\n",
    "        break\n",
    "print()\n",
    "for j in range(n+1,n+5,1):\n",
    "    print(j,end=\" \")\n",
    "    if j%n==0:\n",
    "        break\n",
    "print()"
   ]
  },
  {
   "cell_type": "code",
   "execution_count": null,
   "id": "7f324572",
   "metadata": {},
   "outputs": [],
   "source": [
    "n=int(input())\n",
    "for q in range(n):\n",
    "    z=q*n\n",
    "for i in range(1,n+1,1):\n",
    "    print(i,end=\" \")\n",
    "    if i%n==0:\n",
    "        break\n",
    "print()\n",
    "for k in range(n+5,n+9,1):\n",
    "    print(k,end=\" \")\n",
    "    if k%n==0:\n",
    "        break\n",
    "print()\n",
    "for l in range(n+9,n+13,1):\n",
    "    print(l,end=\" \")\n",
    "    if l%n==0:\n",
    "        break\n",
    "print()\n",
    "for j in range(n+1,n+5,1):\n",
    "    print(j,end=\" \")\n",
    "    if j%n==0:\n",
    "        break\n",
    "print()"
   ]
  },
  {
   "cell_type": "code",
   "execution_count": 4,
   "id": "b6a11853",
   "metadata": {},
   "outputs": [
    {
     "name": "stdout",
     "output_type": "stream",
     "text": [
      "4\n",
      "4\n",
      "8\n",
      "12\n",
      "16\n"
     ]
    }
   ],
   "source": [
    "n=int(input())\n",
    "for q in range(1,n+1,1):\n",
    "    z=q*n\n",
    "    print(z)"
   ]
  },
  {
   "cell_type": "code",
   "execution_count": 28,
   "id": "ff351350",
   "metadata": {},
   "outputs": [
    {
     "name": "stdout",
     "output_type": "stream",
     "text": [
      "4\n",
      "1 2 3 4 \n",
      "5 6 7 8 \n",
      "9 10 11 12 \n",
      "13 14 15 16 \n"
     ]
    }
   ],
   "source": [
    "n=int(input())\n",
    "for i in range(1,n*n+1,1):\n",
    "    print(i,end=\" \")\n",
    "    if i%(n)==0:\n",
    "        print()"
   ]
  },
  {
   "cell_type": "code",
   "execution_count": 27,
   "id": "107a1702",
   "metadata": {
    "scrolled": false
   },
   "outputs": [
    {
     "name": "stdout",
     "output_type": "stream",
     "text": [
      "5\n",
      "1 2 3 4 5 \n",
      "6 7 8 9 10 \n",
      "11 12 13 14 15 \n",
      "16 17 18 19 20 \n",
      "21 22 23 24 25 \n"
     ]
    }
   ],
   "source": [
    "n=int(input())\n",
    "for i in range(n):\n",
    "    for j in range(1,n+1,1):\n",
    "        print(n*i+j,end=\" \")\n",
    "    print()"
   ]
  },
  {
   "cell_type": "code",
   "execution_count": 32,
   "id": "2661b39e",
   "metadata": {},
   "outputs": [
    {
     "name": "stdout",
     "output_type": "stream",
     "text": [
      "4\n",
      "1 2 3 4 \n",
      "9 10 11 12 \n",
      "13 14 15 16 \n",
      "5 6 7 8 \n"
     ]
    }
   ],
   "source": [
    "n = int(input())\n",
    "mid=(n+1)//2\n",
    "for i in range(0,n,2):\n",
    "    for j in range(1,n+1):\n",
    "    \tprint(n*i+j,end=' ')\n",
    "    print()\n",
    "c=(2*(n-mid))-1\n",
    "for i in range(c,0,-2):\n",
    "    for j in range(1,n+1):\n",
    "        print(n*i+j,end=' ')\n",
    "    print()"
   ]
  },
  {
   "cell_type": "code",
   "execution_count": 31,
   "id": "43155b8c",
   "metadata": {},
   "outputs": [
    {
     "name": "stdout",
     "output_type": "stream",
     "text": [
      "4\n",
      "1 2 3 4 \n",
      "9 10 11 12 \n"
     ]
    }
   ],
   "source": [
    "n = int(input())\n",
    "mid=(n+1)//2\n",
    "for i in range(0,n,2):\n",
    "    for j in range(1,n+1):\n",
    "    \tprint(n*i+j,end=' ')\n",
    "    print()"
   ]
  },
  {
   "cell_type": "code",
   "execution_count": 18,
   "id": "691de860",
   "metadata": {},
   "outputs": [
    {
     "name": "stdout",
     "output_type": "stream",
     "text": [
      "4\n",
      "1 2 3 4 5 6 7 \n",
      "1 2 3 4 5 6 7 \n",
      "1 2 3 4 5 6 7 \n",
      "1 2 3 4 5 6 7 \n",
      "1 2 3 4 5 6 7 \n",
      "1 2 3 4 5 6 7 \n",
      "1 2 3 4 5 6 7 \n"
     ]
    }
   ],
   "source": [
    "n=int(input())\n",
    "for i in range(1,2*n,1):\n",
    "    for j in range(1,2*n,1):\n",
    "        print(j,end=\" \")\n",
    "    print()"
   ]
  },
  {
   "cell_type": "code",
   "execution_count": 22,
   "id": "f6c3b34f",
   "metadata": {},
   "outputs": [
    {
     "name": "stdout",
     "output_type": "stream",
     "text": [
      "4\n",
      "4 4 4 4 4 4 4 \n",
      "4           4 \n",
      "4           4 \n",
      "4           4 \n",
      "4           4 \n",
      "4           4 \n",
      "4 4 4 4 4 4 4 \n"
     ]
    }
   ],
   "source": [
    "n=int(input())\n",
    "for i in range(1,2*n,1):\n",
    "    for j in range(1,2*n,1):\n",
    "        if (i==1 or i==2*n-1 or j==1 or j==2*n-1):\n",
    "            print(n,end=\" \")\n",
    "        else:\n",
    "            print(\" \",end=\" \")\n",
    "    print()"
   ]
  },
  {
   "cell_type": "code",
   "execution_count": 33,
   "id": "89f93244",
   "metadata": {},
   "outputs": [
    {
     "name": "stdout",
     "output_type": "stream",
     "text": [
      "4\n",
      "4 4 4 4 4 4 4 \n",
      "4 \n",
      "4 \n",
      "4 \n",
      "4 \n",
      "4 \n",
      "4 4 4 4 4 4 4 \n"
     ]
    }
   ],
   "source": [
    "n=int(input())\n",
    "for i in range(1,2*n,1):\n",
    "    for j in range(1,2*n,1):\n",
    "        if (i==1 or i==2*n-1 or j==1):\n",
    "            print(n,end=\" \")\n",
    "        if (i==2 and j==i or )\n",
    "        \n",
    "    print()"
   ]
  },
  {
   "cell_type": "code",
   "execution_count": 1,
   "id": "3f13ac16",
   "metadata": {},
   "outputs": [
    {
     "name": "stdout",
     "output_type": "stream",
     "text": [
      "4\n",
      "4 4 4 4 4 4 4 \n",
      "4 4 \n",
      "4 4 \n",
      "4 4 \n",
      "4 4 \n",
      "4 4 \n",
      "4 4 4 4 4 4 4 \n"
     ]
    }
   ],
   "source": [
    "n=int(input())\n",
    "for i in range(1,2*n,1):\n",
    "    for j in range(1,2*n,1):\n",
    "        if (i==1 or i==2*n-1 or j==1 or j==2*n-1):\n",
    "            print(n,end=\" \")\n",
    "    print()"
   ]
  },
  {
   "cell_type": "code",
   "execution_count": 2,
   "id": "75bff4ee",
   "metadata": {},
   "outputs": [
    {
     "name": "stdout",
     "output_type": "stream",
     "text": [
      "4\n",
      "4 4 4 4 \n",
      "4 3 3 4 \n",
      "4 3 3 4 \n",
      "4 4 4 4 \n"
     ]
    }
   ],
   "source": [
    "n=int(input())\n",
    "for i in range(1,n+1,1):\n",
    "    for j in range(1,n+1,1):\n",
    "        if (i==1 or i==n or j==1 or j==n):\n",
    "            print(n,end=\" \")\n",
    "        elif (i>=2 and j>=2 and i<=n-1 and j<=n-1):\n",
    "            print(n-1,end=\" \")\n",
    "    print()"
   ]
  },
  {
   "cell_type": "code",
   "execution_count": 26,
   "id": "e08014ba",
   "metadata": {},
   "outputs": [
    {
     "name": "stdout",
     "output_type": "stream",
     "text": [
      "4\n",
      "4 4 4 4 4 4 4 \n",
      "4 3 3 3 3 3 3 \n",
      "4 3 3 3 3 3 3 \n",
      "4 3 3 3 3 3 3 \n",
      "4 3 3 3 3 3 3 \n",
      "4 3 3 3 3 3 3 \n",
      "4 3 3 3 3 3 3 \n"
     ]
    }
   ],
   "source": [
    "n=int(input())\n",
    "for i in range(1,2*n,1):\n",
    "    for j in range(1,2*n,1):\n",
    "        if (i==1 or i==2*n or j==1 or j==2*n):\n",
    "            print(n,end=\" \")\n",
    "        elif ((j>=2 and j<=2*n-1) and (i>=2 and i<=2*n-1)):\n",
    "            print(n-1,end=\" \")\n",
    "    print()"
   ]
  },
  {
   "cell_type": "code",
   "execution_count": 30,
   "id": "44ba8d1f",
   "metadata": {},
   "outputs": [
    {
     "name": "stdout",
     "output_type": "stream",
     "text": [
      "4\n",
      "4 4 4 4 4 4 4 \n",
      "4 3 3 3 3 3 4 \n",
      "4 3 2 2 2 3 4 \n",
      "4 3 2 1 2 3 4 \n",
      "4 3 2 2 2 3 4 \n",
      "4 3 3 3 3 3 4 \n",
      "4 4 4 4 4 4 4 \n"
     ]
    }
   ],
   "source": [
    "n=int(input())\n",
    "for i in range(1,2*n,1):\n",
    "    for j in range(1,2*n,1):\n",
    "        if (i==1 or i==2*n-1 or j==1 or j==2*n-1):\n",
    "            print(n,end=\" \")\n",
    "        elif ((i==2 and j<=2*n-2) or (i==2*n-2 and j<=2*n-2) or ((i==3 or i==4 or i==5 or i==6) and (j==2 or j==2*n-2))):\n",
    "            print(n-1,end=\" \")\n",
    "        elif (((i==3 or i==2*n-3) and j<=2*n-3) or (i==4 and (j==5 or j==3))):\n",
    "            print(n-2,end=\" \")\n",
    "        else:\n",
    "            print(n-3,end=\" \")\n",
    "    print()"
   ]
  },
  {
   "cell_type": "code",
   "execution_count": 31,
   "id": "9adfa331",
   "metadata": {},
   "outputs": [
    {
     "name": "stdout",
     "output_type": "stream",
     "text": [
      "3\n",
      "3 3 3 3 3 \n",
      "3 2 2 2 3 \n",
      "3 2 1 2 3 \n",
      "3 2 2 2 3 \n",
      "3 3 3 3 3 \n"
     ]
    }
   ],
   "source": [
    "n=int(input())\n",
    "for i in range(1,2*n,1):\n",
    "    for j in range(1,2*n,1):\n",
    "        if (i==1 or i==2*n-1 or j==1 or j==2*n-1):\n",
    "            print(n,end=\" \")\n",
    "        elif ((i==2 and j<=2*n-2) or (i==2*n-2 and j<=2*n-2) or ((i==3 or i==4 or i==5 or i==6) and (j==2 or j==2*n-2))):\n",
    "            print(n-1,end=\" \")\n",
    "        elif (((i==3 or i==2*n-3) and j<=2*n-3) or (i==4 and (j==5 or j==3))):\n",
    "            print(n-2,end=\" \")\n",
    "        else:\n",
    "            print(n-3,end=\" \")\n",
    "    print()"
   ]
  },
  {
   "cell_type": "code",
   "execution_count": 33,
   "id": "10fac940",
   "metadata": {},
   "outputs": [
    {
     "name": "stdout",
     "output_type": "stream",
     "text": [
      "5\n",
      "555555555\n",
      "544444445\n",
      "543333345\n",
      "543232245\n",
      "542222245\n",
      "542222245\n",
      "533333325\n",
      "544444445\n",
      "555555555\n"
     ]
    }
   ],
   "source": [
    "n=int(input())\n",
    "for i in range(1,2*n,1):\n",
    "    for j in range(1,2*n,1):\n",
    "        if (i==1 or i==2*n-1 or j==1 or j==2*n-1):\n",
    "            print(n,end=\"\")\n",
    "        elif ((i==2 and j<=2*n-2) or (i==2*n-2 and j<=2*n-2) or ((i==3 or i==4 or i==5 or i==6) and (j==2 or j==2*n-2))):\n",
    "            print(n-1,end=\"\")\n",
    "        elif (((i==3 or i==2*n-3) and j<=2*n-3) or (i==4 and (j==5 or j==3))):\n",
    "            print(n-2,end=\"\")\n",
    "        else:\n",
    "            print(n-3,end=\"\")\n",
    "    print()"
   ]
  },
  {
   "cell_type": "code",
   "execution_count": 45,
   "id": "fefb28d0",
   "metadata": {},
   "outputs": [
    {
     "name": "stdout",
     "output_type": "stream",
     "text": [
      "6\n",
      "66666666666\n",
      "65555555556\n",
      "65444444456\n",
      "65433333456\n",
      "65422323456\n",
      "65422323456\n",
      "65422323456\n",
      "65433333456\n",
      "65444444456\n",
      "65555555556\n",
      "66666666666\n"
     ]
    }
   ],
   "source": [
    "n=int(input())\n",
    "for i in range(1,2*n,1):\n",
    "    for j in range(1,2*n,1):\n",
    "        if (i==1 or i==2*n-1 or j==1 or j==2*n-1):\n",
    "            print(n,end=\"\")\n",
    "        elif ((i==2 and j<=2*n-2) or (i==2*n-2 and j<=2*n-2) or ((i>=2 and i<=2*n-2) and (j==2 or j==2*n-2))):\n",
    "            print(n-1,end=\"\")\n",
    "        elif (((i==3 or i==2*n-3) and j<=2*n-3) or ((i>=4 and i<=2*n-3) and (j==2*n-3 or j==3))):\n",
    "            print(n-2,end=\"\")\n",
    "        elif (((i==4 or i==2*n-4) and j<=2*n-4) or ((i>=5 and i<=2*n-4) and (j==2*n-4 or j==2*n-6))):\n",
    "            print(n-3,end=\"\")\n",
    "        else:\n",
    "            print(n-4,end=\"\")\n",
    "    print()"
   ]
  },
  {
   "cell_type": "code",
   "execution_count": 48,
   "id": "1ef0a055",
   "metadata": {},
   "outputs": [
    {
     "name": "stdout",
     "output_type": "stream",
     "text": [
      "9\n",
      "99999999999999999\n",
      "98888888888888889\n",
      "98777777777777789\n",
      "98766666666666789\n",
      "98765555555556789\n",
      "98765444444456789\n",
      "98765433333456789\n",
      "98765432223456789\n",
      "98765432123456789\n",
      "98765432223456789\n",
      "98765433333456789\n",
      "98765444444456789\n",
      "98765555555556789\n",
      "98766666666666789\n",
      "98777777777777789\n",
      "98888888888888889\n",
      "99999999999999999\n"
     ]
    }
   ],
   "source": [
    "n=int(input(\"\"))\n",
    "\n",
    "for i in range(1, n+1):\n",
    "    temp = n\n",
    "    for j in range(1, i):\n",
    "        print(temp, end = \"\")\n",
    "        temp = temp-1\n",
    "        \n",
    "    for j in range(1, (2*n) - (2*i) + 2):\n",
    "        print(n-i+1, end = \"\")\n",
    "        \n",
    "    for j in range(1, i):\n",
    "        temp = temp + 1\n",
    "        print(temp, end = \"\")\n",
    "        \n",
    "    print()\n",
    "    \n",
    "for i in range(n-1, 0, -1):\n",
    "    temp = n\n",
    "    for j in range(1, i):\n",
    "        print(temp, end = \"\")\n",
    "        temp = temp-1\n",
    "        \n",
    "    for j in range(1, (2*n) - (2*i) + 2):\n",
    "        print(n-i+1, end = \"\")\n",
    "        \n",
    "    for j in range(1, i):\n",
    "        temp = temp + 1\n",
    "        print(temp, end = \"\")\n",
    "        \n",
    "    print()"
   ]
  },
  {
   "cell_type": "code",
   "execution_count": null,
   "id": "7b15c9b2",
   "metadata": {},
   "outputs": [],
   "source": []
  }
 ],
 "metadata": {
  "kernelspec": {
   "display_name": "Python 3",
   "language": "python",
   "name": "python3"
  },
  "language_info": {
   "codemirror_mode": {
    "name": "ipython",
    "version": 3
   },
   "file_extension": ".py",
   "mimetype": "text/x-python",
   "name": "python",
   "nbconvert_exporter": "python",
   "pygments_lexer": "ipython3",
   "version": "3.8.8"
  }
 },
 "nbformat": 4,
 "nbformat_minor": 5
}
