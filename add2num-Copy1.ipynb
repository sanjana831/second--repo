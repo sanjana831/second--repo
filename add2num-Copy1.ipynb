{
 "cells": [
  {
   "cell_type": "code",
   "execution_count": 2,
   "id": "3d0895ed",
   "metadata": {},
   "outputs": [
    {
     "name": "stdout",
     "output_type": "stream",
     "text": [
      "2\n",
      "4\n",
      "6\n"
     ]
    }
   ],
   "source": [
    "N = int(input())\n",
    "M = int(input())\n",
    "def add2(N,M):\n",
    "    sum=N+M\n",
    "    return sum\n",
    "ans=add2(N,M)\n",
    "print(ans)"
   ]
  },
  {
   "cell_type": "code",
   "execution_count": null,
   "id": "9735db40",
   "metadata": {},
   "outputs": [],
   "source": [
    "\n",
    "def add2(N,M):\n",
    "    sum=N+M\n",
    "    return sum\n",
    "ans=add2(N,M)\n",
    "print(ans)"
   ]
  },
  {
   "cell_type": "markdown",
   "id": "2448a683",
   "metadata": {},
   "source": [
    "# To check if list is sorted or not"
   ]
  },
  {
   "cell_type": "code",
   "execution_count": 15,
   "id": "eb345eff",
   "metadata": {},
   "outputs": [
    {
     "name": "stdout",
     "output_type": "stream",
     "text": [
      "Not sorted\n"
     ]
    }
   ],
   "source": [
    "li = [1,2,3,4,2]\n",
    "for i in range(len(li)-1):\n",
    "    if li[i]>li[i+1]:\n",
    "        print(\"Not sorted\")\n",
    "        break\n",
    "else:\n",
    "    print(\"Sorted\")"
   ]
  },
  {
   "cell_type": "code",
   "execution_count": null,
   "id": "a78fb9e8",
   "metadata": {},
   "outputs": [],
   "source": []
  }
 ],
 "metadata": {
  "kernelspec": {
   "display_name": "Python 3",
   "language": "python",
   "name": "python3"
  },
  "language_info": {
   "codemirror_mode": {
    "name": "ipython",
    "version": 3
   },
   "file_extension": ".py",
   "mimetype": "text/x-python",
   "name": "python",
   "nbconvert_exporter": "python",
   "pygments_lexer": "ipython3",
   "version": "3.8.8"
  }
 },
 "nbformat": 4,
 "nbformat_minor": 5
}
