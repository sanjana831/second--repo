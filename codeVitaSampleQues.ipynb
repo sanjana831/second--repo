{
 "cells": [
  {
   "cell_type": "markdown",
   "id": "e5d75373",
   "metadata": {},
   "source": [
    "# Square Free Numbers"
   ]
  },
  {
   "cell_type": "code",
   "execution_count": 14,
   "id": "3e70e5aa",
   "metadata": {},
   "outputs": [
    {
     "name": "stdout",
     "output_type": "stream",
     "text": [
      "20\n",
      "3\n"
     ]
    }
   ],
   "source": [
    "def SquareFreeNum(n):\n",
    "    count=0\n",
    "    for i in range(2,n+1):\n",
    "        if n%i==0:\n",
    "            k=i\n",
    "            if (is_SquareFree(k)):\n",
    "                count=count+1\n",
    "            else:\n",
    "                continue\n",
    "    return count\n",
    "\n",
    "def is_SquareFree(k):\n",
    "    for m in range (2, round(k**0.5)+1): \n",
    "        if k % (m**2) == 0: \n",
    "            return False\n",
    "    return True\n",
    "\n",
    "n=int(input())\n",
    "ans=SquareFreeNum(n)\n",
    "print(ans)"
   ]
  },
  {
   "cell_type": "code",
   "execution_count": null,
   "id": "d0d50e3c",
   "metadata": {},
   "outputs": [],
   "source": [
    "def is_SquareFree(k):\n",
    "    for m in range (2, round(k**0.5)): \n",
    "        if k % (m**2) == 0: \n",
    "            return False\n",
    "    return k\n",
    "n=int(input())\n",
    "ans=is_SquareFree(n)\n",
    "print(ans)"
   ]
  },
  {
   "cell_type": "code",
   "execution_count": null,
   "id": "fd086edd",
   "metadata": {},
   "outputs": [],
   "source": []
  }
 ],
 "metadata": {
  "kernelspec": {
   "display_name": "Python 3",
   "language": "python",
   "name": "python3"
  },
  "language_info": {
   "codemirror_mode": {
    "name": "ipython",
    "version": 3
   },
   "file_extension": ".py",
   "mimetype": "text/x-python",
   "name": "python",
   "nbconvert_exporter": "python",
   "pygments_lexer": "ipython3",
   "version": "3.8.8"
  }
 },
 "nbformat": 4,
 "nbformat_minor": 5
}
