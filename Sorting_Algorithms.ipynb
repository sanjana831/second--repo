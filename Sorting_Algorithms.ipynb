{
 "cells": [
  {
   "cell_type": "code",
   "execution_count": 1,
   "id": "3d48d22d",
   "metadata": {},
   "outputs": [],
   "source": [
    "# Bubble Sort   (to rum a cell press 'Shift' + 'enter')"
   ]
  },
  {
   "cell_type": "code",
   "execution_count": 13,
   "id": "49fee3be",
   "metadata": {},
   "outputs": [
    {
     "name": "stdout",
     "output_type": "stream",
     "text": [
      "1 1 2 6 2\n",
      "['1', '1', '2', '2', '6']\n"
     ]
    }
   ],
   "source": [
    "def Bubble_Sort():\n",
    "    li = input().split()\n",
    "    n = len(li)\n",
    "    count = 0\n",
    "    while count < n-1:\n",
    "        for i in range(n-1):\n",
    "            if li[i] > li[i+1]:\n",
    "                li[i], li[i+1] = li[i+1], li[i]\n",
    "            else:\n",
    "                count += 1\n",
    "    return li\n",
    "ans = Bubble_Sort()\n",
    "print(ans)\n"
   ]
  },
  {
   "cell_type": "code",
   "execution_count": 2,
   "id": "e2174537",
   "metadata": {},
   "outputs": [
    {
     "name": "stdout",
     "output_type": "stream",
     "text": [
      "[1, 2, 4, 5, 6, 8]\n"
     ]
    }
   ],
   "source": [
    "def bubble_sort(li):\n",
    "    n = len(li)\n",
    "    for i in range(n):\n",
    "        for j in range(n-i-1):\n",
    "            if li[j] > li[j+1]:\n",
    "                li[j],li[j+1]=li[j+1],li[j]\n",
    "                #print(li)\n",
    "    return li\n",
    "            \n",
    "\n",
    "li = [2,5,1,6,8,4]\n",
    "res = bubble_sort(li)\n",
    "print(res)"
   ]
  },
  {
   "cell_type": "code",
   "execution_count": 13,
   "id": "ee9c8b86",
   "metadata": {},
   "outputs": [],
   "source": [
    "# binary search"
   ]
  },
  {
   "cell_type": "code",
   "execution_count": 5,
   "id": "935d7b43",
   "metadata": {},
   "outputs": [
    {
     "name": "stdout",
     "output_type": "stream",
     "text": [
      "3\n"
     ]
    }
   ],
   "source": [
    "def Binary_Search(li,x):\n",
    "    n = len(li)\n",
    "    h = n-1\n",
    "    l = 0\n",
    "    while l<=h:\n",
    "        mid = (h + l) // 2\n",
    "        if li[mid] == x:\n",
    "            return mid\n",
    "        elif li[mid] < x:\n",
    "            l = mid+1\n",
    "        elif li[mid] > x:\n",
    "            h = mid-1\n",
    "    return -1\n",
    "\n",
    "li = [12,34,45,56,67,89]\n",
    "ans = Binary_Search(li,56)\n",
    "print(ans)"
   ]
  },
  {
   "cell_type": "code",
   "execution_count": 10,
   "id": "6cf968fe",
   "metadata": {},
   "outputs": [],
   "source": [
    "# linear search"
   ]
  },
  {
   "cell_type": "code",
   "execution_count": 12,
   "id": "527a37c7",
   "metadata": {},
   "outputs": [
    {
     "name": "stdout",
     "output_type": "stream",
     "text": [
      "3\n"
     ]
    }
   ],
   "source": [
    "def Linear_Search(li,x):\n",
    "    n = len(li)\n",
    "    for i in range(n):\n",
    "        if li[i] == x:\n",
    "            return i\n",
    "        \n",
    "li = [5,1,4,9,6]\n",
    "ans = Linear_Search(li,9)\n",
    "print(ans)"
   ]
  },
  {
   "cell_type": "code",
   "execution_count": 1,
   "id": "5a98dbcb",
   "metadata": {},
   "outputs": [],
   "source": [
    "#selection sort"
   ]
  },
  {
   "cell_type": "code",
   "execution_count": 9,
   "id": "0a8bf08b",
   "metadata": {},
   "outputs": [
    {
     "name": "stdout",
     "output_type": "stream",
     "text": [
      "[1, 2, 3, 4, 5, 6, 8]\n"
     ]
    }
   ],
   "source": [
    "def Selection_Sort(li):\n",
    "    n = len(li)\n",
    "    for i in range(n):\n",
    "        small = i\n",
    "        for j in range(i+1,n):\n",
    "            if li[j] < li[small]:\n",
    "                li[j],li[small] = li[small],li[j]\n",
    "    return li\n",
    "\n",
    "li = [2,4,1,6,3,8,5]\n",
    "ans = Selection_Sort(li)\n",
    "print(ans)"
   ]
  },
  {
   "cell_type": "code",
   "execution_count": 1,
   "id": "9eaaa2e8",
   "metadata": {},
   "outputs": [],
   "source": [
    "# Insertion Sort"
   ]
  },
  {
   "cell_type": "code",
   "execution_count": 14,
   "id": "b8e69f7e",
   "metadata": {},
   "outputs": [
    {
     "name": "stdout",
     "output_type": "stream",
     "text": [
      "[9, 9, 3, 10, 2, 5]\n",
      "[1, 9, 9, 10, 2, 5]\n",
      "[1, 3, 9, 10, 10, 5]\n",
      "[1, 3, 9, 9, 10, 5]\n",
      "[1, 3, 3, 9, 10, 5]\n",
      "[1, 2, 3, 9, 10, 10]\n",
      "[1, 2, 3, 9, 9, 10]\n",
      "[1, 2, 3, 5, 9, 10]\n"
     ]
    }
   ],
   "source": [
    "def Insertion_Sort(li):\n",
    "    n = len(li)\n",
    "    for i in range(1,n):\n",
    "        j = i - 1\n",
    "        temp = li[i]\n",
    "        while li[j] > temp and j >= 0:\n",
    "            li[j+1] = li[j]\n",
    "            print(li)\n",
    "            j = j - 1\n",
    "        li[j+1] = temp\n",
    "    return li\n",
    "\n",
    "li = [9,1,3,10,2,5]\n",
    "ans = Insertion_Sort(li)\n",
    "print(ans)"
   ]
  },
  {
   "cell_type": "code",
   "execution_count": 1,
   "id": "1295d9be",
   "metadata": {},
   "outputs": [],
   "source": [
    "# Merge Sort"
   ]
  },
  {
   "cell_type": "code",
   "execution_count": null,
   "id": "543f2aaa",
   "metadata": {},
   "outputs": [],
   "source": [
    "def Merge_Sort(li,l,h):\n",
    "    if l < h:\n",
    "        mid = l + h // 2\n",
    "        Merge_Sort(li,l,mid)\n",
    "        Merge_Sort(li,mid+1,h)\n",
    "        Merge(li,l,m,h)\n",
    "\n",
    "li = [12,11,13,5,6,7]\n",
    "ans = Merge_Sort(li)"
   ]
  }
 ],
 "metadata": {
  "kernelspec": {
   "display_name": "Python 3",
   "language": "python",
   "name": "python3"
  },
  "language_info": {
   "codemirror_mode": {
    "name": "ipython",
    "version": 3
   },
   "file_extension": ".py",
   "mimetype": "text/x-python",
   "name": "python",
   "nbconvert_exporter": "python",
   "pygments_lexer": "ipython3",
   "version": "3.8.8"
  }
 },
 "nbformat": 4,
 "nbformat_minor": 5
}
