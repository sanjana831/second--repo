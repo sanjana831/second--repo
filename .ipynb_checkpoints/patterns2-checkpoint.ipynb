{
 "cells": [
  {
   "cell_type": "raw",
   "id": "4861fb54",
   "metadata": {},
   "source": [
    "****\n",
    "***\n",
    "**\n",
    "*"
   ]
  },
  {
   "cell_type": "code",
   "execution_count": 4,
   "id": "0716e819",
   "metadata": {},
   "outputs": [
    {
     "name": "stdout",
     "output_type": "stream",
     "text": [
      "4\n",
      "****\n",
      "***\n",
      "**\n",
      "*\n"
     ]
    }
   ],
   "source": [
    "n=int(input())\n",
    "i=1\n",
    "while i<=n:\n",
    "    j=1\n",
    "    while j<=(n-i+1):\n",
    "        print(\"*\",end=\"\")\n",
    "        j+=1\n",
    "    print()\n",
    "    i+=1"
   ]
  },
  {
   "cell_type": "raw",
   "id": "a0ba744f",
   "metadata": {},
   "source": [
    "4444\n",
    "333\n",
    "22\n",
    "1"
   ]
  },
  {
   "cell_type": "code",
   "execution_count": 9,
   "id": "42e4852c",
   "metadata": {},
   "outputs": [
    {
     "name": "stdout",
     "output_type": "stream",
     "text": [
      "5\n",
      "55555\n",
      "4444\n",
      "333\n",
      "22\n",
      "1\n"
     ]
    }
   ],
   "source": [
    "n=int(input())\n",
    "i=1\n",
    "while i<=n:\n",
    "    j=1\n",
    "    while j<=(n-i+1):\n",
    "        print(n-i+1,end=\"\")\n",
    "        j+=1\n",
    "    print()\n",
    "    i+=1"
   ]
  },
  {
   "cell_type": "raw",
   "id": "2040aba4",
   "metadata": {},
   "source": [
    "   *\n",
    "  **\n",
    " ***\n",
    "****"
   ]
  },
  {
   "cell_type": "code",
   "execution_count": 25,
   "id": "75b5c7b6",
   "metadata": {},
   "outputs": [
    {
     "name": "stdout",
     "output_type": "stream",
     "text": [
      "4\n",
      "   *\n",
      "  **\n",
      " ***\n",
      "****\n"
     ]
    }
   ],
   "source": [
    "n=int(input())\n",
    "i=1\n",
    "while i<=n:\n",
    "    white_space=1\n",
    "    while white_space<=(n-i):\n",
    "        print(\" \",end=\"\")\n",
    "        white_space+=1\n",
    "    starP=1\n",
    "    while starP<=i:\n",
    "        print(\"*\",end=\"\")\n",
    "        starP+=1\n",
    "    print()\n",
    "    i+=1"
   ]
  },
  {
   "cell_type": "code",
   "execution_count": 28,
   "id": "e71c850b",
   "metadata": {},
   "outputs": [
    {
     "name": "stdout",
     "output_type": "stream",
     "text": [
      "1234\n",
      "4321\n"
     ]
    }
   ],
   "source": [
    "#nikhitha's doubt\n",
    "num=int(input())\n",
    "rev_num=0\n",
    "digit=0\n",
    "while num!=0:\n",
    "    digit=num%10\n",
    "    rev_num=rev_num*10+digit\n",
    "    num=num//10\n",
    "print(rev_num)"
   ]
  },
  {
   "cell_type": "code",
   "execution_count": 6,
   "id": "d75ae43f",
   "metadata": {
    "scrolled": true
   },
   "outputs": [
    {
     "name": "stdout",
     "output_type": "stream",
     "text": [
      "4\n",
      "   1\n",
      "  12\n",
      " 123\n",
      "1234\n"
     ]
    }
   ],
   "source": [
    "n=int(input())\n",
    "i=1\n",
    "while i<=n:\n",
    "    white_space=1\n",
    "    while white_space<=(n-i):\n",
    "        print(\" \",end=\"\")\n",
    "        white_space+=1\n",
    "    num=1\n",
    "    while num<=i:\n",
    "        print(num,end=\"\")\n",
    "        num+=1\n",
    "    print()\n",
    "    i+=1"
   ]
  },
  {
   "cell_type": "code",
   "execution_count": 8,
   "id": "77c67258",
   "metadata": {},
   "outputs": [
    {
     "name": "stdout",
     "output_type": "stream",
     "text": [
      "4\n",
      "   1\n",
      "  121\n",
      " 12321\n",
      "1234321\n"
     ]
    }
   ],
   "source": [
    "n=int(input())\n",
    "i=1\n",
    "while i<=n:\n",
    "    white_space=1\n",
    "    while white_space<=(n-i):\n",
    "        print(\" \",end=\"\")\n",
    "        white_space+=1\n",
    "    num=1\n",
    "    while num<=i:\n",
    "        print(num,end=\"\")\n",
    "        num+=1\n",
    "    dec=1\n",
    "    dec=i-1\n",
    "    while dec>=1:\n",
    "        print(dec,end=\"\")\n",
    "        dec=dec-1\n",
    "    print()\n",
    "    i+=1\n",
    "        \n",
    "        "
   ]
  },
  {
   "cell_type": "code",
   "execution_count": 11,
   "id": "6e9efd87",
   "metadata": {},
   "outputs": [
    {
     "name": "stdout",
     "output_type": "stream",
     "text": [
      "4\n",
      "   *\n",
      "  ***\n",
      " *****\n",
      "*******\n"
     ]
    }
   ],
   "source": [
    "n=int(input())\n",
    "i=1\n",
    "while i<=n:\n",
    "    white_space=1\n",
    "    while white_space<=(n-i):\n",
    "        print(\" \",end=\"\")\n",
    "        white_space+=1\n",
    "    num=1\n",
    "    while num<=i:\n",
    "        print('*',end=\"\")\n",
    "        num+=1\n",
    "    dec=1\n",
    "    dec=i-1\n",
    "    while dec>=1:\n",
    "        print('*',end=\"\")\n",
    "        dec=dec-1\n",
    "    print()\n",
    "    i+=1\n",
    "        \n",
    "        "
   ]
  },
  {
   "cell_type": "code",
   "execution_count": 19,
   "id": "c58645f9",
   "metadata": {},
   "outputs": [
    {
     "name": "stdout",
     "output_type": "stream",
     "text": [
      "4\n",
      "   1\n",
      "  232\n",
      " 34543\n",
      "4567654\n"
     ]
    }
   ],
   "source": [
    "n=int(input())\n",
    "i=1\n",
    "while i<=n:\n",
    "    spaces=1\n",
    "    while spaces<=(n-i):\n",
    "        print(\" \",end=\"\")\n",
    "        spaces+=1\n",
    "    num=1\n",
    "    while num<=i:\n",
    "        print(num+i-1,end=\"\")\n",
    "        num+=1\n",
    "    dec=1\n",
    "    while dec<=(i-1):\n",
    "        print(2*i-dec-1,end=\"\")\n",
    "        dec+=1\n",
    "    print()\n",
    "    i+=1\n",
    "        \n"
   ]
  },
  {
   "cell_type": "code",
   "execution_count": 2,
   "id": "6007559f",
   "metadata": {},
   "outputs": [
    {
     "name": "stdout",
     "output_type": "stream",
     "text": [
      "4\n",
      "   1\n",
      "  23\n",
      " 345\n",
      "4567\n"
     ]
    }
   ],
   "source": [
    "n=int(input())\n",
    "i=1\n",
    "while i<=n:\n",
    "    spaces=1\n",
    "    while spaces<=(n-i):\n",
    "        print(\" \",end=\"\")\n",
    "        spaces+=1\n",
    "    num=1\n",
    "    while num<=i:\n",
    "        print(num+i-1,end=\"\")\n",
    "        num+=1\n",
    "    print()\n",
    "    i+=1"
   ]
  },
  {
   "cell_type": "code",
   "execution_count": 43,
   "id": "3dfc7219",
   "metadata": {},
   "outputs": [
    {
     "name": "stdout",
     "output_type": "stream",
     "text": [
      "5\n",
      "  *\n",
      " ***\n",
      "*****\n"
     ]
    }
   ],
   "source": [
    "n=int(input())\n",
    "if n%2==0:\n",
    "    print(\"Enter an odd number\")\n",
    "else:\n",
    "    i=1\n",
    "    n1=(n+1)/2\n",
    "    n2=(n1-1)\n",
    "    while i<=n1:\n",
    "        spaces=1\n",
    "        while spaces<=(n1-i):\n",
    "            print(\" \",end=\"\")\n",
    "            spaces=spaces+1\n",
    "        stars=1\n",
    "        while stars<=(2*i-1):\n",
    "            print(\"*\",end=\"\")\n",
    "            stars=stars+1\n",
    "        print()\n",
    "        i=i+1"
   ]
  },
  {
   "cell_type": "code",
   "execution_count": 46,
   "id": "ce79a992",
   "metadata": {},
   "outputs": [
    {
     "name": "stdout",
     "output_type": "stream",
     "text": [
      "5\n",
      "  *\n",
      " ***\n",
      "*****\n",
      " ***\n",
      "  *\n"
     ]
    }
   ],
   "source": [
    "n = int(input())\n",
    "n1=(n+1)/2\n",
    "n2=n1-1\n",
    "i=1\n",
    "while i <=n1:\n",
    "    space=1\n",
    "    while space<=n1-i:\n",
    "        print(\" \",end=\"\")\n",
    "        space=space+1\n",
    "    star=1\n",
    "    while star<=(2*i)-1:\n",
    "        print('*',end=\"\")\n",
    "        star=star+1\n",
    "    print()\n",
    "    i=i+1\n",
    "i1=n2\n",
    "while i1>=1:\n",
    "    space=1\n",
    "    while space<=n2-i1+1:\n",
    "        print(\" \",end=\"\")\n",
    "        space=space+1\n",
    "        star=1\n",
    "    while star<=(2*i1)-1:\n",
    "        print('*',end=\"\")\n",
    "        star=star+1\n",
    "    print()\n",
    "    i1=i1-1"
   ]
  },
  {
   "cell_type": "code",
   "execution_count": 1,
   "id": "87a5f6f2",
   "metadata": {},
   "outputs": [
    {
     "name": "stdout",
     "output_type": "stream",
     "text": [
      "5\n",
      "1\n",
      "12\n",
      "123\n",
      "1234\n",
      "12345\n"
     ]
    }
   ],
   "source": [
    "n=int(input())\n",
    "i=1\n",
    "while i<=n:\n",
    "    j=1\n",
    "    while j<=i:\n",
    "        print(j,end=\"\")\n",
    "        j+=1\n",
    "    print()\n",
    "    i+=1\n"
   ]
  },
  {
   "cell_type": "code",
   "execution_count": 33,
   "id": "f546becc",
   "metadata": {},
   "outputs": [
    {
     "name": "stdout",
     "output_type": "stream",
     "text": [
      "5\n",
      "1        1\n",
      "12      3232\n",
      "123    543543543\n",
      "1234  7654765476547654\n",
      "123459876598765987659876598765\n"
     ]
    }
   ],
   "source": [
    "n=int(input())\n",
    "i=1\n",
    "while i<=n:\n",
    "    j=1\n",
    "    while j<=i:\n",
    "        print(j,end=\"\")\n",
    "        j+=1\n",
    "    spaces=1\n",
    "    while spaces<=((2*n)-(2*i)):\n",
    "        print(\" \",end=\"\")\n",
    "        spaces+=1\n",
    "    num=1\n",
    "    while num<=i:\n",
    "        k=1\n",
    "        while k<=i:\n",
    "            print(i,end=\"\")\n",
    "            k+=1\n",
    "        num+=1\n",
    "    print()\n",
    "    i+=1\n",
    "        "
   ]
  },
  {
   "cell_type": "code",
   "execution_count": 1,
   "id": "9b7619ae",
   "metadata": {},
   "outputs": [
    {
     "name": "stdout",
     "output_type": "stream",
     "text": [
      "1\n",
      "pos\n"
     ]
    }
   ],
   "source": [
    "num=int(input())\n",
    "if num>0:\n",
    "    print(\"pos\")\n",
    "elif num<0:\n",
    "    print(\"neg\")\n",
    "else:\n",
    "    print(\"zero\")"
   ]
  },
  {
   "cell_type": "code",
   "execution_count": 12,
   "id": "ff39fda2",
   "metadata": {},
   "outputs": [
    {
     "name": "stdout",
     "output_type": "stream",
     "text": [
      "5\n",
      "1        1\n",
      "12      2\n",
      "123    3\n",
      "1234  4\n",
      "123455\n"
     ]
    }
   ],
   "source": [
    "n=int(input())\n",
    "i=1\n",
    "while i<=n:\n",
    "    j=1\n",
    "    while j<=i:\n",
    "        print(j,end=\"\")\n",
    "        j+=1\n",
    "    spaces=1\n",
    "    while spaces<=((2*n)-(2*i)):\n",
    "        print(\" \",end=\"\")\n",
    "        spaces+=1\n",
    "    k=i\n",
    "    while k<=i:\n",
    "        print(i,end=\"\")\n",
    "        k+=1\n",
    "    print()\n",
    "    i+=1"
   ]
  },
  {
   "cell_type": "code",
   "execution_count": 38,
   "id": "a9d18dbd",
   "metadata": {},
   "outputs": [
    {
     "name": "stdout",
     "output_type": "stream",
     "text": [
      "5\n",
      "1        1\n",
      "12      21\n",
      "123    321\n",
      "1234  4321\n",
      "1234554321\n"
     ]
    }
   ],
   "source": [
    "n=int(input())\n",
    "i=1\n",
    "while i<=n:\n",
    "    j=1\n",
    "    while j<=i:\n",
    "        print(j,end=\"\")\n",
    "        j+=1\n",
    "    spaces=1\n",
    "    while spaces<=((2*n)-(2*i)):\n",
    "        print(\" \",end=\"\")\n",
    "        spaces+=1\n",
    "    num=i\n",
    "    while num<=i:\n",
    "        k=i\n",
    "        while k>=1:\n",
    "            print(k,end=\"\")\n",
    "            k-=1\n",
    "        num+=1\n",
    "    print()\n",
    "    i+=1"
   ]
  },
  {
   "cell_type": "code",
   "execution_count": 40,
   "id": "63355b7a",
   "metadata": {},
   "outputs": [
    {
     "name": "stdout",
     "output_type": "stream",
     "text": [
      "4\n",
      "1\n",
      "21\n",
      "321\n",
      "4321\n"
     ]
    }
   ],
   "source": [
    "n=int(input())\n",
    "i=1\n",
    "while i<=n:\n",
    "    j=i\n",
    "    while j>=1:\n",
    "        print(j,end=\"\")\n",
    "        j-=1\n",
    "    print()\n",
    "    i+=1"
   ]
  },
  {
   "cell_type": "code",
   "execution_count": 50,
   "id": "8e129e5f",
   "metadata": {},
   "outputs": [
    {
     "name": "stdout",
     "output_type": "stream",
     "text": [
      "4\n",
      "***\n",
      "**\n",
      "*\n",
      "\n"
     ]
    }
   ],
   "source": [
    "n=int(input())\n",
    "i=1\n",
    "while i<=n:\n",
    "    j=1\n",
    "    while j<=(n-i):\n",
    "        print(\"*\",end=\"\")\n",
    "        j+=1\n",
    "    print()\n",
    "    i+=1\n",
    "        \n",
    "        "
   ]
  },
  {
   "cell_type": "code",
   "execution_count": 57,
   "id": "5b313665",
   "metadata": {},
   "outputs": [
    {
     "name": "stdout",
     "output_type": "stream",
     "text": [
      "4\n",
      "   1\n",
      "  212\n",
      " 32123\n",
      "4321234\n"
     ]
    }
   ],
   "source": [
    "n=int(input())\n",
    "i=1\n",
    "while i<=n:\n",
    "    j=1\n",
    "    while j<=(n-i):\n",
    "        print(\" \",end=\"\")\n",
    "        j+=1\n",
    "    num=i\n",
    "    while num>=1:\n",
    "        print(num,end=\"\")\n",
    "        num-=1\n",
    "    numb=2\n",
    "    while numb<=(2*i-numb):\n",
    "        print(numb,end=\"\")\n",
    "        numb+=1\n",
    "    print()\n",
    "    i+=1"
   ]
  },
  {
   "cell_type": "code",
   "execution_count": 64,
   "id": "2ae067bf",
   "metadata": {},
   "outputs": [
    {
     "name": "stdout",
     "output_type": "stream",
     "text": [
      "4\n",
      "\n",
      "* \n",
      "* * \n",
      "* * * \n"
     ]
    }
   ],
   "source": [
    "n=int(input())\n",
    "i=1\n",
    "while i<=n:\n",
    "    j=1\n",
    "    while j<=(i-1):\n",
    "        print(\"*\",end=\" \")\n",
    "        j+=1\n",
    "    print()\n",
    "    i+=1"
   ]
  },
  {
   "cell_type": "code",
   "execution_count": null,
   "id": "e87a0a5e",
   "metadata": {},
   "outputs": [],
   "source": []
  }
 ],
 "metadata": {
  "kernelspec": {
   "display_name": "Python 3",
   "language": "python",
   "name": "python3"
  },
  "language_info": {
   "codemirror_mode": {
    "name": "ipython",
    "version": 3
   },
   "file_extension": ".py",
   "mimetype": "text/x-python",
   "name": "python",
   "nbconvert_exporter": "python",
   "pygments_lexer": "ipython3",
   "version": "3.8.8"
  }
 },
 "nbformat": 4,
 "nbformat_minor": 5
}
