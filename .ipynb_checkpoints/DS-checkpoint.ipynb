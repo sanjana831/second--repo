{
 "cells": [
  {
   "cell_type": "markdown",
   "id": "ef93af06",
   "metadata": {},
   "source": [
    "# Sorting of a list"
   ]
  },
  {
   "cell_type": "code",
   "execution_count": 9,
   "id": "e869de5f",
   "metadata": {},
   "outputs": [
    {
     "name": "stdout",
     "output_type": "stream",
     "text": [
      "[2, 3, 4, 5, 7, 9]\n"
     ]
    }
   ],
   "source": [
    "def Asc_Sort(li):\n",
    "    n = len(li)\n",
    "    for i in range(n):\n",
    "        for j in range(n-i-1):\n",
    "            if li[j] > li[j+1]:\n",
    "                li[j],li[j+1]=li[j+1],li[j]\n",
    "    return li\n",
    "            \n",
    "\n",
    "li = [7,3,5,2,9,4]\n",
    "res = Asc_Sort(li)\n",
    "print(res)"
   ]
  },
  {
   "cell_type": "code",
   "execution_count": null,
   "id": "b7bb5a17",
   "metadata": {},
   "outputs": [],
   "source": []
  }
 ],
 "metadata": {
  "kernelspec": {
   "display_name": "Python 3",
   "language": "python",
   "name": "python3"
  },
  "language_info": {
   "codemirror_mode": {
    "name": "ipython",
    "version": 3
   },
   "file_extension": ".py",
   "mimetype": "text/x-python",
   "name": "python",
   "nbconvert_exporter": "python",
   "pygments_lexer": "ipython3",
   "version": "3.8.8"
  }
 },
 "nbformat": 4,
 "nbformat_minor": 5
}
