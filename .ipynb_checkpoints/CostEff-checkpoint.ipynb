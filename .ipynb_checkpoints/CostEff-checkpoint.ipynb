{
 "cells": [
  {
   "cell_type": "code",
   "execution_count": 3,
   "id": "28c62615",
   "metadata": {},
   "outputs": [
    {
     "name": "stdout",
     "output_type": "stream",
     "text": [
      "13\n",
      "81\n",
      "591000\n",
      "1000\n",
      "450\n",
      "16\n",
      "67\n",
      "684000\n",
      "1000\n",
      "1000\n",
      "petrol\n"
     ]
    }
   ],
   "source": [
    "def CostEff(A1,B1,C1,D1,E1,A2,B2,C2,D2,E2):\n",
    "    ACost=C1+(E1*60)+(D1*B1*A1*60)\n",
    "    BCost=C2+(E2*60)+(D2*B2*A2*60)\n",
    "    if ACost>BCost:\n",
    "        return \"diesel\"\n",
    "    else:\n",
    "        return 'petrol'\n",
    "\n",
    "A1=int(input())\n",
    "B1=int(input())\n",
    "C1=int(input())\n",
    "D1=int(input())\n",
    "E1=int(input())\n",
    "A2=int(input())\n",
    "B2=int(input())\n",
    "C2=int(input())\n",
    "D2=int(input())\n",
    "E2=int(input())\n",
    "ans=CostEff(A1,B1,C1,D1,E1,A2,B2,C2,D2,E2)\n",
    "print(ans)"
   ]
  },
  {
   "cell_type": "code",
   "execution_count": 13,
   "id": "c986cfec",
   "metadata": {},
   "outputs": [
    {
     "name": "stdout",
     "output_type": "stream",
     "text": [
      "13,81,591000,1000,450,16,67,684000,1000,1000\n",
      "13 1000\n"
     ]
    }
   ],
   "source": [
    "\n",
    "\n",
    "A1,B1,C1,D1,E1,A2,B2,C2,D2,E2=input().split(',')\n",
    "print(A1,E2)\n",
    "\n"
   ]
  },
  {
   "cell_type": "code",
   "execution_count": null,
   "id": "dafc956d",
   "metadata": {},
   "outputs": [],
   "source": []
  },
  {
   "cell_type": "code",
   "execution_count": null,
   "id": "7c69f873",
   "metadata": {},
   "outputs": [],
   "source": []
  }
 ],
 "metadata": {
  "kernelspec": {
   "display_name": "Python 3",
   "language": "python",
   "name": "python3"
  },
  "language_info": {
   "codemirror_mode": {
    "name": "ipython",
    "version": 3
   },
   "file_extension": ".py",
   "mimetype": "text/x-python",
   "name": "python",
   "nbconvert_exporter": "python",
   "pygments_lexer": "ipython3",
   "version": "3.8.8"
  }
 },
 "nbformat": 4,
 "nbformat_minor": 5
}
