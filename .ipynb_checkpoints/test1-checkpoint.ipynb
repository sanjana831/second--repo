{
 "cells": [
  {
   "cell_type": "code",
   "execution_count": 4,
   "id": "636c91d4",
   "metadata": {},
   "outputs": [
    {
     "name": "stdout",
     "output_type": "stream",
     "text": [
      "5\n",
      "5432*\n",
      "543*1\n",
      "54*21\n",
      "5*321\n",
      "*4321\n"
     ]
    }
   ],
   "source": [
    "n=int(input())\n",
    "for i in range(1,n+1,1):\n",
    "    for j in range(1,n+1,1):\n",
    "        if n-j+1==i:\n",
    "            print(\"*\",end=\"\")\n",
    "        else:\n",
    "            print(n-j+1,end=\"\")\n",
    "    print()\n",
    "    "
   ]
  },
  {
   "cell_type": "code",
   "execution_count": 7,
   "id": "463484f0",
   "metadata": {},
   "outputs": [
    {
     "name": "stdout",
     "output_type": "stream",
     "text": [
      "3\n",
      "*00*00*\n",
      "0*0*0*0\n",
      "00***00\n"
     ]
    }
   ],
   "source": [
    "n=int(input())\n",
    "i=1\n",
    "star=1\n",
    "while i<=n:\n",
    "    j=1\n",
    "    while j<=2*n+1:\n",
    "        if star==i and star==j:\n",
    "            print(\"*\",end=\"\")\n",
    "            star+=1\n",
    "        elif j==n+1 or j==2*n+2-i:\n",
    "            print(\"*\",end=\"\")\n",
    "        else:\n",
    "            print(0,end=\"\")\n",
    "        j+=1\n",
    "    print()\n",
    "    i+=1"
   ]
  },
  {
   "cell_type": "code",
   "execution_count": 8,
   "id": "5e367eb1",
   "metadata": {},
   "outputs": [
    {
     "name": "stdout",
     "output_type": "stream",
     "text": [
      "1634\n",
      "true\n"
     ]
    }
   ],
   "source": [
    "def CheckArmstrong(n):\n",
    "    numb=n\n",
    "    num=n\n",
    "    count=len(str(num))\n",
    "    if num==1:\n",
    "        return True\n",
    "    ArmstrongNum=0\n",
    "    while num!=0:\n",
    "        digit=num%10\n",
    "        ArmstrongNum=ArmstrongNum+(digit**count)\n",
    "        num=num//10\n",
    "    if ArmstrongNum==numb:\n",
    "        return True\n",
    "    else:\n",
    "        return False\n",
    "    pass\n",
    "\n",
    "n=int(input())\n",
    "ArmstrongNum=CheckArmstrong(n)\n",
    "if (ArmstrongNum):\n",
    "    print(\"true\")\n",
    "else:\n",
    "    print(\"false\")"
   ]
  },
  {
   "cell_type": "code",
   "execution_count": null,
   "id": "1f6c4d1a",
   "metadata": {},
   "outputs": [],
   "source": []
  }
 ],
 "metadata": {
  "kernelspec": {
   "display_name": "Python 3",
   "language": "python",
   "name": "python3"
  },
  "language_info": {
   "codemirror_mode": {
    "name": "ipython",
    "version": 3
   },
   "file_extension": ".py",
   "mimetype": "text/x-python",
   "name": "python",
   "nbconvert_exporter": "python",
   "pygments_lexer": "ipython3",
   "version": "3.8.8"
  }
 },
 "nbformat": 4,
 "nbformat_minor": 5
}
