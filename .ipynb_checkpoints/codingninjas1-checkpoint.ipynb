{
 "cells": [
  {
   "cell_type": "code",
   "execution_count": 6,
   "id": "46a34a61",
   "metadata": {},
   "outputs": [
    {
     "name": "stdout",
     "output_type": "stream",
     "text": [
      "1980\n",
      "891\n"
     ]
    }
   ],
   "source": [
    "num = int(input())\n",
    "reversed_num = 0\n",
    "\n",
    "while num != 0:\n",
    "    digit = num % 10\n",
    "    reversed_num = reversed_num * 10 + digit\n",
    "    num //= 10\n",
    "\n",
    "print(reversed_num)"
   ]
  },
  {
   "cell_type": "markdown",
   "id": "673d80df",
   "metadata": {},
   "source": [
    "# program to find sum of even and odd digits of an integer"
   ]
  },
  {
   "cell_type": "code",
   "execution_count": 9,
   "id": "f17d58b4",
   "metadata": {},
   "outputs": [
    {
     "name": "stdout",
     "output_type": "stream",
     "text": [
      "1234\n",
      "6   4\n"
     ]
    }
   ],
   "source": [
    "num=int(input())\n",
    "sum_of_even_digits=0\n",
    "sum_of_odd_digits=0\n",
    "while num!=0:\n",
    "    digit=num%10\n",
    "    if(digit%2==0):\n",
    "        sum_of_even_digits=sum_of_even_digits+digit\n",
    "    else:\n",
    "        sum_of_odd_digits=sum_of_odd_digits+digit\n",
    "    num=num//10\n",
    "print(sum_of_even_digits,\" \",sum_of_odd_digits)"
   ]
  },
  {
   "cell_type": "markdown",
   "id": "6d5e9f85",
   "metadata": {},
   "source": [
    "# program to find out the nth fibonacci number"
   ]
  },
  {
   "cell_type": "code",
   "execution_count": 18,
   "id": "b5ae2982",
   "metadata": {},
   "outputs": [
    {
     "name": "stdout",
     "output_type": "stream",
     "text": [
      "34\n"
     ]
    }
   ],
   "source": [
    "def F(n):\n",
    "    if n<0:\n",
    "        print(\"incorrect input\")\n",
    "    elif n==1:\n",
    "        return 1\n",
    "    elif n==2:\n",
    "        return 1\n",
    "    else:\n",
    "        return F(n-1)+F(n-2)\n",
    "print(F(9))"
   ]
  },
  {
   "cell_type": "code",
   "execution_count": 7,
   "id": "d8e22cc9",
   "metadata": {},
   "outputs": [
    {
     "name": "stdout",
     "output_type": "stream",
     "text": [
      "6\n",
      "1\n",
      "1\n",
      "2\n",
      "3\n",
      "5\n",
      "8\n"
     ]
    }
   ],
   "source": [
    "n = int(input())\n",
    "n1=1\n",
    "n2=1 # first two terms of fibonacci series\n",
    "i = 0\n",
    "\n",
    "if n <= 0:\n",
    "    print(\"Please enter a positive integer\")\n",
    "elif n == 1:\n",
    "    print(n1)\n",
    "else:\n",
    "    while i<n:\n",
    "        print(n1)\n",
    "        sum = n1 + n2 \n",
    "        n1 = n2\n",
    "        n2 = sum\n",
    "        i += 1"
   ]
  },
  {
   "cell_type": "code",
   "execution_count": 1,
   "id": "27fed05a",
   "metadata": {},
   "outputs": [
    {
     "name": "stdout",
     "output_type": "stream",
     "text": [
      "Enter the value of 'n': 6\n",
      "Fibonacci Series:  0 1 1 2 3 5 "
     ]
    }
   ],
   "source": [
    "n = int(input(\"Enter the value of 'n': \"))\n",
    "a = 0\n",
    "b = 1\n",
    "sum = 0\n",
    "count = 1\n",
    "print(\"Fibonacci Series: \", end = \" \")\n",
    "while(count <= n):\n",
    "  print(sum, end = \" \")\n",
    "  count += 1\n",
    "  a = b\n",
    "  b = sum\n",
    "  sum = a + b\n"
   ]
  },
  {
   "cell_type": "code",
   "execution_count": 2,
   "id": "0d0a6374",
   "metadata": {},
   "outputs": [
    {
     "name": "stdout",
     "output_type": "stream",
     "text": [
      "\n",
      "Please Enter the Range Number: 6\n",
      "0\n",
      "1\n",
      "1\n",
      "2\n",
      "3\n",
      "5\n"
     ]
    }
   ],
   "source": [
    "Number = int(input(\"\\nPlease Enter the Range Number: \"))\n",
    "i = 0\n",
    "First_Value = 0\n",
    "Second_Value = 1\n",
    "            \n",
    "# Find & Displaying Fibonacci series\n",
    "while(i < Number):\n",
    "           if(i <= 1):\n",
    "                      Next = i\n",
    "           else:\n",
    "                      Next = First_Value + Second_Value\n",
    "                      First_Value = Second_Value\n",
    "                      Second_Value = Next\n",
    "           print(Next)\n",
    "           i = i + 1"
   ]
  },
  {
   "cell_type": "markdown",
   "id": "94b186fd",
   "metadata": {},
   "source": [
    "# check palindrome num or not"
   ]
  },
  {
   "cell_type": "code",
   "execution_count": 8,
   "id": "34cfc89f",
   "metadata": {},
   "outputs": [
    {
     "name": "stdout",
     "output_type": "stream",
     "text": [
      "121\n",
      "true\n"
     ]
    }
   ],
   "source": [
    "def checkPalindrome(num):\n",
    "    isPalindrome=0\n",
    "    while num!=0:\n",
    "        digit=num%10\n",
    "        isPalindrome=(isPalindrome*10)+digit\n",
    "        num=num//10\n",
    "    return isPalindrome\n",
    "    pass\n",
    "\n",
    "num = int(input())\n",
    "isPalindrome = checkPalindrome(num)\n",
    "if(isPalindrome):\n",
    "    print('true')\n",
    "else:\n",
    "    print('false')"
   ]
  },
  {
   "cell_type": "code",
   "execution_count": 4,
   "id": "0c7c6d97",
   "metadata": {},
   "outputs": [
    {
     "name": "stdout",
     "output_type": "stream",
     "text": [
      "Enter the number: 121\n",
      "121 is a Palindrome\n"
     ]
    }
   ],
   "source": [
    "def isPalindrome(n):  #user-defined function\n",
    "    # calculate reverse of number\n",
    "    reverse = 0\n",
    "    reminder = 0\n",
    "    while(n != 0):\n",
    "        remainder = n % 10\n",
    "        reverse = reverse * 10 + remainder\n",
    "        n = int(n / 10)\n",
    "    return reverse\n",
    "\n",
    "# take inputs\n",
    "num = int(input('Enter the number: '))\n",
    "\n",
    "# calling function and display result\n",
    "reverse = isPalindrome(num)\n",
    "if(num == reverse):\n",
    "  print(num,'is a Palindrome')\n",
    "else:\n",
    "  print(num,'is not a Palindrome')"
   ]
  },
  {
   "cell_type": "code",
   "execution_count": null,
   "id": "e077563c",
   "metadata": {},
   "outputs": [],
   "source": []
  }
 ],
 "metadata": {
  "kernelspec": {
   "display_name": "Python 3",
   "language": "python",
   "name": "python3"
  },
  "language_info": {
   "codemirror_mode": {
    "name": "ipython",
    "version": 3
   },
   "file_extension": ".py",
   "mimetype": "text/x-python",
   "name": "python",
   "nbconvert_exporter": "python",
   "pygments_lexer": "ipython3",
   "version": "3.8.8"
  }
 },
 "nbformat": 4,
 "nbformat_minor": 5
}
