{
 "cells": [
  {
   "cell_type": "markdown",
   "id": "c62b6dd9",
   "metadata": {},
   "source": [
    "# operations on list/array"
   ]
  },
  {
   "cell_type": "code",
   "execution_count": 1,
   "id": "e750f7a7",
   "metadata": {},
   "outputs": [
    {
     "name": "stdout",
     "output_type": "stream",
     "text": [
      "['sugar', 'tea bags', 'milk', 'biscuit']\n"
     ]
    }
   ],
   "source": [
    "# shortcut to comment multiple lines at a time (Ctrl + /)\n",
    "\n",
    "li = ['sugar','tea bags', 'milk', 'biscuit']\n",
    "print(li)"
   ]
  },
  {
   "cell_type": "code",
   "execution_count": 2,
   "id": "68194634",
   "metadata": {},
   "outputs": [],
   "source": [
    "li.insert(1,\"salt\")"
   ]
  },
  {
   "cell_type": "code",
   "execution_count": 3,
   "id": "82ff9bca",
   "metadata": {},
   "outputs": [
    {
     "name": "stdout",
     "output_type": "stream",
     "text": [
      "['sugar', 'salt', 'tea bags', 'milk', 'biscuit']\n"
     ]
    }
   ],
   "source": [
    "print(li)"
   ]
  },
  {
   "cell_type": "code",
   "execution_count": 5,
   "id": "8b5df2b0",
   "metadata": {},
   "outputs": [],
   "source": [
    "li.remove('salt')"
   ]
  },
  {
   "cell_type": "code",
   "execution_count": 6,
   "id": "3781dcea",
   "metadata": {},
   "outputs": [
    {
     "name": "stdout",
     "output_type": "stream",
     "text": [
      "['sugar', 'tea bags', 'milk', 'biscuit']\n"
     ]
    }
   ],
   "source": [
    "print(li)"
   ]
  },
  {
   "cell_type": "code",
   "execution_count": 7,
   "id": "6b92a8f7",
   "metadata": {},
   "outputs": [],
   "source": [
    "li.remove('milk')"
   ]
  },
  {
   "cell_type": "code",
   "execution_count": 8,
   "id": "afa0c229",
   "metadata": {},
   "outputs": [
    {
     "name": "stdout",
     "output_type": "stream",
     "text": [
      "['sugar', 'tea bags', 'biscuit']\n"
     ]
    }
   ],
   "source": [
    "print(li)"
   ]
  },
  {
   "cell_type": "code",
   "execution_count": 10,
   "id": "95a8d04f",
   "metadata": {},
   "outputs": [],
   "source": [
    "li.append('juice')"
   ]
  },
  {
   "cell_type": "code",
   "execution_count": 11,
   "id": "449f27b7",
   "metadata": {},
   "outputs": [
    {
     "name": "stdout",
     "output_type": "stream",
     "text": [
      "['sugar', 'tea bags', 'biscuit', 'juice']\n"
     ]
    }
   ],
   "source": [
    "print(li)"
   ]
  },
  {
   "cell_type": "code",
   "execution_count": 12,
   "id": "6839345e",
   "metadata": {},
   "outputs": [],
   "source": [
    "li.append('vegetables')"
   ]
  },
  {
   "cell_type": "code",
   "execution_count": 13,
   "id": "564e3142",
   "metadata": {},
   "outputs": [
    {
     "name": "stdout",
     "output_type": "stream",
     "text": [
      "['sugar', 'tea bags', 'biscuit', 'juice', 'vegetables']\n"
     ]
    }
   ],
   "source": [
    "print(li)"
   ]
  },
  {
   "cell_type": "markdown",
   "id": "8c4d21a4",
   "metadata": {},
   "source": [
    "# linked list"
   ]
  },
  {
   "cell_type": "code",
   "execution_count": 1,
   "id": "f0693c36",
   "metadata": {},
   "outputs": [
    {
     "name": "stdout",
     "output_type": "stream",
     "text": [
      "13\n",
      "15\n",
      "<__main__.Node object at 0x000001EA3CE54130>\n",
      "15\n",
      "<__main__.Node object at 0x000001EA3CE54100>\n",
      "<__main__.Node object at 0x000001EA3CE54130>\n",
      "None\n"
     ]
    }
   ],
   "source": [
    "class Node:\n",
    "    def __init__(self,data):\n",
    "        self.data = data\n",
    "        self.next = None\n",
    "a = Node(13)\n",
    "b = Node(15)\n",
    "a.next = b\n",
    "print(a.data)\n",
    "print(b.data)\n",
    "print(a.next)\n",
    "print(a.next.data)\n",
    "print(a)\n",
    "print(b)\n",
    "print(b.next)"
   ]
  },
  {
   "cell_type": "code",
   "execution_count": 2,
   "id": "e780fa8a",
   "metadata": {},
   "outputs": [
    {
     "ename": "AttributeError",
     "evalue": "'NoneType' object has no attribute 'data'",
     "output_type": "error",
     "traceback": [
      "\u001b[1;31m---------------------------------------------------------------------------\u001b[0m",
      "\u001b[1;31mAttributeError\u001b[0m                            Traceback (most recent call last)",
      "\u001b[1;32m<ipython-input-2-4c5e4022a8f6>\u001b[0m in \u001b[0;36m<module>\u001b[1;34m\u001b[0m\n\u001b[1;32m----> 1\u001b[1;33m \u001b[0mprint\u001b[0m\u001b[1;33m(\u001b[0m\u001b[0mb\u001b[0m\u001b[1;33m.\u001b[0m\u001b[0mnext\u001b[0m\u001b[1;33m.\u001b[0m\u001b[0mdata\u001b[0m\u001b[1;33m)\u001b[0m\u001b[1;33m\u001b[0m\u001b[1;33m\u001b[0m\u001b[0m\n\u001b[0m",
      "\u001b[1;31mAttributeError\u001b[0m: 'NoneType' object has no attribute 'data'"
     ]
    }
   ],
   "source": [
    "print(b.next.data)"
   ]
  },
  {
   "cell_type": "markdown",
   "id": "9a00516b",
   "metadata": {},
   "source": [
    "# taking input to form a linked list"
   ]
  },
  {
   "cell_type": "code",
   "execution_count": 6,
   "id": "2ee5f189",
   "metadata": {},
   "outputs": [],
   "source": [
    "# aim is to take the input and form linkedList and at last return head\n",
    "# takes the space separated input\n",
    "\n",
    "class LL:\n",
    "    def __init__(self,data):\n",
    "        self.data = data\n",
    "        self.next = None\n",
    "    \n",
    "    \n",
    "def takeInput():\n",
    "    inputList = [int(x) for x in input().split()]\n",
    "    head = None\n",
    "    for currData in inputList:\n",
    "        if currData == -1:\n",
    "            break\n",
    "        newNode = LL(currData)\n",
    "        if head is None:\n",
    "            head = newNode\n",
    "        else:\n",
    "            curr = head\n",
    "            while curr.next is not None:\n",
    "                curr = curr.next\n",
    "            curr.next = newNode\n",
    "    return head"
   ]
  },
  {
   "cell_type": "code",
   "execution_count": 7,
   "id": "07e61c6a",
   "metadata": {},
   "outputs": [
    {
     "name": "stdout",
     "output_type": "stream",
     "text": [
      "1 2 3 4 5 -1\n"
     ]
    },
    {
     "data": {
      "text/plain": [
       "<__main__.LL at 0x1ea3ce12b50>"
      ]
     },
     "execution_count": 7,
     "metadata": {},
     "output_type": "execute_result"
    }
   ],
   "source": [
    "takeInput()"
   ]
  },
  {
   "cell_type": "code",
   "execution_count": null,
   "id": "9294da20",
   "metadata": {},
   "outputs": [],
   "source": []
  }
 ],
 "metadata": {
  "kernelspec": {
   "display_name": "Python 3",
   "language": "python",
   "name": "python3"
  },
  "language_info": {
   "codemirror_mode": {
    "name": "ipython",
    "version": 3
   },
   "file_extension": ".py",
   "mimetype": "text/x-python",
   "name": "python",
   "nbconvert_exporter": "python",
   "pygments_lexer": "ipython3",
   "version": "3.8.8"
  }
 },
 "nbformat": 4,
 "nbformat_minor": 5
}
