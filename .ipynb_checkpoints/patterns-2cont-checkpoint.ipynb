{
 "cells": [
  {
   "cell_type": "code",
   "execution_count": 11,
   "id": "5df6589a",
   "metadata": {},
   "outputs": [
    {
     "name": "stdout",
     "output_type": "stream",
     "text": [
      "5\n",
      "* \n",
      " * * \n",
      "  * * * \n",
      "   * * * * \n",
      "    * * * * * \n"
     ]
    }
   ],
   "source": [
    "n=int(input())\n",
    "i=1\n",
    "while i<=n:\n",
    "    j=1\n",
    "    while j<=(i-1):\n",
    "        print(\" \",end=\"\")\n",
    "        j+=1\n",
    "    stars=1\n",
    "    while stars<=i:\n",
    "        print(\"* \",end=\"\")\n",
    "        stars+=1   \n",
    "    print()\n",
    "    i+=1"
   ]
  },
  {
   "cell_type": "code",
   "execution_count": 12,
   "id": "371d80df",
   "metadata": {},
   "outputs": [
    {
     "name": "stdout",
     "output_type": "stream",
     "text": [
      "7\n",
      "* \n",
      " * * \n",
      "  * * * \n",
      "   * * * * \n"
     ]
    }
   ],
   "source": [
    "n=int(input())\n",
    "n1=((n+1)/2)\n",
    "n2=(n-n1)\n",
    "i=1\n",
    "while i<=n1:\n",
    "    j=1\n",
    "    while j<=(i-1):\n",
    "        print(\" \",end=\"\")\n",
    "        j+=1\n",
    "    stars=1\n",
    "    while stars<=i:\n",
    "        print(\"* \",end=\"\")\n",
    "        stars+=1\n",
    "    print()\n",
    "    i+=1\n",
    "    "
   ]
  },
  {
   "cell_type": "code",
   "execution_count": 10,
   "id": "f2a9ee91",
   "metadata": {},
   "outputs": [
    {
     "name": "stdout",
     "output_type": "stream",
     "text": [
      "7\n",
      "* \n",
      " * * \n",
      "  * * * \n",
      "   * * * * \n",
      "  * * * \n",
      " * * \n",
      "* \n"
     ]
    }
   ],
   "source": [
    "n=int(input())\n",
    "n1=((n+1)/2)\n",
    "n2=(n-n1)\n",
    "i=1\n",
    "while i<=n1:\n",
    "    j=1\n",
    "    while j<=(i-1):\n",
    "        print(\" \",end=\"\")\n",
    "        j+=1\n",
    "    stars=1\n",
    "    while stars<=i:\n",
    "        print(\"* \",end=\"\")\n",
    "        stars+=1\n",
    "    print()\n",
    "    i+=1\n",
    "i1=1\n",
    "while i1<=n2:\n",
    "    j1=i1\n",
    "    while j1<=(n2-1):\n",
    "        print(\" \",end=\"\")\n",
    "        j1+=1\n",
    "    stars1=i1\n",
    "    while stars1<=n2:\n",
    "        print(\"* \",end=\"\")\n",
    "        stars1+=1\n",
    "    print()\n",
    "    i1+=1"
   ]
  },
  {
   "cell_type": "code",
   "execution_count": 11,
   "id": "70b6da2d",
   "metadata": {},
   "outputs": [
    {
     "name": "stdout",
     "output_type": "stream",
     "text": [
      "4\n",
      "*000*000*\n",
      "0*00*00*0\n",
      "00*0*0*00\n",
      "000***000\n"
     ]
    }
   ],
   "source": [
    "n = int(input())\n",
    "i = 1\n",
    "star = 1\n",
    "while i<=n:\n",
    "    j = 1\n",
    "    while j <= 2*n + 1:\n",
    "        if star == i and star == j:\n",
    "            print('*', end = \"\")\n",
    "            star = star + 1\n",
    "         \n",
    "        elif j == n + 1 or j == 2*n+2 - i:\n",
    "            print('*', end = \"\")\n",
    "        else:\n",
    "            print(0, end = \"\")\n",
    "        j = j + 1\n",
    "    print()\n",
    "    i = i + 1"
   ]
  },
  {
   "cell_type": "code",
   "execution_count": null,
   "id": "0d526a45",
   "metadata": {},
   "outputs": [],
   "source": []
  }
 ],
 "metadata": {
  "kernelspec": {
   "display_name": "Python 3",
   "language": "python",
   "name": "python3"
  },
  "language_info": {
   "codemirror_mode": {
    "name": "ipython",
    "version": 3
   },
   "file_extension": ".py",
   "mimetype": "text/x-python",
   "name": "python",
   "nbconvert_exporter": "python",
   "pygments_lexer": "ipython3",
   "version": "3.8.8"
  }
 },
 "nbformat": 4,
 "nbformat_minor": 5
}
