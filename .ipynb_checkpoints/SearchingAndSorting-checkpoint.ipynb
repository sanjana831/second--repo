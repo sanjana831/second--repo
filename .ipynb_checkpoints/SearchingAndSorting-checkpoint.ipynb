{
 "cells": [
  {
   "cell_type": "markdown",
   "id": "3277a767",
   "metadata": {},
   "source": [
    "Code Binary Search"
   ]
  },
  {
   "cell_type": "code",
   "execution_count": 38,
   "id": "b8c64d42",
   "metadata": {},
   "outputs": [],
   "source": [
    "def binarySearch(arr, n, x) :\n",
    "    l = 0\n",
    "    h = n-1\n",
    "    while l<=h:\n",
    "        m = (l+h)//2\n",
    "        if arr[m] == x:\n",
    "            return m\n",
    "        if arr[m]>x:\n",
    "            h = m-1\n",
    "        else:\n",
    "            l = m+1\n",
    "    return -1\n",
    "\n",
    "#remaining code in coding ninjas platform\n",
    "    "
   ]
  },
  {
   "cell_type": "markdown",
   "id": "55f767e3",
   "metadata": {},
   "source": [
    "Code Selection Sort"
   ]
  },
  {
   "cell_type": "code",
   "execution_count": null,
   "id": "fc07a4d6",
   "metadata": {},
   "outputs": [],
   "source": [
    "def selectionSort(arr, n) :\n",
    "    for i in range(len(arr)):\n",
    "        min_index=i\n",
    "        for j in range(i+1,len(arr)):\n",
    "            if arr[j]<arr[min_index]:\n",
    "                min_index=j\n",
    "        arr[i],arr[min_index]=arr[min_index],arr[i]\n",
    "    return arr\n",
    "#remaining code in coding ninjas"
   ]
  },
  {
   "cell_type": "markdown",
   "id": "ad0fca99",
   "metadata": {},
   "source": [
    "Bubble Sort"
   ]
  },
  {
   "cell_type": "code",
   "execution_count": null,
   "id": "36c79a0a",
   "metadata": {},
   "outputs": [],
   "source": [
    "arr=[2,13,4,13,6,28]\n",
    "for i in range(len(arr)):\n",
    "    for j in range(len(arr)-1):\n",
    "        if arr[j]>arr[j+1]:\n",
    "            arr[j],arr[j+1]=arr[j+1],arr[j]\n",
    "return arr"
   ]
  },
  {
   "cell_type": "markdown",
   "id": "15c3f665",
   "metadata": {},
   "source": [
    "Insertion Sort Code"
   ]
  },
  {
   "cell_type": "code",
   "execution_count": null,
   "id": "f6bbfc33",
   "metadata": {},
   "outputs": [],
   "source": [
    "def insertionSort(arr):\n",
    "    \n",
    "    length = len(arr)\n",
    "    for i in range(1,length):\n",
    "        j=i-1\n",
    "        temp = arr[i]\n",
    "        #Shifting elements till this condition holds\n",
    "        while(j>=0 and arr[j] > temp):\n",
    "            arr[j+1] = arr[j]\n",
    "            j = j - 1\n",
    "        # j+1 is correct position for ith element\n",
    "        arr[j+1] = temp\n",
    "\n",
    "arr = [9,8,5,6,7,1,10,11]\n",
    "insertionSort(arr)\n",
    "print(arr)"
   ]
  },
  {
   "cell_type": "markdown",
   "id": "476fc7a2",
   "metadata": {},
   "source": [
    "Merge Two Arrays"
   ]
  },
  {
   "cell_type": "code",
   "execution_count": null,
   "id": "890277f2",
   "metadata": {},
   "outputs": [],
   "source": [
    "def mergetwoarray(a1,a2,debug=False):\n",
    "    i,j=0,0\n",
    "    len1,len2=len(a1),len(a2)\n",
    "    new_array=[]\n",
    "    while(i<len1 and j<len2):\n",
    "        if a1[i]<a2[j]:\n",
    "            new_array.append(a1[i])\n",
    "            i=i+1\n",
    "        else:\n",
    "            new_array.append(a2[j])\n",
    "            j=j+1\n",
    "    while(i<len1):\n",
    "        new_array.append(a1[i])\n",
    "        i=i+1\n",
    "    while(j<len2):\n",
    "        new_array.append(a2[j])\n",
    "        j=j+1\n",
    "    return new_array\n",
    "\n",
    "a1=[1,3,4,7,11]\n",
    "a2=[4,9,11,13]\n",
    "mergetwoarray(a1,a2,debug=False)"
   ]
  },
  {
   "cell_type": "markdown",
   "id": "1368609a",
   "metadata": {},
   "source": [
    "Assignments"
   ]
  },
  {
   "cell_type": "markdown",
   "id": "2edc8a0a",
   "metadata": {},
   "source": [
    "1. Push Zeroes to End"
   ]
  },
  {
   "cell_type": "code",
   "execution_count": null,
   "id": "99cbf510",
   "metadata": {},
   "outputs": [],
   "source": [
    "def pushZerosAtEnd(arr, n) :\n",
    "    insert_index = 0\n",
    "    l=len(arr)\n",
    "    for i in range(l):\n",
    "        if arr[i] != 0:\n",
    "            arr[insert_index]=arr[i]\n",
    "            insert_index+=1\n",
    "    for i in range(insert_index,l):\n",
    "        arr[i]=0\n",
    "    return arr"
   ]
  },
  {
   "cell_type": "markdown",
   "id": "f106d67c",
   "metadata": {},
   "source": [
    "2. Rotate Array"
   ]
  },
  {
   "cell_type": "code",
   "execution_count": 65,
   "id": "0943a50d",
   "metadata": {},
   "outputs": [
    {
     "name": "stdout",
     "output_type": "stream",
     "text": [
      "[0]\n"
     ]
    }
   ],
   "source": [
    "arr=[0]\n",
    "n=len(arr)\n",
    "d=2\n",
    "arr[:]=arr[d:n]+arr[0:d]\n",
    "print(arr)"
   ]
  },
  {
   "cell_type": "markdown",
   "id": "180f4611",
   "metadata": {},
   "source": [
    "3. Second Largest in Array"
   ]
  },
  {
   "cell_type": "code",
   "execution_count": 153,
   "id": "ebba2bde",
   "metadata": {},
   "outputs": [
    {
     "name": "stdout",
     "output_type": "stream",
     "text": [
      "0\n"
     ]
    },
    {
     "ename": "IndexError",
     "evalue": "list index out of range",
     "output_type": "error",
     "traceback": [
      "\u001b[1;31m---------------------------------------------------------------------------\u001b[0m",
      "\u001b[1;31mIndexError\u001b[0m                                Traceback (most recent call last)",
      "\u001b[1;32m<ipython-input-153-4be7caed8a4a>\u001b[0m in \u001b[0;36m<module>\u001b[1;34m\u001b[0m\n\u001b[0;32m     28\u001b[0m \u001b[1;33m\u001b[0m\u001b[0m\n\u001b[0;32m     29\u001b[0m \u001b[0marr\u001b[0m\u001b[1;33m=\u001b[0m\u001b[1;33m[\u001b[0m\u001b[1;33m]\u001b[0m\u001b[1;33m\u001b[0m\u001b[1;33m\u001b[0m\u001b[0m\n\u001b[1;32m---> 30\u001b[1;33m \u001b[0mans\u001b[0m\u001b[1;33m=\u001b[0m\u001b[0msec_largest\u001b[0m\u001b[1;33m(\u001b[0m\u001b[0marr\u001b[0m\u001b[1;33m)\u001b[0m\u001b[1;33m\u001b[0m\u001b[1;33m\u001b[0m\u001b[0m\n\u001b[0m\u001b[0;32m     31\u001b[0m \u001b[0mprint\u001b[0m\u001b[1;33m(\u001b[0m\u001b[0mans\u001b[0m\u001b[1;33m)\u001b[0m\u001b[1;33m\u001b[0m\u001b[1;33m\u001b[0m\u001b[0m\n",
      "\u001b[1;32m<ipython-input-153-4be7caed8a4a>\u001b[0m in \u001b[0;36msec_largest\u001b[1;34m(arr)\u001b[0m\n\u001b[0;32m      2\u001b[0m     \u001b[0ml\u001b[0m\u001b[1;33m=\u001b[0m\u001b[0mlen\u001b[0m\u001b[1;33m(\u001b[0m\u001b[0marr\u001b[0m\u001b[1;33m)\u001b[0m\u001b[1;33m\u001b[0m\u001b[1;33m\u001b[0m\u001b[0m\n\u001b[0;32m      3\u001b[0m     \u001b[0mprint\u001b[0m\u001b[1;33m(\u001b[0m\u001b[0ml\u001b[0m\u001b[1;33m)\u001b[0m\u001b[1;33m\u001b[0m\u001b[1;33m\u001b[0m\u001b[0m\n\u001b[1;32m----> 4\u001b[1;33m     \u001b[0mlarg\u001b[0m\u001b[1;33m=\u001b[0m\u001b[0marr\u001b[0m\u001b[1;33m[\u001b[0m\u001b[1;36m0\u001b[0m\u001b[1;33m]\u001b[0m\u001b[1;33m\u001b[0m\u001b[1;33m\u001b[0m\u001b[0m\n\u001b[0m\u001b[0;32m      5\u001b[0m     \u001b[0msec_larg\u001b[0m\u001b[1;33m=\u001b[0m\u001b[0marr\u001b[0m\u001b[1;33m[\u001b[0m\u001b[1;36m0\u001b[0m\u001b[1;33m]\u001b[0m\u001b[1;33m\u001b[0m\u001b[1;33m\u001b[0m\u001b[0m\n\u001b[0;32m      6\u001b[0m     \u001b[0mlarg_index\u001b[0m\u001b[1;33m=\u001b[0m\u001b[1;36m0\u001b[0m\u001b[1;33m\u001b[0m\u001b[1;33m\u001b[0m\u001b[0m\n",
      "\u001b[1;31mIndexError\u001b[0m: list index out of range"
     ]
    }
   ],
   "source": [
    "def sec_largest(arr):\n",
    "    l=len(arr)\n",
    "    print(l)\n",
    "    larg=arr[0]\n",
    "    sec_larg=arr[0]\n",
    "    larg_index=0\n",
    "    if l==0:\n",
    "        return -2147483648\n",
    "    else:\n",
    "        for k in range(l-1):\n",
    "            debug=True\n",
    "            if arr[k]==arr[k+1]:\n",
    "                debug=True\n",
    "            else:\n",
    "                debug=False\n",
    "        if debug:\n",
    "            return -2147483648\n",
    "            \n",
    "        for i in range(l):\n",
    "            if arr[i]>=larg:\n",
    "                larg=arr[i]\n",
    "                larg_index=i\n",
    "        arr[larg_index]=-100000000\n",
    "        for j in range(l-1):\n",
    "            if arr[j]>sec_larg:\n",
    "                sec_larg=arr[j]\n",
    "        return sec_larg\n",
    "\n",
    "arr=[]\n",
    "ans=sec_largest(arr)\n",
    "print(ans)\n"
   ]
  },
  {
   "cell_type": "markdown",
   "id": "9231f970",
   "metadata": {},
   "source": [
    "4. Check Array Rotation"
   ]
  },
  {
   "cell_type": "code",
   "execution_count": 13,
   "id": "42c11538",
   "metadata": {},
   "outputs": [
    {
     "name": "stdout",
     "output_type": "stream",
     "text": [
      "0\n"
     ]
    }
   ],
   "source": [
    "def countRotations(arr, n):\n",
    "    if n==0:\n",
    "        return 0\n",
    "    min = arr[0]\n",
    "    min_index=0\n",
    "    \n",
    "    \n",
    "    for i in range(0, n):\n",
    "     \n",
    "        if (min > arr[i]):\n",
    "         \n",
    "            min = arr[i]\n",
    "            min_index = i\n",
    "         \n",
    "    return min_index;\n",
    " \n",
    " \n",
    "# Driver code\n",
    "arr = []\n",
    "n = len(arr)\n",
    "print(countRotations(arr, n))"
   ]
  },
  {
   "cell_type": "markdown",
   "id": "697223d0",
   "metadata": {},
   "source": [
    "6. Sum of Two Arrays"
   ]
  },
  {
   "cell_type": "code",
   "execution_count": 85,
   "id": "f8bbbd73",
   "metadata": {},
   "outputs": [
    {
     "name": "stdout",
     "output_type": "stream",
     "text": [
      "0\n",
      "0\n",
      "2\n",
      "1\n",
      "0\n",
      "0\n",
      "1\n"
     ]
    }
   ],
   "source": [
    "arr1=[9,9,9,1,3,4]\n",
    "n=6\n",
    "arr2=[2,0,6,6]\n",
    "m=4\n",
    "carry=0\n",
    "k=0\n",
    "for i in range(n):\n",
    "    a=arr1[n-i-1]\n",
    "    for j in range(1):\n",
    "        b=arr2[m-j-1]\n",
    "        m=m-1\n",
    "        if m>=0:\n",
    "            sum=a+b+carry\n",
    "            carry=sum//10\n",
    "            sum=sum%10\n",
    "            print(sum)\n",
    "        else:\n",
    "            sum=a+carry\n",
    "            car=sum//10\n",
    "            k=sum%10\n",
    "            print(k)\n",
    "print(car)\n",
    "    "
   ]
  },
  {
   "cell_type": "code",
   "execution_count": 58,
   "id": "53cd4086",
   "metadata": {},
   "outputs": [
    {
     "name": "stdout",
     "output_type": "stream",
     "text": [
      "0\n",
      "1\n"
     ]
    }
   ],
   "source": [
    "s=10\n",
    "c=s%10\n",
    "print(c)\n",
    "s=s//10\n",
    "print(s)"
   ]
  },
  {
   "cell_type": "code",
   "execution_count": 101,
   "id": "009dd7ba",
   "metadata": {},
   "outputs": [
    {
     "name": "stdout",
     "output_type": "stream",
     "text": [
      "0\n",
      "0\n",
      "2\n",
      "1\n",
      "0\n",
      "0\n",
      "1\n"
     ]
    }
   ],
   "source": [
    "def SumTwoArray(arr1,n,arr2,m):\n",
    "    carry=0\n",
    "    car=0\n",
    "    k=0\n",
    "    arr=[]\n",
    "    for i in range(n):\n",
    "        a=arr1[n-i-1]\n",
    "        for j in range(1):\n",
    "            b=arr2[m-j-1]\n",
    "            m=m-1\n",
    "            if m>=0:\n",
    "                sum=a+b+carry\n",
    "                carry=sum//10\n",
    "                sum=sum%10\n",
    "                print(sum)\n",
    "            else:\n",
    "                sum=a+carry\n",
    "                carry=sum//10\n",
    "                k=sum%10\n",
    "                print(k)\n",
    "    return carry\n",
    "\n",
    "arr1=[9,9,9,1,3,4]\n",
    "n=6\n",
    "arr2=[2,0,6,6]\n",
    "m=4\n",
    "print(SumTwoArray(arr1,n,arr2,m))\n"
   ]
  },
  {
   "cell_type": "code",
   "execution_count": null,
   "id": "8e47bc83",
   "metadata": {},
   "outputs": [],
   "source": []
  }
 ],
 "metadata": {
  "kernelspec": {
   "display_name": "Python 3",
   "language": "python",
   "name": "python3"
  },
  "language_info": {
   "codemirror_mode": {
    "name": "ipython",
    "version": 3
   },
   "file_extension": ".py",
   "mimetype": "text/x-python",
   "name": "python",
   "nbconvert_exporter": "python",
   "pygments_lexer": "ipython3",
   "version": "3.8.8"
  }
 },
 "nbformat": 4,
 "nbformat_minor": 5
}
