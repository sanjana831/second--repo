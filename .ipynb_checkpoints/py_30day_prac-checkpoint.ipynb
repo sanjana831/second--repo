{
 "cells": [
  {
   "cell_type": "markdown",
   "id": "f9975bda",
   "metadata": {},
   "source": [
    "# day - 1"
   ]
  },
  {
   "cell_type": "markdown",
   "id": "90220422",
   "metadata": {},
   "source": [
    "# problem-1"
   ]
  },
  {
   "cell_type": "raw",
   "id": "2c5ce50a",
   "metadata": {},
   "source": [
    "N = 4\n",
    "****\n",
    "****\n",
    "****"
   ]
  },
  {
   "cell_type": "code",
   "execution_count": 3,
   "id": "5e694a2f",
   "metadata": {},
   "outputs": [
    {
     "name": "stdout",
     "output_type": "stream",
     "text": [
      "4\n",
      "****\n",
      "****\n",
      "****\n",
      "****\n"
     ]
    }
   ],
   "source": [
    "N = int(input())\n",
    "for i in range(N):\n",
    "    for j in range(N):\n",
    "        print(\"*\",end = \"\")\n",
    "    print()"
   ]
  },
  {
   "cell_type": "markdown",
   "id": "b4990f5d",
   "metadata": {},
   "source": [
    "# problem - 2"
   ]
  },
  {
   "cell_type": "raw",
   "id": "9f1a4d36",
   "metadata": {},
   "source": [
    "N = 4\n",
    "*\n",
    "**\n",
    "***\n",
    "****"
   ]
  },
  {
   "cell_type": "code",
   "execution_count": 5,
   "id": "d751f948",
   "metadata": {},
   "outputs": [
    {
     "name": "stdout",
     "output_type": "stream",
     "text": [
      "4\n",
      "*\n",
      "**\n",
      "***\n",
      "****\n"
     ]
    }
   ],
   "source": [
    "N = int(input())\n",
    "for i in range(N):\n",
    "    for j in range(i+1):\n",
    "        print(\"*\",end = \"\")\n",
    "    print()"
   ]
  },
  {
   "cell_type": "markdown",
   "id": "921de0b8",
   "metadata": {},
   "source": [
    "# problem - 3"
   ]
  },
  {
   "cell_type": "raw",
   "id": "72abbe12",
   "metadata": {},
   "source": [
    "N = 4\n",
    "****\n",
    "***\n",
    "**\n",
    "*"
   ]
  },
  {
   "cell_type": "code",
   "execution_count": 11,
   "id": "7a6995ab",
   "metadata": {},
   "outputs": [
    {
     "name": "stdout",
     "output_type": "stream",
     "text": [
      "4\n",
      "****\n",
      "***\n",
      "**\n",
      "*\n"
     ]
    }
   ],
   "source": [
    "N = int(input())\n",
    "for i in range(N):\n",
    "    for j in range(N - i):\n",
    "        print(\"*\",end = \"\")\n",
    "    print()"
   ]
  },
  {
   "cell_type": "markdown",
   "id": "3076e982",
   "metadata": {},
   "source": [
    "# problem - 4"
   ]
  },
  {
   "cell_type": "raw",
   "id": "a70cdd92",
   "metadata": {},
   "source": [
    "N = 4\n",
    "4444\n",
    "333\n",
    "22\n",
    "1"
   ]
  },
  {
   "cell_type": "code",
   "execution_count": 12,
   "id": "bcdacb2c",
   "metadata": {},
   "outputs": [
    {
     "name": "stdout",
     "output_type": "stream",
     "text": [
      "4\n",
      "4444\n",
      "333\n",
      "22\n",
      "1\n"
     ]
    }
   ],
   "source": [
    "N = int(input())\n",
    "for i in range(N):\n",
    "    for j in range(N - i):\n",
    "        print(N - i,end = \"\")\n",
    "    print()"
   ]
  },
  {
   "cell_type": "markdown",
   "id": "ac082bba",
   "metadata": {},
   "source": [
    "# problem - 5"
   ]
  },
  {
   "cell_type": "raw",
   "id": "31793e1b",
   "metadata": {},
   "source": [
    "N = 4\n",
    "4321\n",
    "321\n",
    "21\n",
    "1"
   ]
  },
  {
   "cell_type": "code",
   "execution_count": 17,
   "id": "4b5f9a6c",
   "metadata": {},
   "outputs": [
    {
     "name": "stdout",
     "output_type": "stream",
     "text": [
      "4\n",
      "4321\n",
      "321\n",
      "21\n",
      "1\n"
     ]
    }
   ],
   "source": [
    "N = int(input())\n",
    "for i in range(N):\n",
    "    for j in range(N - i):\n",
    "        print(N - j - i ,end =\"\")\n",
    "    print()"
   ]
  },
  {
   "cell_type": "markdown",
   "id": "3cebcccf",
   "metadata": {},
   "source": [
    "# problem - 6"
   ]
  },
  {
   "cell_type": "raw",
   "id": "c066a2fc",
   "metadata": {},
   "source": [
    "N = 4\n",
    "1111\n",
    "222\n",
    "33\n",
    "4"
   ]
  },
  {
   "cell_type": "code",
   "execution_count": 18,
   "id": "c7150839",
   "metadata": {},
   "outputs": [
    {
     "name": "stdout",
     "output_type": "stream",
     "text": [
      "4\n",
      "1111\n",
      "222\n",
      "33\n",
      "4\n"
     ]
    }
   ],
   "source": [
    "N = int(input())\n",
    "for i in range(N):\n",
    "    for j in range(N - i):\n",
    "        print(i+1 ,end =\"\")\n",
    "    print()"
   ]
  },
  {
   "cell_type": "markdown",
   "id": "ace3e77d",
   "metadata": {},
   "source": [
    "# problem - 7"
   ]
  },
  {
   "cell_type": "raw",
   "id": "da835f69",
   "metadata": {},
   "source": [
    "N = 4\n",
    "4321\n",
    "432\n",
    "43\n",
    "4"
   ]
  },
  {
   "cell_type": "code",
   "execution_count": 19,
   "id": "3782b94e",
   "metadata": {},
   "outputs": [
    {
     "name": "stdout",
     "output_type": "stream",
     "text": [
      "4\n",
      "4321\n",
      "432\n",
      "43\n",
      "4\n"
     ]
    }
   ],
   "source": [
    "N = int(input())\n",
    "for i in range(N):\n",
    "    for j in range(N - i):\n",
    "        print(N - j ,end =\"\")\n",
    "    print()"
   ]
  },
  {
   "cell_type": "markdown",
   "id": "c8c0c7a0",
   "metadata": {},
   "source": [
    "# problem - 8"
   ]
  },
  {
   "cell_type": "raw",
   "id": "86eca5e7",
   "metadata": {},
   "source": [
    "N = 4\n",
    "1234\n",
    "123\n",
    "12\n",
    "1"
   ]
  },
  {
   "cell_type": "code",
   "execution_count": 20,
   "id": "8153eae9",
   "metadata": {},
   "outputs": [
    {
     "name": "stdout",
     "output_type": "stream",
     "text": [
      "4\n",
      "1234\n",
      "123\n",
      "12\n",
      "1\n"
     ]
    }
   ],
   "source": [
    "N = int(input())\n",
    "for i in range(N):\n",
    "    for j in range(N - i):\n",
    "        print(j+1 ,end =\"\")\n",
    "    print()"
   ]
  },
  {
   "cell_type": "markdown",
   "id": "95263866",
   "metadata": {},
   "source": [
    "# problem - 9"
   ]
  },
  {
   "cell_type": "raw",
   "id": "c2889d90",
   "metadata": {},
   "source": [
    "N = 4\n",
    "---*\n",
    "--**\n",
    "-***\n",
    "****"
   ]
  },
  {
   "cell_type": "code",
   "execution_count": 35,
   "id": "d0c17593",
   "metadata": {},
   "outputs": [
    {
     "name": "stdout",
     "output_type": "stream",
     "text": [
      "4\n",
      "   *\n",
      "  **\n",
      " ***\n",
      "****\n"
     ]
    }
   ],
   "source": [
    "N = int(input())\n",
    "for i in range(N):\n",
    "    spaces = 0\n",
    "    while (spaces < N - i - 1):\n",
    "        print(\" \",end = \"\")\n",
    "        spaces += 1\n",
    "    stars = 0\n",
    "    while (stars <= i):\n",
    "        print(\"*\",end = \"\")\n",
    "        stars += 1\n",
    "    print()"
   ]
  },
  {
   "cell_type": "markdown",
   "id": "cfe291c7",
   "metadata": {},
   "source": [
    "# problem - 10"
   ]
  },
  {
   "cell_type": "raw",
   "id": "05052929",
   "metadata": {},
   "source": [
    "N = 4\n",
    "   *\n",
    "  ***\n",
    " *****\n",
    "*******"
   ]
  },
  {
   "cell_type": "code",
   "execution_count": 41,
   "id": "7eb20e7d",
   "metadata": {},
   "outputs": [
    {
     "name": "stdout",
     "output_type": "stream",
     "text": [
      "4\n",
      "   *\n",
      "  ***\n",
      " *****\n",
      "*******\n"
     ]
    }
   ],
   "source": [
    "N = int(input())\n",
    "for i in range(N):\n",
    "    spaces = 0\n",
    "    while spaces < N - i - 1:\n",
    "        print(\" \",end = \"\")\n",
    "        spaces += 1\n",
    "    stars = 0\n",
    "    while stars < 2*i+1:\n",
    "        print(\"*\",end = \"\")\n",
    "        stars += 1\n",
    "    print()"
   ]
  },
  {
   "cell_type": "markdown",
   "id": "cf53a1d1",
   "metadata": {},
   "source": [
    "# day - 2"
   ]
  },
  {
   "cell_type": "markdown",
   "id": "1bc8a2e7",
   "metadata": {},
   "source": [
    "# problem - 11 (FACTORIAL OF N)"
   ]
  },
  {
   "cell_type": "code",
   "execution_count": 5,
   "id": "9daeca6b",
   "metadata": {},
   "outputs": [
    {
     "name": "stdout",
     "output_type": "stream",
     "text": [
      "5\n",
      "factorial of 5 is 120\n"
     ]
    }
   ],
   "source": [
    "N = int(input())\n",
    "i = N\n",
    "res = N\n",
    "N = N - 1\n",
    "while (N != 0):\n",
    "    res = res * (N)\n",
    "    N -= 1\n",
    "print(\"factorial of\",i,\"is\",res);"
   ]
  },
  {
   "cell_type": "markdown",
   "id": "7cfb02f2",
   "metadata": {},
   "source": [
    "# problem - 12 (using recursion)"
   ]
  },
  {
   "cell_type": "code",
   "execution_count": 8,
   "id": "ff50feb4",
   "metadata": {},
   "outputs": [
    {
     "name": "stdout",
     "output_type": "stream",
     "text": [
      "5\n",
      "120\n"
     ]
    }
   ],
   "source": [
    "N = int(input())\n",
    "\n",
    "def fact(N):\n",
    "    if N == 0:\n",
    "        return 1\n",
    "    fac = N * fact(N - 1)\n",
    "    return fac\n",
    "\n",
    "res = fact(N)\n",
    "print(res)"
   ]
  },
  {
   "cell_type": "markdown",
   "id": "e17f696f",
   "metadata": {},
   "source": [
    "# problem - 13 (sum of digits of given number)"
   ]
  },
  {
   "cell_type": "code",
   "execution_count": 14,
   "id": "ef174c81",
   "metadata": {},
   "outputs": [
    {
     "name": "stdout",
     "output_type": "stream",
     "text": [
      "123\n",
      "6\n"
     ]
    }
   ],
   "source": [
    "N = int(input())\n",
    "\n",
    "def sum_digits(N):\n",
    "    original = N\n",
    "    sum = 0\n",
    "    while N > 0:\n",
    "        digit = N % 10\n",
    "        sum = sum + digit\n",
    "        N /= 10\n",
    "        N = int(N)\n",
    "    return sum\n",
    "\n",
    "res = sum_digits(N)\n",
    "print(res)"
   ]
  },
  {
   "cell_type": "markdown",
   "id": "59b03b2b",
   "metadata": {},
   "source": [
    "# problem - 14 (perfect number check)"
   ]
  },
  {
   "cell_type": "code",
   "execution_count": 7,
   "id": "c22993bf",
   "metadata": {},
   "outputs": [
    {
     "name": "stdout",
     "output_type": "stream",
     "text": [
      "6\n",
      "6 is a perfect number\n"
     ]
    }
   ],
   "source": [
    "N = int(input())\n",
    "\n",
    "def perfect_num(N):\n",
    "    sum = 0\n",
    "    for i in range(1,N):\n",
    "        if N % i == 0:\n",
    "            sum = sum + i\n",
    "    if sum == N:\n",
    "        return \"%d is a perfect number\" %N\n",
    "    else:\n",
    "        return \"%d is not a perfect number\" %N\n",
    "res = perfect_num(N)\n",
    "print(res)"
   ]
  },
  {
   "cell_type": "markdown",
   "id": "239d01dd",
   "metadata": {},
   "source": [
    "# problem - 15 (printing fibonacci series)"
   ]
  },
  {
   "cell_type": "code",
   "execution_count": 10,
   "id": "9a9f3a2d",
   "metadata": {},
   "outputs": [
    {
     "name": "stdout",
     "output_type": "stream",
     "text": [
      "7\n",
      "0\n",
      "1\n",
      "1\n",
      "2\n",
      "3\n",
      "5\n",
      "8\n",
      "that's it\n"
     ]
    }
   ],
   "source": [
    "N = int(input())\n",
    "\n",
    "def print_fibo(limit):\n",
    "    a = 0\n",
    "    print(a)\n",
    "    b = 1\n",
    "    print(b)\n",
    "    for i in range(limit-2):\n",
    "        c = a + b\n",
    "        print(c)\n",
    "        a = b\n",
    "        b = c\n",
    "    return \"that's it\"\n",
    "\n",
    "res = print_fibo(N)\n",
    "print(res)"
   ]
  },
  {
   "cell_type": "markdown",
   "id": "92159aa4",
   "metadata": {},
   "source": [
    "# problem - 16 (palindrome)"
   ]
  },
  {
   "cell_type": "code",
   "execution_count": 6,
   "id": "99a4324f",
   "metadata": {},
   "outputs": [
    {
     "name": "stdout",
     "output_type": "stream",
     "text": [
      "50005\n",
      "50005 is a palindrome\n"
     ]
    }
   ],
   "source": [
    "N = int(input())\n",
    "\n",
    "def check_palind(N):\n",
    "    original = N\n",
    "    reversed = 0\n",
    "    while N > 0:\n",
    "        digit = N % 10\n",
    "        reversed = reversed * 10 + digit\n",
    "        N = N // 10\n",
    "    if reversed == original:\n",
    "        return \"%d is a palindrome\" %original\n",
    "    else:\n",
    "        return \"%d is not a palindrome\" %original\n",
    "        \n",
    "res = check_palind(N)\n",
    "print(res)"
   ]
  },
  {
   "cell_type": "markdown",
   "id": "9ff1fe10",
   "metadata": {},
   "source": [
    "# problem - 17 (prime number)"
   ]
  },
  {
   "cell_type": "code",
   "execution_count": 15,
   "id": "1d79f388",
   "metadata": {},
   "outputs": [
    {
     "name": "stdout",
     "output_type": "stream",
     "text": [
      "43\n",
      "43 is a prime number\n"
     ]
    }
   ],
   "source": [
    "N = int(input())\n",
    "\n",
    "def check_prime(N):\n",
    "    if N == 1:\n",
    "        return \"1 is neither prime or composite number\"\n",
    "    else:\n",
    "        count = 0\n",
    "        for i in range(2,N,1):\n",
    "            if N % i == 0:\n",
    "                count += 1\n",
    "        if count > 0:\n",
    "            return \"%d is not a prime number\" %N\n",
    "        else:\n",
    "            return \"%d is a prime number\"%N\n",
    "\n",
    "res = check_prime(N)\n",
    "print(res)"
   ]
  },
  {
   "cell_type": "code",
   "execution_count": null,
   "id": "7d716366",
   "metadata": {},
   "outputs": [],
   "source": []
  },
  {
   "cell_type": "code",
   "execution_count": null,
   "id": "65e59e17",
   "metadata": {},
   "outputs": [],
   "source": []
  }
 ],
 "metadata": {
  "kernelspec": {
   "display_name": "Python 3",
   "language": "python",
   "name": "python3"
  },
  "language_info": {
   "codemirror_mode": {
    "name": "ipython",
    "version": 3
   },
   "file_extension": ".py",
   "mimetype": "text/x-python",
   "name": "python",
   "nbconvert_exporter": "python",
   "pygments_lexer": "ipython3",
   "version": "3.8.8"
  }
 },
 "nbformat": 4,
 "nbformat_minor": 5
}
