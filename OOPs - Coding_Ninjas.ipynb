{
 "cells": [
  {
   "cell_type": "code",
   "execution_count": 6,
   "id": "5f7f9d5e",
   "metadata": {},
   "outputs": [
    {
     "name": "stdout",
     "output_type": "stream",
     "text": [
      "<class '__main__.student'>\n",
      "<__main__.student object at 0x00000222291B7F40>\n",
      "<__main__.student object at 0x00000222291B7F40> <__main__.student object at 0x000002222928A070>\n"
     ]
    }
   ],
   "source": [
    "class student:\n",
    "    pass\n",
    "\n",
    "s1 = student()\n",
    "print(type(s1))\n",
    "print(s1)\n",
    "s2 = student()\n",
    "print(s1,s2)\n",
    "s3 = student()"
   ]
  },
  {
   "cell_type": "code",
   "execution_count": 7,
   "id": "cbd5c47b",
   "metadata": {},
   "outputs": [],
   "source": [
    "s1.name = \"Sanjana\"\n",
    "s2.rollno = 13\n",
    "s3.name = \"Anu\"\n",
    "s3.rollno = 12"
   ]
  },
  {
   "cell_type": "code",
   "execution_count": 8,
   "id": "9b3044ef",
   "metadata": {},
   "outputs": [
    {
     "data": {
      "text/plain": [
       "'Sanjana'"
      ]
     },
     "execution_count": 8,
     "metadata": {},
     "output_type": "execute_result"
    }
   ],
   "source": [
    "s1.name"
   ]
  },
  {
   "cell_type": "code",
   "execution_count": 9,
   "id": "b78ba356",
   "metadata": {},
   "outputs": [
    {
     "name": "stdout",
     "output_type": "stream",
     "text": [
      "Sanjana\n"
     ]
    }
   ],
   "source": [
    "print(s1.name)"
   ]
  },
  {
   "cell_type": "code",
   "execution_count": 10,
   "id": "2d1beeaf",
   "metadata": {},
   "outputs": [
    {
     "data": {
      "text/plain": [
       "13"
      ]
     },
     "execution_count": 10,
     "metadata": {},
     "output_type": "execute_result"
    }
   ],
   "source": [
    "s2.rollno"
   ]
  },
  {
   "cell_type": "code",
   "execution_count": 12,
   "id": "28e7a5c1",
   "metadata": {},
   "outputs": [
    {
     "ename": "AttributeError",
     "evalue": "'student' object has no attribute 'name'",
     "output_type": "error",
     "traceback": [
      "\u001b[1;31m---------------------------------------------------------------------------\u001b[0m",
      "\u001b[1;31mAttributeError\u001b[0m                            Traceback (most recent call last)",
      "\u001b[1;32m<ipython-input-12-709594944e69>\u001b[0m in \u001b[0;36m<module>\u001b[1;34m\u001b[0m\n\u001b[1;32m----> 1\u001b[1;33m \u001b[0ms2\u001b[0m\u001b[1;33m.\u001b[0m\u001b[0mname\u001b[0m\u001b[1;33m\u001b[0m\u001b[1;33m\u001b[0m\u001b[0m\n\u001b[0m",
      "\u001b[1;31mAttributeError\u001b[0m: 'student' object has no attribute 'name'"
     ]
    }
   ],
   "source": [
    "s2.name"
   ]
  },
  {
   "cell_type": "code",
   "execution_count": 13,
   "id": "70a5b30a",
   "metadata": {},
   "outputs": [
    {
     "data": {
      "text/plain": [
       "{'name': 'Anu', 'rollno': 12}"
      ]
     },
     "execution_count": 13,
     "metadata": {},
     "output_type": "execute_result"
    }
   ],
   "source": [
    "# to see all attributes of an object\n",
    "s3.__dict__"
   ]
  },
  {
   "cell_type": "code",
   "execution_count": 14,
   "id": "bd8cd32d",
   "metadata": {},
   "outputs": [
    {
     "name": "stdout",
     "output_type": "stream",
     "text": [
      "{'name': 'Anu', 'rollno': 12}\n"
     ]
    }
   ],
   "source": [
    "print(s3.__dict__)"
   ]
  },
  {
   "cell_type": "code",
   "execution_count": 15,
   "id": "ab399b3b",
   "metadata": {},
   "outputs": [
    {
     "data": {
      "text/plain": [
       "{'name': 'Sanjana'}"
      ]
     },
     "execution_count": 15,
     "metadata": {},
     "output_type": "execute_result"
    }
   ],
   "source": [
    "s1.__dict__"
   ]
  },
  {
   "cell_type": "code",
   "execution_count": 16,
   "id": "7e74c056",
   "metadata": {},
   "outputs": [
    {
     "data": {
      "text/plain": [
       "True"
      ]
     },
     "execution_count": 16,
     "metadata": {},
     "output_type": "execute_result"
    }
   ],
   "source": [
    "# to check if an object has a pacticular attribute or not\n",
    "hasattr(s1, \"name\")"
   ]
  },
  {
   "cell_type": "code",
   "execution_count": 17,
   "id": "bb164f5c",
   "metadata": {},
   "outputs": [
    {
     "data": {
      "text/plain": [
       "False"
      ]
     },
     "execution_count": 17,
     "metadata": {},
     "output_type": "execute_result"
    }
   ],
   "source": [
    "hasattr(s2, \"name\")"
   ]
  },
  {
   "cell_type": "code",
   "execution_count": 18,
   "id": "bfa4dbb4",
   "metadata": {},
   "outputs": [
    {
     "data": {
      "text/plain": [
       "'Sanjana'"
      ]
     },
     "execution_count": 18,
     "metadata": {},
     "output_type": "execute_result"
    }
   ],
   "source": [
    "# to get the value of a key ( to get the value of attribute)\n",
    "getattr(s1, \"name\")"
   ]
  },
  {
   "cell_type": "code",
   "execution_count": 19,
   "id": "e7a9f0c6",
   "metadata": {},
   "outputs": [
    {
     "ename": "AttributeError",
     "evalue": "'student' object has no attribute 'name'",
     "output_type": "error",
     "traceback": [
      "\u001b[1;31m---------------------------------------------------------------------------\u001b[0m",
      "\u001b[1;31mAttributeError\u001b[0m                            Traceback (most recent call last)",
      "\u001b[1;32m<ipython-input-19-0910fab39558>\u001b[0m in \u001b[0;36m<module>\u001b[1;34m\u001b[0m\n\u001b[1;32m----> 1\u001b[1;33m \u001b[0mgetattr\u001b[0m\u001b[1;33m(\u001b[0m\u001b[0ms2\u001b[0m\u001b[1;33m,\u001b[0m\u001b[1;34m\"name\"\u001b[0m\u001b[1;33m)\u001b[0m\u001b[1;33m\u001b[0m\u001b[1;33m\u001b[0m\u001b[0m\n\u001b[0m",
      "\u001b[1;31mAttributeError\u001b[0m: 'student' object has no attribute 'name'"
     ]
    }
   ],
   "source": [
    "getattr(s2,\"name\")"
   ]
  },
  {
   "cell_type": "code",
   "execution_count": 20,
   "id": "0388e541",
   "metadata": {},
   "outputs": [
    {
     "data": {
      "text/plain": [
       "'bantu'"
      ]
     },
     "execution_count": 20,
     "metadata": {},
     "output_type": "execute_result"
    }
   ],
   "source": [
    "getattr(s2,\"name\",\"bantu\")"
   ]
  },
  {
   "cell_type": "code",
   "execution_count": 21,
   "id": "a423a3f9",
   "metadata": {},
   "outputs": [
    {
     "data": {
      "text/plain": [
       "{'rollno': 13}"
      ]
     },
     "execution_count": 21,
     "metadata": {},
     "output_type": "execute_result"
    }
   ],
   "source": [
    "s2.__dict__"
   ]
  },
  {
   "cell_type": "code",
   "execution_count": 22,
   "id": "e39ead0e",
   "metadata": {},
   "outputs": [
    {
     "data": {
      "text/plain": [
       "'Sanjana'"
      ]
     },
     "execution_count": 22,
     "metadata": {},
     "output_type": "execute_result"
    }
   ],
   "source": [
    "getattr(s1,\"name\",\"Sanju\")"
   ]
  },
  {
   "cell_type": "code",
   "execution_count": 23,
   "id": "9678169f",
   "metadata": {},
   "outputs": [
    {
     "name": "stdout",
     "output_type": "stream",
     "text": [
      "{'name': 'Sanjana'}\n"
     ]
    }
   ],
   "source": [
    "print(s1.__dict__)"
   ]
  },
  {
   "cell_type": "code",
   "execution_count": 24,
   "id": "38e883bc",
   "metadata": {},
   "outputs": [],
   "source": [
    "delattr(s3, \"name\")"
   ]
  },
  {
   "cell_type": "code",
   "execution_count": 25,
   "id": "c4d11641",
   "metadata": {},
   "outputs": [
    {
     "data": {
      "text/plain": [
       "{'rollno': 12}"
      ]
     },
     "execution_count": 25,
     "metadata": {},
     "output_type": "execute_result"
    }
   ],
   "source": [
    "s3.__dict__"
   ]
  },
  {
   "cell_type": "code",
   "execution_count": 28,
   "id": "20e104c3",
   "metadata": {},
   "outputs": [
    {
     "name": "stdout",
     "output_type": "stream",
     "text": [
      "{}\n"
     ]
    }
   ],
   "source": [
    "# common attributes for all objects\n",
    "class student1:\n",
    "    pp = 80\n",
    "s11 = student1()\n",
    "s12 = student1()\n",
    "\n",
    "# accessing the attributes of the object\n",
    "print(s11.__dict__)\n"
   ]
  },
  {
   "cell_type": "code",
   "execution_count": 29,
   "id": "f7ca80b6",
   "metadata": {},
   "outputs": [
    {
     "data": {
      "text/plain": [
       "80"
      ]
     },
     "execution_count": 29,
     "metadata": {},
     "output_type": "execute_result"
    }
   ],
   "source": [
    "s11.pp"
   ]
  },
  {
   "cell_type": "code",
   "execution_count": 30,
   "id": "867d53d9",
   "metadata": {},
   "outputs": [],
   "source": [
    "s11.pp = 70"
   ]
  },
  {
   "cell_type": "code",
   "execution_count": 31,
   "id": "65b907da",
   "metadata": {},
   "outputs": [
    {
     "data": {
      "text/plain": [
       "70"
      ]
     },
     "execution_count": 31,
     "metadata": {},
     "output_type": "execute_result"
    }
   ],
   "source": [
    "s11.pp"
   ]
  },
  {
   "cell_type": "code",
   "execution_count": 32,
   "id": "148badfc",
   "metadata": {},
   "outputs": [
    {
     "data": {
      "text/plain": [
       "80"
      ]
     },
     "execution_count": 32,
     "metadata": {},
     "output_type": "execute_result"
    }
   ],
   "source": [
    "s12.pp"
   ]
  },
  {
   "cell_type": "code",
   "execution_count": 33,
   "id": "29ba8dc0",
   "metadata": {},
   "outputs": [
    {
     "ename": "TypeError",
     "evalue": "student_details() takes 0 positional arguments but 1 was given",
     "output_type": "error",
     "traceback": [
      "\u001b[1;31m---------------------------------------------------------------------------\u001b[0m",
      "\u001b[1;31mTypeError\u001b[0m                                 Traceback (most recent call last)",
      "\u001b[1;32m<ipython-input-33-6c2257d85659>\u001b[0m in \u001b[0;36m<module>\u001b[1;34m\u001b[0m\n\u001b[0;32m      4\u001b[0m         \u001b[1;32mpass\u001b[0m\u001b[1;33m\u001b[0m\u001b[1;33m\u001b[0m\u001b[0m\n\u001b[0;32m      5\u001b[0m \u001b[0ms1\u001b[0m \u001b[1;33m=\u001b[0m \u001b[0mstudent2\u001b[0m\u001b[1;33m(\u001b[0m\u001b[1;33m)\u001b[0m\u001b[1;33m\u001b[0m\u001b[1;33m\u001b[0m\u001b[0m\n\u001b[1;32m----> 6\u001b[1;33m \u001b[0ms1\u001b[0m\u001b[1;33m.\u001b[0m\u001b[0mstudent_details\u001b[0m\u001b[1;33m(\u001b[0m\u001b[1;33m)\u001b[0m\u001b[1;33m\u001b[0m\u001b[1;33m\u001b[0m\u001b[0m\n\u001b[0m",
      "\u001b[1;31mTypeError\u001b[0m: student_details() takes 0 positional arguments but 1 was given"
     ]
    }
   ],
   "source": [
    "# self parameter\n",
    "class student2:\n",
    "    def student_details():\n",
    "        pass\n",
    "s1 = student2()\n",
    "s1.student_details()\n",
    "# upper statement is same as student2.student_details(s1)\n",
    "# same as class_name.method_name(object)"
   ]
  },
  {
   "cell_type": "code",
   "execution_count": 38,
   "id": "89da58af",
   "metadata": {},
   "outputs": [
    {
     "name": "stdout",
     "output_type": "stream",
     "text": [
      "Name =  Sanjana_mailagani\n",
      "Name =  Sanjana_mailagani\n"
     ]
    }
   ],
   "source": [
    "class student2:\n",
    "    def student_details(self):\n",
    "        self.name = \"Sanjana_mailagani\"\n",
    "        print(\"Name = \", self.name)\n",
    "        pass\n",
    "s1 = student2()\n",
    "s1.student_details()   # both are same\n",
    "student2.student_details(s1)  # both are same"
   ]
  },
  {
   "cell_type": "code",
   "execution_count": 39,
   "id": "0d74297b",
   "metadata": {},
   "outputs": [
    {
     "name": "stdout",
     "output_type": "stream",
     "text": [
      "Name =  Sanjana_mailagani\n",
      "Percentage =  80\n",
      "Name =  Sanjana_mailagani\n",
      "Percentage =  80\n"
     ]
    }
   ],
   "source": [
    "class student2:\n",
    "    def student_details(self):\n",
    "        self.name = \"Sanjana_mailagani\"\n",
    "        print(\"Name = \", self.name)\n",
    "        percentage = 80     # but here percentage attribute is local to that function only\n",
    "        print(\"Percentage = \", percentage)\n",
    "        pass\n",
    "s1 = student2()\n",
    "s1.student_details()   # both are same\n",
    "student2.student_details(s1)  # both are same"
   ]
  },
  {
   "cell_type": "code",
   "execution_count": 42,
   "id": "88630b89",
   "metadata": {},
   "outputs": [
    {
     "name": "stdout",
     "output_type": "stream",
     "text": [
      "Name =  Sanjana_mailagani\n",
      "Percentage =  80\n",
      "Name =  Sanjana_mailagani\n",
      "Percentage =  80\n"
     ]
    },
    {
     "ename": "NameError",
     "evalue": "name 'percentage' is not defined",
     "output_type": "error",
     "traceback": [
      "\u001b[1;31m---------------------------------------------------------------------------\u001b[0m",
      "\u001b[1;31mNameError\u001b[0m                                 Traceback (most recent call last)",
      "\u001b[1;32m<ipython-input-42-9ae1a73e0e44>\u001b[0m in \u001b[0;36m<module>\u001b[1;34m\u001b[0m\n\u001b[0;32m     17\u001b[0m \u001b[0ms1\u001b[0m\u001b[1;33m.\u001b[0m\u001b[0mstudent_details\u001b[0m\u001b[1;33m(\u001b[0m\u001b[1;33m)\u001b[0m   \u001b[1;31m# both are same\u001b[0m\u001b[1;33m\u001b[0m\u001b[1;33m\u001b[0m\u001b[0m\n\u001b[0;32m     18\u001b[0m \u001b[0mstudent2\u001b[0m\u001b[1;33m.\u001b[0m\u001b[0mstudent_details\u001b[0m\u001b[1;33m(\u001b[0m\u001b[0ms1\u001b[0m\u001b[1;33m)\u001b[0m  \u001b[1;31m# both are same\u001b[0m\u001b[1;33m\u001b[0m\u001b[1;33m\u001b[0m\u001b[0m\n\u001b[1;32m---> 19\u001b[1;33m \u001b[0ms1\u001b[0m\u001b[1;33m.\u001b[0m\u001b[0misPassed\u001b[0m\u001b[1;33m(\u001b[0m\u001b[1;33m)\u001b[0m  \u001b[1;31m# calling the function\u001b[0m\u001b[1;33m\u001b[0m\u001b[1;33m\u001b[0m\u001b[0m\n\u001b[0m",
      "\u001b[1;32m<ipython-input-42-9ae1a73e0e44>\u001b[0m in \u001b[0;36misPassed\u001b[1;34m(self)\u001b[0m\n\u001b[0;32m     10\u001b[0m         \u001b[1;32mpass\u001b[0m\u001b[1;33m\u001b[0m\u001b[1;33m\u001b[0m\u001b[0m\n\u001b[0;32m     11\u001b[0m     \u001b[1;32mdef\u001b[0m \u001b[0misPassed\u001b[0m\u001b[1;33m(\u001b[0m\u001b[0mself\u001b[0m\u001b[1;33m)\u001b[0m\u001b[1;33m:\u001b[0m\u001b[1;33m\u001b[0m\u001b[1;33m\u001b[0m\u001b[0m\n\u001b[1;32m---> 12\u001b[1;33m         \u001b[1;32mif\u001b[0m \u001b[0mpercentage\u001b[0m \u001b[1;33m>\u001b[0m \u001b[0mstudent2\u001b[0m\u001b[1;33m.\u001b[0m\u001b[0mpassing_percent\u001b[0m\u001b[1;33m:\u001b[0m\u001b[1;33m\u001b[0m\u001b[1;33m\u001b[0m\u001b[0m\n\u001b[0m\u001b[0;32m     13\u001b[0m             \u001b[0mprint\u001b[0m\u001b[1;33m(\u001b[0m\u001b[1;34m\"Student is passed\"\u001b[0m\u001b[1;33m)\u001b[0m\u001b[1;33m\u001b[0m\u001b[1;33m\u001b[0m\u001b[0m\n\u001b[0;32m     14\u001b[0m         \u001b[1;32melse\u001b[0m\u001b[1;33m:\u001b[0m\u001b[1;33m\u001b[0m\u001b[1;33m\u001b[0m\u001b[0m\n",
      "\u001b[1;31mNameError\u001b[0m: name 'percentage' is not defined"
     ]
    }
   ],
   "source": [
    "class student2:\n",
    "    \n",
    "    passing_percent = 40\n",
    "    \n",
    "    def student_details(self):\n",
    "        self.name = \"Sanjana_mailagani\"\n",
    "        print(\"Name = \", self.name)\n",
    "        percentage = 80     # but here percentage attribute is local to that function only\n",
    "        print(\"Percentage = \", percentage)\n",
    "        pass\n",
    "    def isPassed(self):\n",
    "        if percentage > student2.passing_percent:\n",
    "            print(\"Student is passed\")\n",
    "        else:\n",
    "            print(\"not passed\")\n",
    "s1 = student2()\n",
    "s1.student_details()   # both are same\n",
    "student2.student_details(s1)  # both are same\n",
    "s1.isPassed()  # calling the function"
   ]
  },
  {
   "cell_type": "code",
   "execution_count": 44,
   "id": "79d1a11a",
   "metadata": {},
   "outputs": [
    {
     "name": "stdout",
     "output_type": "stream",
     "text": [
      "Name =  Sanjana_mailagani\n",
      "Percentage =  80\n",
      "Name =  Sanjana_mailagani\n",
      "Percentage =  80\n",
      "Student is passed\n"
     ]
    }
   ],
   "source": [
    "class student2:\n",
    "    \n",
    "    passing_percent = 40\n",
    "    \n",
    "    def student_details(self):\n",
    "        self.name = \"Sanjana_mailagani\"\n",
    "        print(\"Name = \", self.name)\n",
    "        self.percentage = 80     # here percentage attribute is not local to that function\n",
    "        print(\"Percentage = \", self.percentage)\n",
    "        pass\n",
    "    def isPassed(self):\n",
    "        if self.percentage > student2.passing_percent:\n",
    "            print(\"Student is passed\")\n",
    "        else:\n",
    "            print(\"not passed\")\n",
    "s1 = student2()\n",
    "s1.student_details()   # both are same\n",
    "student2.student_details(s1)  # both are same\n",
    "s1.isPassed()  # calling the function"
   ]
  },
  {
   "cell_type": "code",
   "execution_count": 4,
   "id": "68d152c0",
   "metadata": {},
   "outputs": [],
   "source": [
    "# difference between instance method & static method"
   ]
  },
  {
   "cell_type": "code",
   "execution_count": 1,
   "id": "d6088c08",
   "metadata": {},
   "outputs": [
    {
     "name": "stdout",
     "output_type": "stream",
     "text": [
      "Name =  Sanjana_mailagani\n",
      "Percentage =  80\n",
      "Name =  Sanjana_mailagani\n",
      "Percentage =  80\n",
      "Student is passed\n"
     ]
    },
    {
     "ename": "TypeError",
     "evalue": "Greeting() takes 0 positional arguments but 1 was given",
     "output_type": "error",
     "traceback": [
      "\u001b[1;31m---------------------------------------------------------------------------\u001b[0m",
      "\u001b[1;31mTypeError\u001b[0m                                 Traceback (most recent call last)",
      "\u001b[1;32m<ipython-input-1-965660a7a67a>\u001b[0m in \u001b[0;36m<module>\u001b[1;34m\u001b[0m\n\u001b[0;32m     20\u001b[0m \u001b[0mstudent2\u001b[0m\u001b[1;33m.\u001b[0m\u001b[0mstudent_details\u001b[0m\u001b[1;33m(\u001b[0m\u001b[0ms1\u001b[0m\u001b[1;33m)\u001b[0m  \u001b[1;31m# both are same\u001b[0m\u001b[1;33m\u001b[0m\u001b[1;33m\u001b[0m\u001b[0m\n\u001b[0;32m     21\u001b[0m \u001b[0ms1\u001b[0m\u001b[1;33m.\u001b[0m\u001b[0misPassed\u001b[0m\u001b[1;33m(\u001b[0m\u001b[1;33m)\u001b[0m  \u001b[1;31m# calling the function\u001b[0m\u001b[1;33m\u001b[0m\u001b[1;33m\u001b[0m\u001b[0m\n\u001b[1;32m---> 22\u001b[1;33m \u001b[0ms1\u001b[0m\u001b[1;33m.\u001b[0m\u001b[0mGreeting\u001b[0m\u001b[1;33m(\u001b[0m\u001b[1;33m)\u001b[0m\u001b[1;33m\u001b[0m\u001b[1;33m\u001b[0m\u001b[0m\n\u001b[0m",
      "\u001b[1;31mTypeError\u001b[0m: Greeting() takes 0 positional arguments but 1 was given"
     ]
    }
   ],
   "source": [
    "class student2:\n",
    "    \n",
    "    passing_percent = 40\n",
    "    \n",
    "    def student_details(self):\n",
    "        self.name = \"Sanjana_mailagani\"\n",
    "        print(\"Name = \", self.name)\n",
    "        self.percentage = 80     # here percentage attribute is not local to that function\n",
    "        print(\"Percentage = \", self.percentage)\n",
    "        pass\n",
    "    def isPassed(self):\n",
    "        if self.percentage > student2.passing_percent:\n",
    "            print(\"Student is passed\")\n",
    "        else:\n",
    "            print(\"not passed\")\n",
    "    def Greeting(): # here no argument is needed\n",
    "        print(\"Hey!, Welcome to School\")\n",
    "s1 = student2()\n",
    "s1.student_details()   # both are same\n",
    "student2.student_details(s1)  # both are same\n",
    "s1.isPassed()  # calling the function\n",
    "s1.Greeting()"
   ]
  },
  {
   "cell_type": "code",
   "execution_count": 3,
   "id": "f67bcc0d",
   "metadata": {},
   "outputs": [
    {
     "name": "stdout",
     "output_type": "stream",
     "text": [
      "Name =  Sanjana_mailagani\n",
      "Percentage =  80\n",
      "Name =  Sanjana_mailagani\n",
      "Percentage =  80\n",
      "Student is passed\n",
      "Hey!, Welcome to School\n"
     ]
    }
   ],
   "source": [
    "class student2:\n",
    "    \n",
    "    passing_percent = 40\n",
    "    \n",
    "    def student_details(self):\n",
    "        self.name = \"Sanjana_mailagani\"\n",
    "        print(\"Name = \", self.name)\n",
    "        self.percentage = 80     # here percentage attribute is not local to that function\n",
    "        print(\"Percentage = \", self.percentage)\n",
    "        pass\n",
    "    def isPassed(self):\n",
    "        if self.percentage > student2.passing_percent:\n",
    "            print(\"Student is passed\")\n",
    "        else:\n",
    "            print(\"not passed\")\n",
    "    @staticmethod  # decorator - it will avoid the by default self\n",
    "    def Greeting(): # here no argument is needed\n",
    "        print(\"Hey!, Welcome to School\")\n",
    "s1 = student2()\n",
    "s1.student_details()   # both are same\n",
    "student2.student_details(s1)  # both are same\n",
    "s1.isPassed()  # calling the function\n",
    "s1.Greeting()"
   ]
  },
  {
   "cell_type": "code",
   "execution_count": 6,
   "id": "95ba6f29",
   "metadata": {},
   "outputs": [],
   "source": [
    "# if we want our all objects to possess the same attributes from before, we use init() method\n",
    "# init method"
   ]
  },
  {
   "cell_type": "code",
   "execution_count": 8,
   "id": "90dadf14",
   "metadata": {},
   "outputs": [],
   "source": [
    "class student3:\n",
    "    def __init__(self):\n",
    "        self.name = \"SanjanaMailagani\"\n",
    "        self.RollNumber = 12\n",
    "s21 = student3()\n"
   ]
  },
  {
   "cell_type": "code",
   "execution_count": 10,
   "id": "a7522697",
   "metadata": {},
   "outputs": [
    {
     "data": {
      "text/plain": [
       "{'name': 'SanjanaMailagani', 'RollNumber': 12}"
      ]
     },
     "execution_count": 10,
     "metadata": {},
     "output_type": "execute_result"
    }
   ],
   "source": [
    "s21.__dict__"
   ]
  },
  {
   "cell_type": "code",
   "execution_count": 14,
   "id": "dc145404",
   "metadata": {},
   "outputs": [
    {
     "name": "stdout",
     "output_type": "stream",
     "text": [
      "{'name': 'SanjanaMailagani', 'RollNumber': 12}\n"
     ]
    },
    {
     "data": {
      "text/plain": [
       "{'name': 'Pushpa', 'RollNumber': 13}"
      ]
     },
     "execution_count": 14,
     "metadata": {},
     "output_type": "execute_result"
    }
   ],
   "source": [
    "s22 = student3()\n",
    "print(s22.__dict__)\n",
    "s22.name = \"Pushpa\"\n",
    "s22.RollNumber = 13\n",
    "s22.__dict__"
   ]
  },
  {
   "cell_type": "code",
   "execution_count": 15,
   "id": "5f968818",
   "metadata": {},
   "outputs": [
    {
     "data": {
      "text/plain": [
       "{'name': 'SanjanaMailagani', 'RollNumber': 12}"
      ]
     },
     "execution_count": 15,
     "metadata": {},
     "output_type": "execute_result"
    }
   ],
   "source": [
    "s21.__dict__"
   ]
  },
  {
   "cell_type": "code",
   "execution_count": 17,
   "id": "fb9ffb4f",
   "metadata": {},
   "outputs": [
    {
     "data": {
      "text/plain": [
       "{'name': 'Pushpa', 'RollNumber': 13}"
      ]
     },
     "execution_count": 17,
     "metadata": {},
     "output_type": "execute_result"
    }
   ],
   "source": [
    "s22.__dict__"
   ]
  },
  {
   "cell_type": "code",
   "execution_count": 18,
   "id": "aedd4fc7",
   "metadata": {},
   "outputs": [],
   "source": [
    "# but this method is not so much preferred bcoz in this the same details are taken for every object\n",
    "# if we want to give different data for the attributes, we have to pass the attribute names in the init() method"
   ]
  },
  {
   "cell_type": "code",
   "execution_count": 20,
   "id": "48796e91",
   "metadata": {},
   "outputs": [
    {
     "name": "stdout",
     "output_type": "stream",
     "text": [
      "{'name': 'Sanjana', 'RollNumber': 12}\n"
     ]
    }
   ],
   "source": [
    "class student4:\n",
    "    def __init__(self,name,RollNumber):\n",
    "        self.name = name\n",
    "        self.RollNumber = RollNumber\n",
    "s31 = student4(\"Sanjana\",12)\n",
    "print(s31.__dict__)\n"
   ]
  },
  {
   "cell_type": "code",
   "execution_count": 14,
   "id": "d3327ec7",
   "metadata": {},
   "outputs": [],
   "source": [
    "# private and public modifiers"
   ]
  },
  {
   "cell_type": "code",
   "execution_count": 9,
   "id": "a84bc33d",
   "metadata": {},
   "outputs": [
    {
     "name": "stdout",
     "output_type": "stream",
     "text": [
      "Sanjana 12\n"
     ]
    }
   ],
   "source": [
    "class student5:\n",
    "    def __init__(self,name,RollNumber):\n",
    "        self.__name = name\n",
    "        self.RollNumber = RollNumber\n",
    "    def print_details(self):\n",
    "        print(self.__name, end = \" \")\n",
    "        print(self.RollNumber)\n",
    "s41 = student5(\"Sanjana\",12)\n",
    "s41.print_details()"
   ]
  },
  {
   "cell_type": "code",
   "execution_count": 12,
   "id": "236cb859",
   "metadata": {},
   "outputs": [
    {
     "ename": "AttributeError",
     "evalue": "'student5' object has no attribute 'name'",
     "output_type": "error",
     "traceback": [
      "\u001b[1;31m---------------------------------------------------------------------------\u001b[0m",
      "\u001b[1;31mAttributeError\u001b[0m                            Traceback (most recent call last)",
      "\u001b[1;32m<ipython-input-12-62adabbffc36>\u001b[0m in \u001b[0;36m<module>\u001b[1;34m\u001b[0m\n\u001b[0;32m      7\u001b[0m         \u001b[0mprint\u001b[0m\u001b[1;33m(\u001b[0m\u001b[0mself\u001b[0m\u001b[1;33m.\u001b[0m\u001b[0mRollNumber\u001b[0m\u001b[1;33m)\u001b[0m\u001b[1;33m\u001b[0m\u001b[1;33m\u001b[0m\u001b[0m\n\u001b[0;32m      8\u001b[0m \u001b[0ms41\u001b[0m \u001b[1;33m=\u001b[0m \u001b[0mstudent5\u001b[0m\u001b[1;33m(\u001b[0m\u001b[1;34m\"Sanjana\"\u001b[0m\u001b[1;33m,\u001b[0m\u001b[1;36m12\u001b[0m\u001b[1;33m)\u001b[0m\u001b[1;33m\u001b[0m\u001b[1;33m\u001b[0m\u001b[0m\n\u001b[1;32m----> 9\u001b[1;33m \u001b[0ms41\u001b[0m\u001b[1;33m.\u001b[0m\u001b[0mname\u001b[0m\u001b[1;33m\u001b[0m\u001b[1;33m\u001b[0m\u001b[0m\n\u001b[0m",
      "\u001b[1;31mAttributeError\u001b[0m: 'student5' object has no attribute 'name'"
     ]
    }
   ],
   "source": [
    "class student5:\n",
    "    def __init__(self,name,RollNumber):\n",
    "        self.__name = name\n",
    "        self.RollNumber = RollNumber\n",
    "    def print_details(self):\n",
    "        print(self.__name, end = \" \")\n",
    "        print(self.RollNumber)\n",
    "s41 = student5(\"Sanjana\",12)\n",
    "s41.name"
   ]
  },
  {
   "cell_type": "code",
   "execution_count": 16,
   "id": "96a8b0aa",
   "metadata": {},
   "outputs": [
    {
     "ename": "AttributeError",
     "evalue": "'student5' object has no attribute '__name'",
     "output_type": "error",
     "traceback": [
      "\u001b[1;31m---------------------------------------------------------------------------\u001b[0m",
      "\u001b[1;31mAttributeError\u001b[0m                            Traceback (most recent call last)",
      "\u001b[1;32m<ipython-input-16-a6c9dbb25f52>\u001b[0m in \u001b[0;36m<module>\u001b[1;34m\u001b[0m\n\u001b[0;32m      7\u001b[0m         \u001b[0mprint\u001b[0m\u001b[1;33m(\u001b[0m\u001b[0mself\u001b[0m\u001b[1;33m.\u001b[0m\u001b[0mRollNumber\u001b[0m\u001b[1;33m)\u001b[0m\u001b[1;33m\u001b[0m\u001b[1;33m\u001b[0m\u001b[0m\n\u001b[0;32m      8\u001b[0m \u001b[0ms41\u001b[0m \u001b[1;33m=\u001b[0m \u001b[0mstudent5\u001b[0m\u001b[1;33m(\u001b[0m\u001b[1;34m\"Sanjana\"\u001b[0m\u001b[1;33m,\u001b[0m\u001b[1;36m12\u001b[0m\u001b[1;33m)\u001b[0m\u001b[1;33m\u001b[0m\u001b[1;33m\u001b[0m\u001b[0m\n\u001b[1;32m----> 9\u001b[1;33m \u001b[0ms41\u001b[0m\u001b[1;33m.\u001b[0m\u001b[0m__name\u001b[0m\u001b[1;33m\u001b[0m\u001b[1;33m\u001b[0m\u001b[0m\n\u001b[0m",
      "\u001b[1;31mAttributeError\u001b[0m: 'student5' object has no attribute '__name'"
     ]
    }
   ],
   "source": [
    "class student5:\n",
    "    def __init__(self,name,RollNumber):\n",
    "        self.__name = name\n",
    "        self.RollNumber = RollNumber\n",
    "    def print_details(self):\n",
    "        print(self.__name, end = \" \")\n",
    "        print(self.RollNumber)\n",
    "s41 = student5(\"Sanjana\",12)\n",
    "s41.__name"
   ]
  },
  {
   "cell_type": "code",
   "execution_count": 1,
   "id": "b297277b",
   "metadata": {},
   "outputs": [],
   "source": [
    "# fraction class"
   ]
  },
  {
   "cell_type": "code",
   "execution_count": 4,
   "id": "8aae42cc",
   "metadata": {},
   "outputs": [
    {
     "name": "stdout",
     "output_type": "stream",
     "text": [
      "{'num': 2, 'den': 3}\n"
     ]
    }
   ],
   "source": [
    "class Fraction():\n",
    "    def __init__(self,num,den):\n",
    "        self.num = num\n",
    "        self.den = den\n",
    "f1 = Fraction(2,3)\n",
    "print(f1.__dict__)"
   ]
  },
  {
   "cell_type": "code",
   "execution_count": 5,
   "id": "c799c284",
   "metadata": {},
   "outputs": [],
   "source": [
    "# setting up the default values for the num & den"
   ]
  },
  {
   "cell_type": "code",
   "execution_count": 6,
   "id": "bcaebb65",
   "metadata": {},
   "outputs": [
    {
     "name": "stdout",
     "output_type": "stream",
     "text": [
      "{'num': 2, 'den': 3}\n"
     ]
    }
   ],
   "source": [
    "class Fraction():\n",
    "    def __init__(self,num = 0,den = 1):\n",
    "        self.num = num\n",
    "        self.den = den\n",
    "f1 = Fraction(2,3)\n",
    "print(f1.__dict__)"
   ]
  },
  {
   "cell_type": "code",
   "execution_count": 7,
   "id": "ed73d89a",
   "metadata": {},
   "outputs": [
    {
     "name": "stdout",
     "output_type": "stream",
     "text": [
      "{'num': 3, 'den': 1}\n"
     ]
    }
   ],
   "source": [
    "class Fraction():\n",
    "    def __init__(self,num = 0,den = 1):\n",
    "        self.num = num\n",
    "        self.den = den\n",
    "f1 = Fraction(3)\n",
    "print(f1.__dict__)"
   ]
  },
  {
   "cell_type": "code",
   "execution_count": 1,
   "id": "b3071bc9",
   "metadata": {},
   "outputs": [
    {
     "name": "stdout",
     "output_type": "stream",
     "text": [
      "{'num': 0, 'den': 1}\n"
     ]
    }
   ],
   "source": [
    "class Fraction():\n",
    "    def __init__(self,num = 0,den = 1):\n",
    "        self.num = num\n",
    "        self.den = den\n",
    "f1 = Fraction()\n",
    "print(f1.__dict__)"
   ]
  },
  {
   "cell_type": "code",
   "execution_count": 6,
   "id": "0895eba9",
   "metadata": {},
   "outputs": [
    {
     "name": "stdout",
     "output_type": "stream",
     "text": [
      "3\n"
     ]
    }
   ],
   "source": [
    "class Fraction():\n",
    "    def __init__(self,num = 0,den = 1):\n",
    "        self.num = num\n",
    "        self.den = den\n",
    "    def print_frac(self):\n",
    "        if self.num == 0:\n",
    "            print(0)\n",
    "        elif self.den == 1:\n",
    "            print(self.num)\n",
    "        else:\n",
    "            print(\"Fraction is\", self.num, \"/\" ,self.den)\n",
    "f1 = Fraction(3,1)\n",
    "f1.print_frac()\n"
   ]
  },
  {
   "cell_type": "code",
   "execution_count": 11,
   "id": "7bfb5d19",
   "metadata": {},
   "outputs": [
    {
     "name": "stdout",
     "output_type": "stream",
     "text": [
      "0\n"
     ]
    },
    {
     "data": {
      "text/plain": [
       "(0, '/', 9)"
      ]
     },
     "execution_count": 11,
     "metadata": {},
     "output_type": "execute_result"
    }
   ],
   "source": [
    "class Fraction():\n",
    "    def __init__(self,num = 0,den = 1):\n",
    "        self.num = num\n",
    "        self.den = den\n",
    "    def print_frac(self):\n",
    "        if self.num == 0:\n",
    "            print(0)\n",
    "        elif self.den == 1:\n",
    "            print(self.num)\n",
    "        else:\n",
    "            print(\"Fraction is\", self.num, \"/\" ,self.den)\n",
    "    def simplify(self):\n",
    "        if self.num == 0:\n",
    "            self.den == 1\n",
    "            return self.num, '/', self.den\n",
    "        current = min(self.num, self.den)\n",
    "        while current > 1:\n",
    "            if self.num % current == 0 and self.den % current == 0:\n",
    "                break\n",
    "            else:\n",
    "                current -= 1\n",
    "        self.num = self.num // current\n",
    "        self.den = self.den // current\n",
    "        print(self.num, \"/\" , self.den)\n",
    "f1 = Fraction(0,9)\n",
    "f1.print_frac()\n",
    "f1.simplify()"
   ]
  },
  {
   "cell_type": "code",
   "execution_count": null,
   "id": "6db3c1bc",
   "metadata": {},
   "outputs": [],
   "source": []
  }
 ],
 "metadata": {
  "kernelspec": {
   "display_name": "Python 3",
   "language": "python",
   "name": "python3"
  },
  "language_info": {
   "codemirror_mode": {
    "name": "ipython",
    "version": 3
   },
   "file_extension": ".py",
   "mimetype": "text/x-python",
   "name": "python",
   "nbconvert_exporter": "python",
   "pygments_lexer": "ipython3",
   "version": "3.8.8"
  }
 },
 "nbformat": 4,
 "nbformat_minor": 5
}
