{
 "cells": [
  {
   "cell_type": "markdown",
   "id": "32b87a14",
   "metadata": {},
   "source": [
    "# Sorting in ascending & descending order using SORT()"
   ]
  },
  {
   "cell_type": "code",
   "execution_count": 9,
   "id": "4b17419a",
   "metadata": {},
   "outputs": [
    {
     "name": "stdout",
     "output_type": "stream",
     "text": [
      "['5', '4', '3']\n"
     ]
    }
   ],
   "source": [
    "list1 =['4','3','5']\n",
    "list1.sort(reverse=True)\n",
    "print(list1)"
   ]
  },
  {
   "cell_type": "code",
   "execution_count": 7,
   "id": "7dda8d50",
   "metadata": {},
   "outputs": [
    {
     "name": "stdout",
     "output_type": "stream",
     "text": [
      "['BMW', 'Ford', 'Volvo']\n"
     ]
    }
   ],
   "source": [
    "cars = ['Ford', 'BMW', 'Volvo']\n",
    "\n",
    "cars.sort()\n",
    "print(cars)"
   ]
  },
  {
   "cell_type": "code",
   "execution_count": 10,
   "id": "d210a9eb",
   "metadata": {},
   "outputs": [
    {
     "name": "stdout",
     "output_type": "stream",
     "text": [
      "[2, 4, 5]\n"
     ]
    }
   ],
   "source": [
    "list2=[5,2,4]\n",
    "list2.sort()\n",
    "print(list2)"
   ]
  },
  {
   "cell_type": "code",
   "execution_count": 15,
   "id": "509bac7f",
   "metadata": {},
   "outputs": [
    {
     "name": "stdout",
     "output_type": "stream",
     "text": [
      "[5, 49, 49]\n"
     ]
    }
   ],
   "source": [
    "list3=[5,49,49]\n",
    "list3.sort()\n",
    "print(list3)"
   ]
  },
  {
   "cell_type": "markdown",
   "id": "5acba07c",
   "metadata": {},
   "source": [
    "# accessing elements in list"
   ]
  },
  {
   "cell_type": "code",
   "execution_count": 30,
   "id": "6aa53d9f",
   "metadata": {},
   "outputs": [
    {
     "name": "stdout",
     "output_type": "stream",
     "text": [
      "23\n"
     ]
    }
   ],
   "source": [
    "list_1=[23,14,56,45,38]\n",
    "print(list_1[-5])"
   ]
  },
  {
   "cell_type": "code",
   "execution_count": null,
   "id": "937b9ae8",
   "metadata": {},
   "outputs": [],
   "source": [
    "list_1=[23,14,56,45,38]\n",
    "list_1.pop()\n",
    "print()"
   ]
  }
 ],
 "metadata": {
  "kernelspec": {
   "display_name": "Python 3",
   "language": "python",
   "name": "python3"
  },
  "language_info": {
   "codemirror_mode": {
    "name": "ipython",
    "version": 3
   },
   "file_extension": ".py",
   "mimetype": "text/x-python",
   "name": "python",
   "nbconvert_exporter": "python",
   "pygments_lexer": "ipython3",
   "version": "3.8.8"
  }
 },
 "nbformat": 4,
 "nbformat_minor": 5
}
